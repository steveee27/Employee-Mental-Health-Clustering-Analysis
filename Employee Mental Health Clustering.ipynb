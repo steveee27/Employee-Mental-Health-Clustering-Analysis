{
 "cells": [
  {
   "cell_type": "markdown",
   "id": "dd5d2146",
   "metadata": {},
   "source": [
    "1. **DAVIN EDBERT SANTOSO HALIM** - **2602067086**\n",
    "2. **STEVE MARCELLO LIEM** - **2602071410**\n",
    "3. **YOSEP KRISNA SUGIHARTO** - **2602074450**"
   ]
  },
  {
   "cell_type": "markdown",
   "id": "0fc2d332",
   "metadata": {},
   "source": [
    "# **About Dataset**"
   ]
  },
  {
   "cell_type": "markdown",
   "id": "0f1d7583",
   "metadata": {},
   "source": [
    "The dataset provided pertains to a survey conducted in 2014 aimed at gauging attitudes toward mental health and the prevalence of mental health disorders in the technology workplace. It encompasses various demographic and work-related attributes, such as age, gender, country of residence, self-employment status, family history of mental illness, treatment sought for mental health conditions, and whether the condition affects work performance. Additionally, it includes insights on company size, remote work status, tech company affiliation, availability of mental health benefits and care options, employer discussions on mental health in wellness programs, provision of resources for seeking help, anonymity regarding mental health treatment, and ease of taking medical leave due to mental health reasons. The dataset further explores perceptions on discussing mental health issues with employers, coworkers, and supervisors during interviews or in the workplace. It also delves into the comparison between mental and physical health prioritization by employers and the observation of negative consequences for colleagues with mental health conditions in the workplace. The dataset concludes with an open-ended section for additional notes or comments. This comprehensive dataset serves as a resource to analyze and understand attitudes, perceptions, and behaviors surrounding mental health in the tech workplace, offering valuable insights for research and policy-making within this domain."
   ]
  },
  {
   "cell_type": "markdown",
   "id": "4557f717",
   "metadata": {},
   "source": [
    "Detailed Dataset Information comes from https://www.kaggle.com/datasets/osmi/mental-health-in-tech-survey\n",
    "1. **`Timestamp`**\n",
    "2. **`Age`**\n",
    "3. **`Gender`**\n",
    "4. **`Country`**\n",
    "5. **`state`**: If you live in the United States, which state or territory do you live in?\n",
    "6. **`self_employed`**: Are you self-employed?\n",
    "7. **`family_history`**: Do you have a family history of mental illness?\n",
    "8. **`treatment`**: Have you sought treatment for a mental health condition?\n",
    "9. **`work_interfere`**: If you have a mental health condition, do you feel that it interferes with your work?\n",
    "10. **`no_employees`**: How many employees does your company or organization have?\n",
    "11. **`remote_work`**: Do you work remotely (outside of an office) at least 50% of the time?\n",
    "12. **`tech_company`**: Is your employer primarily a tech company/organization?\n",
    "13. **`benefits`**: Does your employer provide mental health benefits?\n",
    "14. **`care_options`**: Do you know the options for mental health care your employer provides?\n",
    "15. **`wellness_program`**: Has your employer ever discussed mental health as part of an employee wellness program?\n",
    "16. **`seek_help`**: Does your employer provide resources to learn more about mental health issues and how to seek help?\n",
    "17. **`anonymity`**: Is your anonymity protected if you choose to take advantage of mental health or substance abuse treatment resources?\n",
    "18. **`leave`**: How easy is it for you to take medical leave for a mental health condition?\n",
    "19. **`mental_health_consequence`**: Do you think that discussing a mental health issue with your employer would have negative consequences?\n",
    "20. **`phys_health_consequence`**: Do you think that discussing a physical health issue with your employer would have negative consequences?\n",
    "21. **`coworkers`**: Would you be willing to discuss a mental health issue with your coworkers?\n",
    "22. **`supervisor`**: Would you be willing to discuss a mental health issue with your direct supervisor(s)?\n",
    "23. **`mental_health_interview`**: Would you bring up a mental health issue with a potential employer in an interview?\n",
    "24. **`phys_health_interview`**: Would you bring up a physical health issue with a potential employer in an interview?\n",
    "25. **`mental_vs_physical`**: Do you feel that your employer takes mental health as seriously as physical health?\n",
    "26. **`obs_consequence`**: Have you heard of or observed negative consequences for coworkers with mental health conditions in your workplace?\n",
    "27. **`comments`**: Any additional notes or comments"
   ]
  },
  {
   "cell_type": "markdown",
   "id": "b6f7a320",
   "metadata": {},
   "source": [
    "# **Data Understanding**"
   ]
  },
  {
   "cell_type": "code",
   "execution_count": 184,
   "id": "b9aa7303",
   "metadata": {},
   "outputs": [],
   "source": [
    "import numpy as np\n",
    "import pandas as pd\n",
    "import matplotlib.pyplot as plt\n",
    "import seaborn as sns\n",
    "import warnings\n",
    "warnings.filterwarnings(\"ignore\")\n",
    "from sklearn.preprocessing import StandardScaler"
   ]
  },
  {
   "cell_type": "code",
   "execution_count": 185,
   "id": "73b20d01",
   "metadata": {},
   "outputs": [
    {
     "data": {
      "text/html": [
       "<div>\n",
       "<style scoped>\n",
       "    .dataframe tbody tr th:only-of-type {\n",
       "        vertical-align: middle;\n",
       "    }\n",
       "\n",
       "    .dataframe tbody tr th {\n",
       "        vertical-align: top;\n",
       "    }\n",
       "\n",
       "    .dataframe thead th {\n",
       "        text-align: right;\n",
       "    }\n",
       "</style>\n",
       "<table border=\"1\" class=\"dataframe\">\n",
       "  <thead>\n",
       "    <tr style=\"text-align: right;\">\n",
       "      <th></th>\n",
       "      <th>Timestamp</th>\n",
       "      <th>Age</th>\n",
       "      <th>Gender</th>\n",
       "      <th>Country</th>\n",
       "      <th>state</th>\n",
       "      <th>self_employed</th>\n",
       "      <th>family_history</th>\n",
       "      <th>treatment</th>\n",
       "      <th>work_interfere</th>\n",
       "      <th>no_employees</th>\n",
       "      <th>...</th>\n",
       "      <th>leave</th>\n",
       "      <th>mental_health_consequence</th>\n",
       "      <th>phys_health_consequence</th>\n",
       "      <th>coworkers</th>\n",
       "      <th>supervisor</th>\n",
       "      <th>mental_health_interview</th>\n",
       "      <th>phys_health_interview</th>\n",
       "      <th>mental_vs_physical</th>\n",
       "      <th>obs_consequence</th>\n",
       "      <th>comments</th>\n",
       "    </tr>\n",
       "  </thead>\n",
       "  <tbody>\n",
       "    <tr>\n",
       "      <th>0</th>\n",
       "      <td>2014-08-27 11:29:31</td>\n",
       "      <td>37</td>\n",
       "      <td>Female</td>\n",
       "      <td>United States</td>\n",
       "      <td>IL</td>\n",
       "      <td>NaN</td>\n",
       "      <td>No</td>\n",
       "      <td>Yes</td>\n",
       "      <td>Often</td>\n",
       "      <td>6-25</td>\n",
       "      <td>...</td>\n",
       "      <td>Somewhat easy</td>\n",
       "      <td>No</td>\n",
       "      <td>No</td>\n",
       "      <td>Some of them</td>\n",
       "      <td>Yes</td>\n",
       "      <td>No</td>\n",
       "      <td>Maybe</td>\n",
       "      <td>Yes</td>\n",
       "      <td>No</td>\n",
       "      <td>NaN</td>\n",
       "    </tr>\n",
       "    <tr>\n",
       "      <th>1</th>\n",
       "      <td>2014-08-27 11:29:37</td>\n",
       "      <td>44</td>\n",
       "      <td>M</td>\n",
       "      <td>United States</td>\n",
       "      <td>IN</td>\n",
       "      <td>NaN</td>\n",
       "      <td>No</td>\n",
       "      <td>No</td>\n",
       "      <td>Rarely</td>\n",
       "      <td>More than 1000</td>\n",
       "      <td>...</td>\n",
       "      <td>Don't know</td>\n",
       "      <td>Maybe</td>\n",
       "      <td>No</td>\n",
       "      <td>No</td>\n",
       "      <td>No</td>\n",
       "      <td>No</td>\n",
       "      <td>No</td>\n",
       "      <td>Don't know</td>\n",
       "      <td>No</td>\n",
       "      <td>NaN</td>\n",
       "    </tr>\n",
       "    <tr>\n",
       "      <th>2</th>\n",
       "      <td>2014-08-27 11:29:44</td>\n",
       "      <td>32</td>\n",
       "      <td>Male</td>\n",
       "      <td>Canada</td>\n",
       "      <td>NaN</td>\n",
       "      <td>NaN</td>\n",
       "      <td>No</td>\n",
       "      <td>No</td>\n",
       "      <td>Rarely</td>\n",
       "      <td>6-25</td>\n",
       "      <td>...</td>\n",
       "      <td>Somewhat difficult</td>\n",
       "      <td>No</td>\n",
       "      <td>No</td>\n",
       "      <td>Yes</td>\n",
       "      <td>Yes</td>\n",
       "      <td>Yes</td>\n",
       "      <td>Yes</td>\n",
       "      <td>No</td>\n",
       "      <td>No</td>\n",
       "      <td>NaN</td>\n",
       "    </tr>\n",
       "    <tr>\n",
       "      <th>3</th>\n",
       "      <td>2014-08-27 11:29:46</td>\n",
       "      <td>31</td>\n",
       "      <td>Male</td>\n",
       "      <td>United Kingdom</td>\n",
       "      <td>NaN</td>\n",
       "      <td>NaN</td>\n",
       "      <td>Yes</td>\n",
       "      <td>Yes</td>\n",
       "      <td>Often</td>\n",
       "      <td>26-100</td>\n",
       "      <td>...</td>\n",
       "      <td>Somewhat difficult</td>\n",
       "      <td>Yes</td>\n",
       "      <td>Yes</td>\n",
       "      <td>Some of them</td>\n",
       "      <td>No</td>\n",
       "      <td>Maybe</td>\n",
       "      <td>Maybe</td>\n",
       "      <td>No</td>\n",
       "      <td>Yes</td>\n",
       "      <td>NaN</td>\n",
       "    </tr>\n",
       "    <tr>\n",
       "      <th>4</th>\n",
       "      <td>2014-08-27 11:30:22</td>\n",
       "      <td>31</td>\n",
       "      <td>Male</td>\n",
       "      <td>United States</td>\n",
       "      <td>TX</td>\n",
       "      <td>NaN</td>\n",
       "      <td>No</td>\n",
       "      <td>No</td>\n",
       "      <td>Never</td>\n",
       "      <td>100-500</td>\n",
       "      <td>...</td>\n",
       "      <td>Don't know</td>\n",
       "      <td>No</td>\n",
       "      <td>No</td>\n",
       "      <td>Some of them</td>\n",
       "      <td>Yes</td>\n",
       "      <td>Yes</td>\n",
       "      <td>Yes</td>\n",
       "      <td>Don't know</td>\n",
       "      <td>No</td>\n",
       "      <td>NaN</td>\n",
       "    </tr>\n",
       "  </tbody>\n",
       "</table>\n",
       "<p>5 rows × 27 columns</p>\n",
       "</div>"
      ],
      "text/plain": [
       "             Timestamp  Age  Gender         Country state self_employed  \\\n",
       "0  2014-08-27 11:29:31   37  Female   United States    IL           NaN   \n",
       "1  2014-08-27 11:29:37   44       M   United States    IN           NaN   \n",
       "2  2014-08-27 11:29:44   32    Male          Canada   NaN           NaN   \n",
       "3  2014-08-27 11:29:46   31    Male  United Kingdom   NaN           NaN   \n",
       "4  2014-08-27 11:30:22   31    Male   United States    TX           NaN   \n",
       "\n",
       "  family_history treatment work_interfere    no_employees  ...  \\\n",
       "0             No       Yes          Often            6-25  ...   \n",
       "1             No        No         Rarely  More than 1000  ...   \n",
       "2             No        No         Rarely            6-25  ...   \n",
       "3            Yes       Yes          Often          26-100  ...   \n",
       "4             No        No          Never         100-500  ...   \n",
       "\n",
       "                leave mental_health_consequence phys_health_consequence  \\\n",
       "0       Somewhat easy                        No                      No   \n",
       "1          Don't know                     Maybe                      No   \n",
       "2  Somewhat difficult                        No                      No   \n",
       "3  Somewhat difficult                       Yes                     Yes   \n",
       "4          Don't know                        No                      No   \n",
       "\n",
       "      coworkers supervisor mental_health_interview phys_health_interview  \\\n",
       "0  Some of them        Yes                      No                 Maybe   \n",
       "1            No         No                      No                    No   \n",
       "2           Yes        Yes                     Yes                   Yes   \n",
       "3  Some of them         No                   Maybe                 Maybe   \n",
       "4  Some of them        Yes                     Yes                   Yes   \n",
       "\n",
       "  mental_vs_physical obs_consequence comments  \n",
       "0                Yes              No      NaN  \n",
       "1         Don't know              No      NaN  \n",
       "2                 No              No      NaN  \n",
       "3                 No             Yes      NaN  \n",
       "4         Don't know              No      NaN  \n",
       "\n",
       "[5 rows x 27 columns]"
      ]
     },
     "execution_count": 185,
     "metadata": {},
     "output_type": "execute_result"
    }
   ],
   "source": [
    "df = pd.read_csv(\"survey.csv\")\n",
    "df.head()"
   ]
  },
  {
   "cell_type": "code",
   "execution_count": 186,
   "id": "4237ed04",
   "metadata": {},
   "outputs": [
    {
     "data": {
      "text/plain": [
       "(1259, 27)"
      ]
     },
     "execution_count": 186,
     "metadata": {},
     "output_type": "execute_result"
    }
   ],
   "source": [
    "df.shape"
   ]
  },
  {
   "cell_type": "markdown",
   "id": "17fe64a7",
   "metadata": {},
   "source": [
    "There are **1259** observations or data points, each characterized by **27** different features or variables."
   ]
  },
  {
   "cell_type": "code",
   "execution_count": 187,
   "id": "24cd5a64",
   "metadata": {},
   "outputs": [
    {
     "name": "stdout",
     "output_type": "stream",
     "text": [
      "<class 'pandas.core.frame.DataFrame'>\n",
      "RangeIndex: 1259 entries, 0 to 1258\n",
      "Data columns (total 27 columns):\n",
      " #   Column                     Non-Null Count  Dtype \n",
      "---  ------                     --------------  ----- \n",
      " 0   Timestamp                  1259 non-null   object\n",
      " 1   Age                        1259 non-null   int64 \n",
      " 2   Gender                     1259 non-null   object\n",
      " 3   Country                    1259 non-null   object\n",
      " 4   state                      744 non-null    object\n",
      " 5   self_employed              1241 non-null   object\n",
      " 6   family_history             1259 non-null   object\n",
      " 7   treatment                  1259 non-null   object\n",
      " 8   work_interfere             995 non-null    object\n",
      " 9   no_employees               1259 non-null   object\n",
      " 10  remote_work                1259 non-null   object\n",
      " 11  tech_company               1259 non-null   object\n",
      " 12  benefits                   1259 non-null   object\n",
      " 13  care_options               1259 non-null   object\n",
      " 14  wellness_program           1259 non-null   object\n",
      " 15  seek_help                  1259 non-null   object\n",
      " 16  anonymity                  1259 non-null   object\n",
      " 17  leave                      1259 non-null   object\n",
      " 18  mental_health_consequence  1259 non-null   object\n",
      " 19  phys_health_consequence    1259 non-null   object\n",
      " 20  coworkers                  1259 non-null   object\n",
      " 21  supervisor                 1259 non-null   object\n",
      " 22  mental_health_interview    1259 non-null   object\n",
      " 23  phys_health_interview      1259 non-null   object\n",
      " 24  mental_vs_physical         1259 non-null   object\n",
      " 25  obs_consequence            1259 non-null   object\n",
      " 26  comments                   164 non-null    object\n",
      "dtypes: int64(1), object(26)\n",
      "memory usage: 265.7+ KB\n"
     ]
    }
   ],
   "source": [
    "df.info()"
   ]
  },
  {
   "cell_type": "code",
   "execution_count": 188,
   "id": "2451bab1",
   "metadata": {},
   "outputs": [],
   "source": [
    "df.columns = [col.lower() for col in df.columns]"
   ]
  },
  {
   "cell_type": "code",
   "execution_count": 189,
   "id": "acc69740",
   "metadata": {},
   "outputs": [
    {
     "data": {
      "text/plain": [
       "Index(['timestamp', 'age', 'gender', 'country', 'state', 'self_employed',\n",
       "       'family_history', 'treatment', 'work_interfere', 'no_employees',\n",
       "       'remote_work', 'tech_company', 'benefits', 'care_options',\n",
       "       'wellness_program', 'seek_help', 'anonymity', 'leave',\n",
       "       'mental_health_consequence', 'phys_health_consequence', 'coworkers',\n",
       "       'supervisor', 'mental_health_interview', 'phys_health_interview',\n",
       "       'mental_vs_physical', 'obs_consequence', 'comments'],\n",
       "      dtype='object')"
      ]
     },
     "execution_count": 189,
     "metadata": {},
     "output_type": "execute_result"
    }
   ],
   "source": [
    "df.columns"
   ]
  },
  {
   "cell_type": "code",
   "execution_count": 190,
   "id": "652b9120",
   "metadata": {},
   "outputs": [
    {
     "data": {
      "text/html": [
       "<div>\n",
       "<style scoped>\n",
       "    .dataframe tbody tr th:only-of-type {\n",
       "        vertical-align: middle;\n",
       "    }\n",
       "\n",
       "    .dataframe tbody tr th {\n",
       "        vertical-align: top;\n",
       "    }\n",
       "\n",
       "    .dataframe thead th {\n",
       "        text-align: right;\n",
       "    }\n",
       "</style>\n",
       "<table border=\"1\" class=\"dataframe\">\n",
       "  <thead>\n",
       "    <tr style=\"text-align: right;\">\n",
       "      <th></th>\n",
       "      <th>Missing Percentage</th>\n",
       "      <th>Data Type</th>\n",
       "      <th>Unique Values</th>\n",
       "    </tr>\n",
       "  </thead>\n",
       "  <tbody>\n",
       "    <tr>\n",
       "      <th>comments</th>\n",
       "      <td>86.973789</td>\n",
       "      <td>object</td>\n",
       "      <td>160</td>\n",
       "    </tr>\n",
       "    <tr>\n",
       "      <th>state</th>\n",
       "      <td>40.905481</td>\n",
       "      <td>object</td>\n",
       "      <td>45</td>\n",
       "    </tr>\n",
       "    <tr>\n",
       "      <th>work_interfere</th>\n",
       "      <td>20.969023</td>\n",
       "      <td>object</td>\n",
       "      <td>4</td>\n",
       "    </tr>\n",
       "    <tr>\n",
       "      <th>self_employed</th>\n",
       "      <td>1.429706</td>\n",
       "      <td>object</td>\n",
       "      <td>2</td>\n",
       "    </tr>\n",
       "    <tr>\n",
       "      <th>seek_help</th>\n",
       "      <td>0.000000</td>\n",
       "      <td>object</td>\n",
       "      <td>3</td>\n",
       "    </tr>\n",
       "    <tr>\n",
       "      <th>obs_consequence</th>\n",
       "      <td>0.000000</td>\n",
       "      <td>object</td>\n",
       "      <td>2</td>\n",
       "    </tr>\n",
       "    <tr>\n",
       "      <th>mental_vs_physical</th>\n",
       "      <td>0.000000</td>\n",
       "      <td>object</td>\n",
       "      <td>3</td>\n",
       "    </tr>\n",
       "    <tr>\n",
       "      <th>phys_health_interview</th>\n",
       "      <td>0.000000</td>\n",
       "      <td>object</td>\n",
       "      <td>3</td>\n",
       "    </tr>\n",
       "    <tr>\n",
       "      <th>mental_health_interview</th>\n",
       "      <td>0.000000</td>\n",
       "      <td>object</td>\n",
       "      <td>3</td>\n",
       "    </tr>\n",
       "    <tr>\n",
       "      <th>supervisor</th>\n",
       "      <td>0.000000</td>\n",
       "      <td>object</td>\n",
       "      <td>3</td>\n",
       "    </tr>\n",
       "    <tr>\n",
       "      <th>coworkers</th>\n",
       "      <td>0.000000</td>\n",
       "      <td>object</td>\n",
       "      <td>3</td>\n",
       "    </tr>\n",
       "    <tr>\n",
       "      <th>phys_health_consequence</th>\n",
       "      <td>0.000000</td>\n",
       "      <td>object</td>\n",
       "      <td>3</td>\n",
       "    </tr>\n",
       "    <tr>\n",
       "      <th>mental_health_consequence</th>\n",
       "      <td>0.000000</td>\n",
       "      <td>object</td>\n",
       "      <td>3</td>\n",
       "    </tr>\n",
       "    <tr>\n",
       "      <th>leave</th>\n",
       "      <td>0.000000</td>\n",
       "      <td>object</td>\n",
       "      <td>5</td>\n",
       "    </tr>\n",
       "    <tr>\n",
       "      <th>anonymity</th>\n",
       "      <td>0.000000</td>\n",
       "      <td>object</td>\n",
       "      <td>3</td>\n",
       "    </tr>\n",
       "    <tr>\n",
       "      <th>timestamp</th>\n",
       "      <td>0.000000</td>\n",
       "      <td>object</td>\n",
       "      <td>1246</td>\n",
       "    </tr>\n",
       "    <tr>\n",
       "      <th>wellness_program</th>\n",
       "      <td>0.000000</td>\n",
       "      <td>object</td>\n",
       "      <td>3</td>\n",
       "    </tr>\n",
       "    <tr>\n",
       "      <th>age</th>\n",
       "      <td>0.000000</td>\n",
       "      <td>int64</td>\n",
       "      <td>53</td>\n",
       "    </tr>\n",
       "    <tr>\n",
       "      <th>benefits</th>\n",
       "      <td>0.000000</td>\n",
       "      <td>object</td>\n",
       "      <td>3</td>\n",
       "    </tr>\n",
       "    <tr>\n",
       "      <th>tech_company</th>\n",
       "      <td>0.000000</td>\n",
       "      <td>object</td>\n",
       "      <td>2</td>\n",
       "    </tr>\n",
       "    <tr>\n",
       "      <th>remote_work</th>\n",
       "      <td>0.000000</td>\n",
       "      <td>object</td>\n",
       "      <td>2</td>\n",
       "    </tr>\n",
       "    <tr>\n",
       "      <th>no_employees</th>\n",
       "      <td>0.000000</td>\n",
       "      <td>object</td>\n",
       "      <td>6</td>\n",
       "    </tr>\n",
       "    <tr>\n",
       "      <th>treatment</th>\n",
       "      <td>0.000000</td>\n",
       "      <td>object</td>\n",
       "      <td>2</td>\n",
       "    </tr>\n",
       "    <tr>\n",
       "      <th>family_history</th>\n",
       "      <td>0.000000</td>\n",
       "      <td>object</td>\n",
       "      <td>2</td>\n",
       "    </tr>\n",
       "    <tr>\n",
       "      <th>country</th>\n",
       "      <td>0.000000</td>\n",
       "      <td>object</td>\n",
       "      <td>48</td>\n",
       "    </tr>\n",
       "    <tr>\n",
       "      <th>gender</th>\n",
       "      <td>0.000000</td>\n",
       "      <td>object</td>\n",
       "      <td>49</td>\n",
       "    </tr>\n",
       "    <tr>\n",
       "      <th>care_options</th>\n",
       "      <td>0.000000</td>\n",
       "      <td>object</td>\n",
       "      <td>3</td>\n",
       "    </tr>\n",
       "  </tbody>\n",
       "</table>\n",
       "</div>"
      ],
      "text/plain": [
       "                           Missing Percentage Data Type  Unique Values\n",
       "comments                            86.973789    object            160\n",
       "state                               40.905481    object             45\n",
       "work_interfere                      20.969023    object              4\n",
       "self_employed                        1.429706    object              2\n",
       "seek_help                            0.000000    object              3\n",
       "obs_consequence                      0.000000    object              2\n",
       "mental_vs_physical                   0.000000    object              3\n",
       "phys_health_interview                0.000000    object              3\n",
       "mental_health_interview              0.000000    object              3\n",
       "supervisor                           0.000000    object              3\n",
       "coworkers                            0.000000    object              3\n",
       "phys_health_consequence              0.000000    object              3\n",
       "mental_health_consequence            0.000000    object              3\n",
       "leave                                0.000000    object              5\n",
       "anonymity                            0.000000    object              3\n",
       "timestamp                            0.000000    object           1246\n",
       "wellness_program                     0.000000    object              3\n",
       "age                                  0.000000     int64             53\n",
       "benefits                             0.000000    object              3\n",
       "tech_company                         0.000000    object              2\n",
       "remote_work                          0.000000    object              2\n",
       "no_employees                         0.000000    object              6\n",
       "treatment                            0.000000    object              2\n",
       "family_history                       0.000000    object              2\n",
       "country                              0.000000    object             48\n",
       "gender                               0.000000    object             49\n",
       "care_options                         0.000000    object              3"
      ]
     },
     "execution_count": 190,
     "metadata": {},
     "output_type": "execute_result"
    }
   ],
   "source": [
    "missing_values = df.isnull().mean() * 100\n",
    "data_types = df.dtypes\n",
    "unique_values_count = df.nunique()\n",
    "\n",
    "summary_df = pd.DataFrame({\n",
    "    'Missing Percentage': missing_values, \n",
    "    'Data Type': data_types, \n",
    "    'Unique Values': unique_values_count\n",
    "})\n",
    "\n",
    "summary_df.sort_values(by='Missing Percentage', ascending=False)"
   ]
  },
  {
   "cell_type": "markdown",
   "id": "084d6059",
   "metadata": {},
   "source": [
    "1. **Comments (86.97% Missing):** This column presents an exceptionally **high percentage of missing data**, signifying a substantial lack of information. It likely contains unstructured text responses, which are **intricate to analyze** within a clustering framework **without employing specific text analysis techniques**. Due to the overwhelming absence of data and the complexity introduced by unstructured text, it's prudent to exclude this column from the analysis to maintain the integrity and reliability of the clustering process.\n",
    "\n",
    "2. **State (40.91% Missing):** With nearly **41% missing data**, this column lacks substantial information. Additionally, our analysis **doesn't aim for geographical specificity**; hence, the granularity provided by individual states might not contribute significantly to the intended analysis. Omitting this column ensures that the analysis focuses more on relevant attributes, enhancing the quality and applicability of the clustering process.\n",
    "\n",
    "3. **Work_interfere (20.97% Missing):** Although essential in gauging work-related mental health impacts, this column contains a significant 21% missing data. This compromises data reliability and analysis quality, **potentially skewing outcomes if retained**. Prioritizing completeness in the dataset for a comprehensive understanding of workplace mental health attitudes necessitates excluding this column. This decision ensures the analysis relies on more complete and dependable information, enhancing its integrity and validity.\n",
    "\n",
    "4. **Timestamp:** The exact survey completion time contained in this column **isn't particularly pertinent** for clustering purposes unless a time-based analysis is specifically targeted. Given that the focus is on understanding attitudes and perceptions towards mental health rather than time-related patterns, excluding the timestamp column won't compromise the clustering analysis."
   ]
  },
  {
   "cell_type": "code",
   "execution_count": 191,
   "id": "d950a4cf",
   "metadata": {
    "scrolled": false
   },
   "outputs": [],
   "source": [
    "df = df.drop(['timestamp', 'state', 'comments', 'work_interfere'], axis=1)"
   ]
  },
  {
   "cell_type": "markdown",
   "id": "40aa14db",
   "metadata": {},
   "source": [
    "Dropping the unrelevant column using **'df.drop'**"
   ]
  },
  {
   "cell_type": "code",
   "execution_count": 192,
   "id": "ea9c59a6",
   "metadata": {},
   "outputs": [
    {
     "name": "stdout",
     "output_type": "stream",
     "text": [
      "Numerical Columns: ['age']\n",
      "\n",
      "Categorical Columns: ['gender', 'country', 'self_employed', 'family_history', 'treatment', 'no_employees', 'remote_work', 'tech_company', 'benefits', 'care_options', 'wellness_program', 'seek_help', 'anonymity', 'leave', 'mental_health_consequence', 'phys_health_consequence', 'coworkers', 'supervisor', 'mental_health_interview', 'phys_health_interview', 'mental_vs_physical', 'obs_consequence']\n"
     ]
    }
   ],
   "source": [
    "numerical_columns = df.select_dtypes(include=['number']).columns.tolist()\n",
    "categorical_columns = df.select_dtypes(exclude=['number']).columns.tolist()\n",
    "\n",
    "# Print the lists of column names\n",
    "print(\"Numerical Columns:\", numerical_columns)\n",
    "print()\n",
    "print(\"Categorical Columns:\", categorical_columns)"
   ]
  },
  {
   "cell_type": "code",
   "execution_count": 193,
   "id": "ff9f7425",
   "metadata": {},
   "outputs": [
    {
     "name": "stdout",
     "output_type": "stream",
     "text": [
      "age                          0.000000\n",
      "gender                       0.000000\n",
      "country                      0.000000\n",
      "self_employed                1.429706\n",
      "family_history               0.000000\n",
      "treatment                    0.000000\n",
      "no_employees                 0.000000\n",
      "remote_work                  0.000000\n",
      "tech_company                 0.000000\n",
      "benefits                     0.000000\n",
      "care_options                 0.000000\n",
      "wellness_program             0.000000\n",
      "seek_help                    0.000000\n",
      "anonymity                    0.000000\n",
      "leave                        0.000000\n",
      "mental_health_consequence    0.000000\n",
      "phys_health_consequence      0.000000\n",
      "coworkers                    0.000000\n",
      "supervisor                   0.000000\n",
      "mental_health_interview      0.000000\n",
      "phys_health_interview        0.000000\n",
      "mental_vs_physical           0.000000\n",
      "obs_consequence              0.000000\n",
      "dtype: float64\n"
     ]
    }
   ],
   "source": [
    "missing_percentage = (df.isnull().sum() / len(df)) * 100\n",
    "print(missing_percentage)"
   ]
  },
  {
   "cell_type": "markdown",
   "id": "7e3b7bda",
   "metadata": {},
   "source": [
    "We still have **1.429706% of NaN Values** in column **'self_employed'**"
   ]
  },
  {
   "cell_type": "markdown",
   "id": "87ca5524",
   "metadata": {},
   "source": [
    "## How do we handle missing values?"
   ]
  },
  {
   "cell_type": "code",
   "execution_count": 194,
   "id": "dfe01b00",
   "metadata": {},
   "outputs": [
    {
     "data": {
      "text/plain": [
       "18"
      ]
     },
     "execution_count": 194,
     "metadata": {},
     "output_type": "execute_result"
    }
   ],
   "source": [
    "df['self_employed'].isnull().sum()"
   ]
  },
  {
   "cell_type": "code",
   "execution_count": 195,
   "id": "349f1451",
   "metadata": {},
   "outputs": [
    {
     "data": {
      "text/plain": [
       "No     1095\n",
       "Yes     146\n",
       "Name: self_employed, dtype: int64"
      ]
     },
     "execution_count": 195,
     "metadata": {},
     "output_type": "execute_result"
    }
   ],
   "source": [
    "df['self_employed'].value_counts()"
   ]
  },
  {
   "cell_type": "code",
   "execution_count": 196,
   "id": "a9587829",
   "metadata": {},
   "outputs": [],
   "source": [
    "#Using mode to fill the missing values\n",
    "mode_value = df['self_employed'].mode()[0]\n",
    "df['self_employed'].fillna(mode_value, inplace=True)"
   ]
  },
  {
   "cell_type": "markdown",
   "id": "24447fc7",
   "metadata": {},
   "source": [
    "Using **mode** to **replace missing values** in a **categorical variable** is appropriate because it **represents the most common category,** preserving the overall distribution and characteristics of the data. This simple and interpretable method **ensures that imputed values align with the prevailing categories** in the dataset."
   ]
  },
  {
   "cell_type": "code",
   "execution_count": 197,
   "id": "63ff7edb",
   "metadata": {},
   "outputs": [
    {
     "data": {
      "text/plain": [
       "No     1113\n",
       "Yes     146\n",
       "Name: self_employed, dtype: int64"
      ]
     },
     "execution_count": 197,
     "metadata": {},
     "output_type": "execute_result"
    }
   ],
   "source": [
    "df['self_employed'].value_counts()"
   ]
  },
  {
   "cell_type": "code",
   "execution_count": 198,
   "id": "636fb6eb",
   "metadata": {},
   "outputs": [
    {
     "data": {
      "text/plain": [
       "0"
      ]
     },
     "execution_count": 198,
     "metadata": {},
     "output_type": "execute_result"
    }
   ],
   "source": [
    "df['self_employed'].isnull().sum()"
   ]
  },
  {
   "cell_type": "code",
   "execution_count": 199,
   "id": "f0f39eb4",
   "metadata": {},
   "outputs": [
    {
     "name": "stdout",
     "output_type": "stream",
     "text": [
      "age                          0.0\n",
      "gender                       0.0\n",
      "country                      0.0\n",
      "self_employed                0.0\n",
      "family_history               0.0\n",
      "treatment                    0.0\n",
      "no_employees                 0.0\n",
      "remote_work                  0.0\n",
      "tech_company                 0.0\n",
      "benefits                     0.0\n",
      "care_options                 0.0\n",
      "wellness_program             0.0\n",
      "seek_help                    0.0\n",
      "anonymity                    0.0\n",
      "leave                        0.0\n",
      "mental_health_consequence    0.0\n",
      "phys_health_consequence      0.0\n",
      "coworkers                    0.0\n",
      "supervisor                   0.0\n",
      "mental_health_interview      0.0\n",
      "phys_health_interview        0.0\n",
      "mental_vs_physical           0.0\n",
      "obs_consequence              0.0\n",
      "dtype: float64\n"
     ]
    }
   ],
   "source": [
    "missing_percentage = (df.isnull().sum() / len(df)) * 100\n",
    "print(missing_percentage)"
   ]
  },
  {
   "cell_type": "markdown",
   "id": "7701a72b",
   "metadata": {},
   "source": [
    "Now, the dataset is **clean** from **NaN Values**"
   ]
  },
  {
   "cell_type": "markdown",
   "id": "594f83b4",
   "metadata": {},
   "source": [
    "# NUMERICAL"
   ]
  },
  {
   "cell_type": "code",
   "execution_count": 200,
   "id": "ea18e492",
   "metadata": {},
   "outputs": [
    {
     "data": {
      "text/html": [
       "<div>\n",
       "<style scoped>\n",
       "    .dataframe tbody tr th:only-of-type {\n",
       "        vertical-align: middle;\n",
       "    }\n",
       "\n",
       "    .dataframe tbody tr th {\n",
       "        vertical-align: top;\n",
       "    }\n",
       "\n",
       "    .dataframe thead th {\n",
       "        text-align: right;\n",
       "    }\n",
       "</style>\n",
       "<table border=\"1\" class=\"dataframe\">\n",
       "  <thead>\n",
       "    <tr style=\"text-align: right;\">\n",
       "      <th></th>\n",
       "      <th>age</th>\n",
       "    </tr>\n",
       "  </thead>\n",
       "  <tbody>\n",
       "    <tr>\n",
       "      <th>count</th>\n",
       "      <td>1.259000e+03</td>\n",
       "    </tr>\n",
       "    <tr>\n",
       "      <th>mean</th>\n",
       "      <td>7.942815e+07</td>\n",
       "    </tr>\n",
       "    <tr>\n",
       "      <th>std</th>\n",
       "      <td>2.818299e+09</td>\n",
       "    </tr>\n",
       "    <tr>\n",
       "      <th>min</th>\n",
       "      <td>-1.726000e+03</td>\n",
       "    </tr>\n",
       "    <tr>\n",
       "      <th>25%</th>\n",
       "      <td>2.700000e+01</td>\n",
       "    </tr>\n",
       "    <tr>\n",
       "      <th>50%</th>\n",
       "      <td>3.100000e+01</td>\n",
       "    </tr>\n",
       "    <tr>\n",
       "      <th>75%</th>\n",
       "      <td>3.600000e+01</td>\n",
       "    </tr>\n",
       "    <tr>\n",
       "      <th>max</th>\n",
       "      <td>1.000000e+11</td>\n",
       "    </tr>\n",
       "  </tbody>\n",
       "</table>\n",
       "</div>"
      ],
      "text/plain": [
       "                age\n",
       "count  1.259000e+03\n",
       "mean   7.942815e+07\n",
       "std    2.818299e+09\n",
       "min   -1.726000e+03\n",
       "25%    2.700000e+01\n",
       "50%    3.100000e+01\n",
       "75%    3.600000e+01\n",
       "max    1.000000e+11"
      ]
     },
     "execution_count": 200,
     "metadata": {},
     "output_type": "execute_result"
    }
   ],
   "source": [
    "summary_statistics = df.describe()\n",
    "summary_statistics"
   ]
  },
  {
   "cell_type": "code",
   "execution_count": 201,
   "id": "bb7adf69",
   "metadata": {},
   "outputs": [
    {
     "data": {
      "text/plain": [
       " 29             85\n",
       " 32             82\n",
       " 26             75\n",
       " 27             71\n",
       " 33             70\n",
       " 28             68\n",
       " 31             67\n",
       " 34             65\n",
       " 30             63\n",
       " 25             61\n",
       " 35             55\n",
       " 23             51\n",
       " 24             46\n",
       " 37             43\n",
       " 38             39\n",
       " 36             37\n",
       " 40             33\n",
       " 39             33\n",
       " 43             28\n",
       " 22             21\n",
       " 41             21\n",
       " 42             20\n",
       " 21             16\n",
       " 45             12\n",
       " 46             12\n",
       " 44             11\n",
       " 19              9\n",
       " 18              7\n",
       " 48              6\n",
       " 50              6\n",
       " 20              6\n",
       " 51              5\n",
       " 49              4\n",
       " 56              4\n",
       " 57              3\n",
       " 54              3\n",
       " 55              3\n",
       " 47              2\n",
       " 60              2\n",
       " 99999999999     1\n",
       " 5               1\n",
       "-1               1\n",
       " 11              1\n",
       " 8               1\n",
       " 61              1\n",
       " 53              1\n",
       "-29              1\n",
       "-1726            1\n",
       " 65              1\n",
       " 62              1\n",
       " 58              1\n",
       " 329             1\n",
       " 72              1\n",
       "Name: age, dtype: int64"
      ]
     },
     "execution_count": 201,
     "metadata": {},
     "output_type": "execute_result"
    }
   ],
   "source": [
    "df['age'].value_counts()"
   ]
  },
  {
   "cell_type": "markdown",
   "id": "510792c2",
   "metadata": {},
   "source": [
    "The frequency distribution of ages within the dataset is evident, highlighting **potential outliers** in the age distribution. To gain a more comprehensive understanding, visualizing this distribution through a boxplot would offer further insights into the presence and extent of outliers. This graphical representation will provide a clearer illustration of the spread, central tendency, and any exceptional values in the dataset's age distribution."
   ]
  },
  {
   "cell_type": "code",
   "execution_count": 202,
   "id": "39f8cf86",
   "metadata": {},
   "outputs": [
    {
     "data": {
      "image/png": "[encoded data removed]",
      "text/plain": [
       "<Figure size 720x432 with 1 Axes>"
      ]
     },
     "metadata": {
      "needs_background": "light"
     },
     "output_type": "display_data"
    }
   ],
   "source": [
    "plt.figure(figsize=(10, 6))\n",
    "sns.boxplot(df['age'])\n",
    "plt.title('Boxplot of Ages')\n",
    "plt.xlabel('Age')\n",
    "plt.show()"
   ]
  },
  {
   "cell_type": "markdown",
   "id": "5ce4dfb1",
   "metadata": {},
   "source": [
    "The **boxplot** shows the **'Age'** data with **one point far from the rest,** which is an **outlier.** The **central box,** which usually shows the middle half of the data, **is squished** because the **outlier is so extreme.**\n",
    "\n",
    "What we need to do:\n",
    "- **Remove or fix the outlier if it's a mistake.**\n",
    "\n",
    "In **clustering,** this outlier could mess up the groupings, so it's often best to handle it before we start the analysis."
   ]
  },
  {
   "cell_type": "code",
   "execution_count": 203,
   "id": "9c0c25bb",
   "metadata": {},
   "outputs": [
    {
     "data": {
      "text/plain": [
       "count    1251.000000\n",
       "mean       32.076739\n",
       "std         7.288272\n",
       "min        18.000000\n",
       "25%        27.000000\n",
       "50%        31.000000\n",
       "75%        36.000000\n",
       "max        72.000000\n",
       "Name: age, dtype: float64"
      ]
     },
     "execution_count": 203,
     "metadata": {},
     "output_type": "execute_result"
    }
   ],
   "source": [
    "df = df[df['age'].between(16, 80)]\n",
    "\n",
    "cleaned_age = df['age'].describe()\n",
    "cleaned_age"
   ]
  },
  {
   "cell_type": "markdown",
   "id": "2ff17161",
   "metadata": {},
   "source": [
    "We narrows down the **'age'** data to people **between 16 and 80 years old** because that's the age **range most people are working.** It **removes** any ages **outside this range,** which helps focus out analysis on the group we're interested in **(Working Age).** After filtering, the code then shows a summary to check the new age range and make sure it looks right. This makes sure the clustering looks at the right ages and **isn't thrown off** by **very young** or **very old people** who **aren't typically in the workforce.**"
   ]
  },
  {
   "cell_type": "code",
   "execution_count": 204,
   "id": "0ec09d04",
   "metadata": {},
   "outputs": [
    {
     "data": {
      "text/plain": [
       "29    85\n",
       "32    82\n",
       "26    75\n",
       "27    71\n",
       "33    70\n",
       "28    68\n",
       "31    67\n",
       "34    65\n",
       "30    63\n",
       "25    61\n",
       "35    55\n",
       "23    51\n",
       "24    46\n",
       "37    43\n",
       "38    39\n",
       "36    37\n",
       "39    33\n",
       "40    33\n",
       "43    28\n",
       "41    21\n",
       "22    21\n",
       "42    20\n",
       "21    16\n",
       "45    12\n",
       "46    12\n",
       "44    11\n",
       "19     9\n",
       "18     7\n",
       "48     6\n",
       "50     6\n",
       "20     6\n",
       "51     5\n",
       "49     4\n",
       "56     4\n",
       "55     3\n",
       "57     3\n",
       "54     3\n",
       "47     2\n",
       "60     2\n",
       "58     1\n",
       "62     1\n",
       "65     1\n",
       "53     1\n",
       "61     1\n",
       "72     1\n",
       "Name: age, dtype: int64"
      ]
     },
     "execution_count": 204,
     "metadata": {},
     "output_type": "execute_result"
    }
   ],
   "source": [
    "df['age'].value_counts()"
   ]
  },
  {
   "cell_type": "code",
   "execution_count": 205,
   "id": "5e8fdc97",
   "metadata": {},
   "outputs": [
    {
     "data": {
      "image/png": "[encoded data removed]",
      "text/plain": [
       "<Figure size 720x432 with 1 Axes>"
      ]
     },
     "metadata": {
      "needs_background": "light"
     },
     "output_type": "display_data"
    }
   ],
   "source": [
    "plt.figure(figsize=(10, 6))\n",
    "sns.boxplot(df['age'])\n",
    "plt.title('Boxplot of Ages')\n",
    "plt.xlabel('Age')\n",
    "plt.show()"
   ]
  },
  {
   "cell_type": "code",
   "execution_count": 206,
   "id": "9fa3f774",
   "metadata": {},
   "outputs": [],
   "source": [
    "q1 = df['age'].quantile(0.25)\n",
    "q3 = df['age'].quantile(0.75)\n",
    "iqr = q3 - q1\n",
    "lower_bound = q1 - 1.5 * iqr\n",
    "upper_bound = q3 + 1.5 * iqr\n",
    "outliers = (df['age'] < lower_bound) | (df['age'] > upper_bound)"
   ]
  },
  {
   "cell_type": "code",
   "execution_count": 207,
   "id": "90cf2ce8",
   "metadata": {},
   "outputs": [
    {
     "name": "stdout",
     "output_type": "stream",
     "text": [
      "Age\n",
      "Number of outliers: 32\n",
      "Percentage of outliers: 2.5579536370903275%\n"
     ]
    }
   ],
   "source": [
    "num_outliers = outliers.sum()\n",
    "percentage_outliers = (num_outliers / len(df)) * 100\n",
    "print(\"Age\")\n",
    "print(f\"Number of outliers: {num_outliers}\")\n",
    "print(f\"Percentage of outliers: {percentage_outliers}%\")"
   ]
  },
  {
   "cell_type": "markdown",
   "id": "c4f40b60",
   "metadata": {},
   "source": [
    "**The reason why we keep outliers:**\n",
    "\n",
    "In our data, some ages are a lot higher than most. These are called outliers. We've decided to keep these outliers in our data for a few good reasons:\n",
    "\n",
    "1. **They're Real:** The very high ages are unusual, but they're not mistakes—they reflect the older people in the group we're studying.\n",
    "\n",
    "2. **They Add Value:** Our goal is to group the data in meaningful ways. If we took out these outliers, we might miss out on some interesting patterns, like if there's a special group of older individuals.\n",
    "\n",
    "3. **Algorithms Can Handle It:** The methods we're using to group the data are pretty smart. They can deal with a few outliers without getting confused.\n",
    "\n",
    "4. **Complete Picture:** We want to understand everyone in our data, not just the most common cases. Keeping the outliers helps us do that.\n",
    "\n",
    "So, we're keeping these outliers because they're part of the real story our data is telling us."
   ]
  },
  {
   "cell_type": "code",
   "execution_count": 208,
   "id": "eb5a6404",
   "metadata": {},
   "outputs": [
    {
     "data": {
      "text/html": [
       "<div>\n",
       "<style scoped>\n",
       "    .dataframe tbody tr th:only-of-type {\n",
       "        vertical-align: middle;\n",
       "    }\n",
       "\n",
       "    .dataframe tbody tr th {\n",
       "        vertical-align: top;\n",
       "    }\n",
       "\n",
       "    .dataframe thead th {\n",
       "        text-align: right;\n",
       "    }\n",
       "</style>\n",
       "<table border=\"1\" class=\"dataframe\">\n",
       "  <thead>\n",
       "    <tr style=\"text-align: right;\">\n",
       "      <th></th>\n",
       "      <th>age</th>\n",
       "      <th>gender</th>\n",
       "      <th>country</th>\n",
       "      <th>self_employed</th>\n",
       "      <th>family_history</th>\n",
       "      <th>treatment</th>\n",
       "      <th>no_employees</th>\n",
       "      <th>remote_work</th>\n",
       "      <th>tech_company</th>\n",
       "      <th>benefits</th>\n",
       "      <th>...</th>\n",
       "      <th>anonymity</th>\n",
       "      <th>leave</th>\n",
       "      <th>mental_health_consequence</th>\n",
       "      <th>phys_health_consequence</th>\n",
       "      <th>coworkers</th>\n",
       "      <th>supervisor</th>\n",
       "      <th>mental_health_interview</th>\n",
       "      <th>phys_health_interview</th>\n",
       "      <th>mental_vs_physical</th>\n",
       "      <th>obs_consequence</th>\n",
       "    </tr>\n",
       "  </thead>\n",
       "  <tbody>\n",
       "    <tr>\n",
       "      <th>0</th>\n",
       "      <td>37</td>\n",
       "      <td>Female</td>\n",
       "      <td>United States</td>\n",
       "      <td>No</td>\n",
       "      <td>No</td>\n",
       "      <td>Yes</td>\n",
       "      <td>6-25</td>\n",
       "      <td>No</td>\n",
       "      <td>Yes</td>\n",
       "      <td>Yes</td>\n",
       "      <td>...</td>\n",
       "      <td>Yes</td>\n",
       "      <td>Somewhat easy</td>\n",
       "      <td>No</td>\n",
       "      <td>No</td>\n",
       "      <td>Some of them</td>\n",
       "      <td>Yes</td>\n",
       "      <td>No</td>\n",
       "      <td>Maybe</td>\n",
       "      <td>Yes</td>\n",
       "      <td>No</td>\n",
       "    </tr>\n",
       "    <tr>\n",
       "      <th>1</th>\n",
       "      <td>44</td>\n",
       "      <td>M</td>\n",
       "      <td>United States</td>\n",
       "      <td>No</td>\n",
       "      <td>No</td>\n",
       "      <td>No</td>\n",
       "      <td>More than 1000</td>\n",
       "      <td>No</td>\n",
       "      <td>No</td>\n",
       "      <td>Don't know</td>\n",
       "      <td>...</td>\n",
       "      <td>Don't know</td>\n",
       "      <td>Don't know</td>\n",
       "      <td>Maybe</td>\n",
       "      <td>No</td>\n",
       "      <td>No</td>\n",
       "      <td>No</td>\n",
       "      <td>No</td>\n",
       "      <td>No</td>\n",
       "      <td>Don't know</td>\n",
       "      <td>No</td>\n",
       "    </tr>\n",
       "    <tr>\n",
       "      <th>2</th>\n",
       "      <td>32</td>\n",
       "      <td>Male</td>\n",
       "      <td>Canada</td>\n",
       "      <td>No</td>\n",
       "      <td>No</td>\n",
       "      <td>No</td>\n",
       "      <td>6-25</td>\n",
       "      <td>No</td>\n",
       "      <td>Yes</td>\n",
       "      <td>No</td>\n",
       "      <td>...</td>\n",
       "      <td>Don't know</td>\n",
       "      <td>Somewhat difficult</td>\n",
       "      <td>No</td>\n",
       "      <td>No</td>\n",
       "      <td>Yes</td>\n",
       "      <td>Yes</td>\n",
       "      <td>Yes</td>\n",
       "      <td>Yes</td>\n",
       "      <td>No</td>\n",
       "      <td>No</td>\n",
       "    </tr>\n",
       "    <tr>\n",
       "      <th>3</th>\n",
       "      <td>31</td>\n",
       "      <td>Male</td>\n",
       "      <td>United Kingdom</td>\n",
       "      <td>No</td>\n",
       "      <td>Yes</td>\n",
       "      <td>Yes</td>\n",
       "      <td>26-100</td>\n",
       "      <td>No</td>\n",
       "      <td>Yes</td>\n",
       "      <td>No</td>\n",
       "      <td>...</td>\n",
       "      <td>No</td>\n",
       "      <td>Somewhat difficult</td>\n",
       "      <td>Yes</td>\n",
       "      <td>Yes</td>\n",
       "      <td>Some of them</td>\n",
       "      <td>No</td>\n",
       "      <td>Maybe</td>\n",
       "      <td>Maybe</td>\n",
       "      <td>No</td>\n",
       "      <td>Yes</td>\n",
       "    </tr>\n",
       "    <tr>\n",
       "      <th>4</th>\n",
       "      <td>31</td>\n",
       "      <td>Male</td>\n",
       "      <td>United States</td>\n",
       "      <td>No</td>\n",
       "      <td>No</td>\n",
       "      <td>No</td>\n",
       "      <td>100-500</td>\n",
       "      <td>Yes</td>\n",
       "      <td>Yes</td>\n",
       "      <td>Yes</td>\n",
       "      <td>...</td>\n",
       "      <td>Don't know</td>\n",
       "      <td>Don't know</td>\n",
       "      <td>No</td>\n",
       "      <td>No</td>\n",
       "      <td>Some of them</td>\n",
       "      <td>Yes</td>\n",
       "      <td>Yes</td>\n",
       "      <td>Yes</td>\n",
       "      <td>Don't know</td>\n",
       "      <td>No</td>\n",
       "    </tr>\n",
       "  </tbody>\n",
       "</table>\n",
       "<p>5 rows × 23 columns</p>\n",
       "</div>"
      ],
      "text/plain": [
       "   age  gender         country self_employed family_history treatment  \\\n",
       "0   37  Female   United States            No             No       Yes   \n",
       "1   44       M   United States            No             No        No   \n",
       "2   32    Male          Canada            No             No        No   \n",
       "3   31    Male  United Kingdom            No            Yes       Yes   \n",
       "4   31    Male   United States            No             No        No   \n",
       "\n",
       "     no_employees remote_work tech_company    benefits  ...   anonymity  \\\n",
       "0            6-25          No          Yes         Yes  ...         Yes   \n",
       "1  More than 1000          No           No  Don't know  ...  Don't know   \n",
       "2            6-25          No          Yes          No  ...  Don't know   \n",
       "3          26-100          No          Yes          No  ...          No   \n",
       "4         100-500         Yes          Yes         Yes  ...  Don't know   \n",
       "\n",
       "                leave mental_health_consequence phys_health_consequence  \\\n",
       "0       Somewhat easy                        No                      No   \n",
       "1          Don't know                     Maybe                      No   \n",
       "2  Somewhat difficult                        No                      No   \n",
       "3  Somewhat difficult                       Yes                     Yes   \n",
       "4          Don't know                        No                      No   \n",
       "\n",
       "      coworkers supervisor mental_health_interview phys_health_interview  \\\n",
       "0  Some of them        Yes                      No                 Maybe   \n",
       "1            No         No                      No                    No   \n",
       "2           Yes        Yes                     Yes                   Yes   \n",
       "3  Some of them         No                   Maybe                 Maybe   \n",
       "4  Some of them        Yes                     Yes                   Yes   \n",
       "\n",
       "  mental_vs_physical obs_consequence  \n",
       "0                Yes              No  \n",
       "1         Don't know              No  \n",
       "2                 No              No  \n",
       "3                 No             Yes  \n",
       "4         Don't know              No  \n",
       "\n",
       "[5 rows x 23 columns]"
      ]
     },
     "execution_count": 208,
     "metadata": {},
     "output_type": "execute_result"
    }
   ],
   "source": [
    "df.head()"
   ]
  },
  {
   "cell_type": "markdown",
   "id": "b7e1d379",
   "metadata": {},
   "source": [
    "# CATEGORICAL"
   ]
  },
  {
   "cell_type": "code",
   "execution_count": 209,
   "id": "f7a14f5c",
   "metadata": {},
   "outputs": [
    {
     "data": {
      "image/png": "[encoded data removed]",
      "text/plain": [
       "<Figure size 1080x720 with 6 Axes>"
      ]
     },
     "metadata": {
      "needs_background": "light"
     },
     "output_type": "display_data"
    }
   ],
   "source": [
    "plt.figure(figsize=(15, 10))\n",
    "for i, column in enumerate(categorical_columns[6:12], 1):\n",
    "    plt.subplot(2, 3, i)\n",
    "    sns.countplot(data=df, x=column)\n",
    "    plt.title(f'Distribution of {column}')\n",
    "    plt.xticks(rotation=45)\n",
    "\n",
    "plt.tight_layout()\n",
    "plt.show()"
   ]
  },
  {
   "cell_type": "code",
   "execution_count": 210,
   "id": "ac056bcb",
   "metadata": {},
   "outputs": [
    {
     "data": {
      "image/png": "[encoded data removed]",
      "text/plain": [
       "<Figure size 1080x720 with 4 Axes>"
      ]
     },
     "metadata": {
      "needs_background": "light"
     },
     "output_type": "display_data"
    }
   ],
   "source": [
    "plt.figure(figsize=(15, 10))\n",
    "\n",
    "plt.subplot(2, 2, 1)\n",
    "sns.countplot(data=df, x=categorical_columns[12])\n",
    "plt.title(f'Distribution of {categorical_columns[12]}')\n",
    "plt.xticks(rotation=45)\n",
    "\n",
    "plt.subplot(2, 2, 2)\n",
    "sns.countplot(data=df, x=categorical_columns[13])\n",
    "plt.title(f'Distribution of {categorical_columns[13]}')\n",
    "plt.xticks(rotation=45)\n",
    "\n",
    "plt.subplot(2, 2, 3)\n",
    "sns.countplot(data=df, x=categorical_columns[14])\n",
    "plt.title(f'Distribution of {categorical_columns[14]}')\n",
    "plt.xticks(rotation=45)\n",
    "\n",
    "plt.subplot(2, 2, 4)\n",
    "sns.countplot(data=df, x=categorical_columns[15])\n",
    "plt.title(f'Distribution of {categorical_columns[15]}')\n",
    "plt.xticks(rotation=45)\n",
    "\n",
    "plt.tight_layout()\n",
    "plt.show()"
   ]
  },
  {
   "cell_type": "code",
   "execution_count": 211,
   "id": "1a9e0a91",
   "metadata": {},
   "outputs": [
    {
     "data": {
      "image/png": "[encoded data removed]",
      "text/plain": [
       "<Figure size 1080x720 with 6 Axes>"
      ]
     },
     "metadata": {
      "needs_background": "light"
     },
     "output_type": "display_data"
    }
   ],
   "source": [
    "plt.figure(figsize=(15, 10))\n",
    "for i, column in enumerate(categorical_columns[16:23], 1):\n",
    "    plt.subplot(2, 3, i)\n",
    "    sns.countplot(data=df, x=column)\n",
    "    plt.title(f'Distribution of {column}')\n",
    "    plt.xticks(rotation=45)\n",
    "\n",
    "plt.tight_layout()\n",
    "plt.show()"
   ]
  },
  {
   "cell_type": "code",
   "execution_count": 212,
   "id": "9319e8a4",
   "metadata": {
    "scrolled": true
   },
   "outputs": [
    {
     "data": {
      "image/png": "[encoded data removed]",
      "text/plain": [
       "<Figure size 1080x720 with 6 Axes>"
      ]
     },
     "metadata": {
      "needs_background": "light"
     },
     "output_type": "display_data"
    }
   ],
   "source": [
    "plt.figure(figsize=(15, 10))\n",
    "for i, column in enumerate(categorical_columns[:6], 1):\n",
    "    plt.subplot(2, 3, i)\n",
    "    sns.countplot(data=df, x=column)\n",
    "    plt.title(f'Distribution of {column}')\n",
    "    plt.xticks(rotation=45)\n",
    "\n",
    "plt.tight_layout()\n",
    "plt.show()"
   ]
  },
  {
   "cell_type": "markdown",
   "id": "b32b5e24",
   "metadata": {},
   "source": [
    "The analysis of the plot indicates the necessity to address the **'gender'** and **'country'** variables due to the substantial number of distinct classes, posing challenges for encoding. The high cardinality of these categorical variables complicates data preprocessing, and thus, steps should be taken to manage or restructure these variables for improved feature representation in subsequent modeling tasks."
   ]
  },
  {
   "cell_type": "markdown",
   "id": "8a65c1f6",
   "metadata": {},
   "source": [
    "## Handling `gender` column"
   ]
  },
  {
   "cell_type": "code",
   "execution_count": 213,
   "id": "31859ccc",
   "metadata": {
    "scrolled": true
   },
   "outputs": [
    {
     "data": {
      "text/plain": [
       "Male                                              612\n",
       "male                                              204\n",
       "Female                                            121\n",
       "M                                                 116\n",
       "female                                             62\n",
       "F                                                  38\n",
       "m                                                  34\n",
       "f                                                  15\n",
       "Make                                                4\n",
       "Woman                                               3\n",
       "Male                                                3\n",
       "Female                                              2\n",
       "Cis Male                                            2\n",
       "Man                                                 2\n",
       "Female (trans)                                      2\n",
       "Malr                                                1\n",
       "Trans woman                                         1\n",
       "male leaning androgynous                            1\n",
       "Cis Man                                             1\n",
       "Neuter                                              1\n",
       "msle                                                1\n",
       "cis male                                            1\n",
       "queer                                               1\n",
       "Female (cis)                                        1\n",
       "cis-female/femme                                    1\n",
       "Mail                                                1\n",
       "femail                                              1\n",
       "Guy (-ish) ^_^                                      1\n",
       "Enby                                                1\n",
       "Agender                                             1\n",
       "Male (CIS)                                          1\n",
       "Male-ish                                            1\n",
       "maile                                               1\n",
       "Trans-female                                        1\n",
       "Cis Female                                          1\n",
       "something kinda male?                               1\n",
       "Mal                                                 1\n",
       "queer/she/they                                      1\n",
       "Androgyne                                           1\n",
       "non-binary                                          1\n",
       "Femake                                              1\n",
       "woman                                               1\n",
       "Nah                                                 1\n",
       "fluid                                               1\n",
       "Genderqueer                                         1\n",
       "ostensibly male, unsure what that really means      1\n",
       "Name: gender, dtype: int64"
      ]
     },
     "execution_count": 213,
     "metadata": {},
     "output_type": "execute_result"
    }
   ],
   "source": [
    "df['gender'].value_counts()"
   ]
  },
  {
   "cell_type": "code",
   "execution_count": 214,
   "id": "383157a2",
   "metadata": {},
   "outputs": [],
   "source": [
    "female_values = ['Female', 'female', 'F', 'f', 'Woman', 'Female', 'Female (trans)', 'Trans woman', 'Female (cis)', 'cis-female/femme',\n",
    "                'femail', 'Trans-female', 'Cis Female', 'queer/she/they', 'Femake', 'woman']\n",
    "male_values = ['Male', 'male', 'M', 'm', 'Make', 'Man', 'Male', 'Cis Male', 'Man', 'Malr', 'male leaning androgynous', \n",
    "               'Cis Man', 'msle', 'cis male', 'Mail', 'Guy (-ish) ^_^', 'Male (CIS)', 'Male-ish', 'maile', 'something kinda male?',\n",
    "              'Mal', 'ostensibly male, unsure what that really means'] \n",
    "\n",
    "df['gender'].replace(female_values, 'female', inplace=True)\n",
    "df['gender'].replace(male_values, 'male', inplace=True)\n",
    "\n",
    "df['gender'].replace(to_replace=[value for value in df['gender'].unique() \n",
    "                                 if value not in ['female', 'male']], \n",
    "                     value='others', inplace=True)"
   ]
  },
  {
   "cell_type": "markdown",
   "id": "ee8b9892",
   "metadata": {},
   "source": [
    "This code aims to **standardize gender** labels in the 'gender' column for consistency and interpretability. It **consolidates diverse representations of 'female' and 'male' into uniform categories.** Additionally, **any values beyond these gender categories are generalized as 'others,'** **simplifying the dataset** and promoting clarity in subsequent analyses. This meticulous approach **ensures a cohesive** and **unambiguous** representation of **gender information,** facilitating accurate and meaningful insights from the data."
   ]
  },
  {
   "cell_type": "code",
   "execution_count": 215,
   "id": "c33e4729",
   "metadata": {},
   "outputs": [
    {
     "data": {
      "text/plain": [
       "male      987\n",
       "female    250\n",
       "others     14\n",
       "Name: gender, dtype: int64"
      ]
     },
     "execution_count": 215,
     "metadata": {},
     "output_type": "execute_result"
    }
   ],
   "source": [
    "df['gender'].value_counts()"
   ]
  },
  {
   "cell_type": "markdown",
   "id": "9a5b5862",
   "metadata": {},
   "source": [
    "## Handling country"
   ]
  },
  {
   "cell_type": "code",
   "execution_count": 216,
   "id": "1ec0248a",
   "metadata": {},
   "outputs": [
    {
     "data": {
      "text/plain": [
       "United States             746\n",
       "United Kingdom            184\n",
       "Canada                     72\n",
       "Germany                    45\n",
       "Netherlands                27\n",
       "Ireland                    27\n",
       "Australia                  21\n",
       "France                     13\n",
       "India                      10\n",
       "New Zealand                 8\n",
       "Italy                       7\n",
       "Poland                      7\n",
       "Sweden                      7\n",
       "Switzerland                 7\n",
       "South Africa                6\n",
       "Belgium                     6\n",
       "Brazil                      6\n",
       "Israel                      5\n",
       "Singapore                   4\n",
       "Bulgaria                    4\n",
       "Mexico                      3\n",
       "Russia                      3\n",
       "Finland                     3\n",
       "Austria                     3\n",
       "Denmark                     2\n",
       "Greece                      2\n",
       "Portugal                    2\n",
       "Colombia                    2\n",
       "Croatia                     2\n",
       "Moldova                     1\n",
       "Georgia                     1\n",
       "China                       1\n",
       "Thailand                    1\n",
       "Czech Republic              1\n",
       "Norway                      1\n",
       "Latvia                      1\n",
       "Nigeria                     1\n",
       "Japan                       1\n",
       "Hungary                     1\n",
       "Bosnia and Herzegovina      1\n",
       "Uruguay                     1\n",
       "Spain                       1\n",
       "Romania                     1\n",
       "Costa Rica                  1\n",
       "Slovenia                    1\n",
       "Philippines                 1\n",
       "Name: country, dtype: int64"
      ]
     },
     "execution_count": 216,
     "metadata": {},
     "output_type": "execute_result"
    }
   ],
   "source": [
    "df['country'].value_counts()"
   ]
  },
  {
   "cell_type": "code",
   "execution_count": 217,
   "id": "84b37969",
   "metadata": {},
   "outputs": [],
   "source": [
    "threshold = 40\n",
    "small_count_countries = df['country'].value_counts()[df['country'].value_counts() <= threshold].index\n",
    "\n",
    "df['country'].replace(small_count_countries, 'Other', inplace=True)"
   ]
  },
  {
   "cell_type": "markdown",
   "id": "e110f733",
   "metadata": {},
   "source": [
    "Setting a threshold of **40** for small counts streamlines visualizations, **focusing on dominant categories** for **clearer interpretation.** This **reduces noise**, **simplifies analysis**, and **enhances generalization**, **presenting key trends without overwhelming detail.** Adjusting the threshold **ensures a balance between meaningful insights and visual clarity in categorical data representations.**"
   ]
  },
  {
   "cell_type": "code",
   "execution_count": 218,
   "id": "bff9bcfa",
   "metadata": {},
   "outputs": [
    {
     "data": {
      "text/plain": [
       "United States     746\n",
       "Other             204\n",
       "United Kingdom    184\n",
       "Canada             72\n",
       "Germany            45\n",
       "Name: country, dtype: int64"
      ]
     },
     "execution_count": 218,
     "metadata": {},
     "output_type": "execute_result"
    }
   ],
   "source": [
    "df['country'].value_counts()"
   ]
  },
  {
   "cell_type": "markdown",
   "id": "42ac9b95",
   "metadata": {},
   "source": [
    "## Checking Gender and Country"
   ]
  },
  {
   "cell_type": "code",
   "execution_count": 219,
   "id": "0bbde20f",
   "metadata": {},
   "outputs": [
    {
     "data": {
      "image/png": "[encoded data removed]",
      "text/plain": [
       "<Figure size 864x360 with 2 Axes>"
      ]
     },
     "metadata": {
      "needs_background": "light"
     },
     "output_type": "display_data"
    },
    {
     "data": {
      "image/png": "[encoded data removed]",
      "text/plain": [
       "<Figure size 864x360 with 2 Axes>"
      ]
     },
     "metadata": {
      "needs_background": "light"
     },
     "output_type": "display_data"
    }
   ],
   "source": [
    "columns_to_plot = ['gender', 'country']\n",
    "palette = sns.color_palette(\"Set2\")\n",
    "\n",
    "for column in columns_to_plot:\n",
    "    fig, ax = plt.subplots(1, 2, figsize=(12, 5))\n",
    "    fig.suptitle(f'{column} Distribution', fontsize=20)\n",
    "\n",
    "    plt.subplot(1, 2, 1)\n",
    "    df[column].value_counts().plot(kind='bar', color=palette)\n",
    "    plt.title('Bar Plot')\n",
    "    plt.xlabel(column)\n",
    "    plt.ylabel('Counts')\n",
    "\n",
    "    plt.subplot(1, 2, 2)\n",
    "    df[column].value_counts().plot(kind='pie', autopct=\"%.2f%%\", colors=palette)\n",
    "    plt.title('Pie Chart')\n",
    "    plt.ylabel('')\n",
    "\n",
    "    plt.show()"
   ]
  },
  {
   "cell_type": "markdown",
   "id": "0d5f1107",
   "metadata": {},
   "source": [
    "# **Feature Engineering**"
   ]
  },
  {
   "cell_type": "code",
   "execution_count": 220,
   "id": "063aa04c",
   "metadata": {},
   "outputs": [
    {
     "data": {
      "text/html": [
       "<div>\n",
       "<style scoped>\n",
       "    .dataframe tbody tr th:only-of-type {\n",
       "        vertical-align: middle;\n",
       "    }\n",
       "\n",
       "    .dataframe tbody tr th {\n",
       "        vertical-align: top;\n",
       "    }\n",
       "\n",
       "    .dataframe thead th {\n",
       "        text-align: right;\n",
       "    }\n",
       "</style>\n",
       "<table border=\"1\" class=\"dataframe\">\n",
       "  <thead>\n",
       "    <tr style=\"text-align: right;\">\n",
       "      <th></th>\n",
       "      <th>age</th>\n",
       "      <th>gender</th>\n",
       "      <th>country</th>\n",
       "      <th>self_employed</th>\n",
       "      <th>family_history</th>\n",
       "      <th>treatment</th>\n",
       "      <th>no_employees</th>\n",
       "      <th>remote_work</th>\n",
       "      <th>tech_company</th>\n",
       "      <th>benefits</th>\n",
       "      <th>...</th>\n",
       "      <th>anonymity</th>\n",
       "      <th>leave</th>\n",
       "      <th>mental_health_consequence</th>\n",
       "      <th>phys_health_consequence</th>\n",
       "      <th>coworkers</th>\n",
       "      <th>supervisor</th>\n",
       "      <th>mental_health_interview</th>\n",
       "      <th>phys_health_interview</th>\n",
       "      <th>mental_vs_physical</th>\n",
       "      <th>obs_consequence</th>\n",
       "    </tr>\n",
       "  </thead>\n",
       "  <tbody>\n",
       "    <tr>\n",
       "      <th>0</th>\n",
       "      <td>37</td>\n",
       "      <td>female</td>\n",
       "      <td>United States</td>\n",
       "      <td>No</td>\n",
       "      <td>No</td>\n",
       "      <td>Yes</td>\n",
       "      <td>6-25</td>\n",
       "      <td>No</td>\n",
       "      <td>Yes</td>\n",
       "      <td>Yes</td>\n",
       "      <td>...</td>\n",
       "      <td>Yes</td>\n",
       "      <td>Somewhat easy</td>\n",
       "      <td>No</td>\n",
       "      <td>No</td>\n",
       "      <td>Some of them</td>\n",
       "      <td>Yes</td>\n",
       "      <td>No</td>\n",
       "      <td>Maybe</td>\n",
       "      <td>Yes</td>\n",
       "      <td>No</td>\n",
       "    </tr>\n",
       "    <tr>\n",
       "      <th>1</th>\n",
       "      <td>44</td>\n",
       "      <td>male</td>\n",
       "      <td>United States</td>\n",
       "      <td>No</td>\n",
       "      <td>No</td>\n",
       "      <td>No</td>\n",
       "      <td>More than 1000</td>\n",
       "      <td>No</td>\n",
       "      <td>No</td>\n",
       "      <td>Don't know</td>\n",
       "      <td>...</td>\n",
       "      <td>Don't know</td>\n",
       "      <td>Don't know</td>\n",
       "      <td>Maybe</td>\n",
       "      <td>No</td>\n",
       "      <td>No</td>\n",
       "      <td>No</td>\n",
       "      <td>No</td>\n",
       "      <td>No</td>\n",
       "      <td>Don't know</td>\n",
       "      <td>No</td>\n",
       "    </tr>\n",
       "    <tr>\n",
       "      <th>2</th>\n",
       "      <td>32</td>\n",
       "      <td>male</td>\n",
       "      <td>Canada</td>\n",
       "      <td>No</td>\n",
       "      <td>No</td>\n",
       "      <td>No</td>\n",
       "      <td>6-25</td>\n",
       "      <td>No</td>\n",
       "      <td>Yes</td>\n",
       "      <td>No</td>\n",
       "      <td>...</td>\n",
       "      <td>Don't know</td>\n",
       "      <td>Somewhat difficult</td>\n",
       "      <td>No</td>\n",
       "      <td>No</td>\n",
       "      <td>Yes</td>\n",
       "      <td>Yes</td>\n",
       "      <td>Yes</td>\n",
       "      <td>Yes</td>\n",
       "      <td>No</td>\n",
       "      <td>No</td>\n",
       "    </tr>\n",
       "    <tr>\n",
       "      <th>3</th>\n",
       "      <td>31</td>\n",
       "      <td>male</td>\n",
       "      <td>United Kingdom</td>\n",
       "      <td>No</td>\n",
       "      <td>Yes</td>\n",
       "      <td>Yes</td>\n",
       "      <td>26-100</td>\n",
       "      <td>No</td>\n",
       "      <td>Yes</td>\n",
       "      <td>No</td>\n",
       "      <td>...</td>\n",
       "      <td>No</td>\n",
       "      <td>Somewhat difficult</td>\n",
       "      <td>Yes</td>\n",
       "      <td>Yes</td>\n",
       "      <td>Some of them</td>\n",
       "      <td>No</td>\n",
       "      <td>Maybe</td>\n",
       "      <td>Maybe</td>\n",
       "      <td>No</td>\n",
       "      <td>Yes</td>\n",
       "    </tr>\n",
       "    <tr>\n",
       "      <th>4</th>\n",
       "      <td>31</td>\n",
       "      <td>male</td>\n",
       "      <td>United States</td>\n",
       "      <td>No</td>\n",
       "      <td>No</td>\n",
       "      <td>No</td>\n",
       "      <td>100-500</td>\n",
       "      <td>Yes</td>\n",
       "      <td>Yes</td>\n",
       "      <td>Yes</td>\n",
       "      <td>...</td>\n",
       "      <td>Don't know</td>\n",
       "      <td>Don't know</td>\n",
       "      <td>No</td>\n",
       "      <td>No</td>\n",
       "      <td>Some of them</td>\n",
       "      <td>Yes</td>\n",
       "      <td>Yes</td>\n",
       "      <td>Yes</td>\n",
       "      <td>Don't know</td>\n",
       "      <td>No</td>\n",
       "    </tr>\n",
       "  </tbody>\n",
       "</table>\n",
       "<p>5 rows × 23 columns</p>\n",
       "</div>"
      ],
      "text/plain": [
       "   age  gender         country self_employed family_history treatment  \\\n",
       "0   37  female   United States            No             No       Yes   \n",
       "1   44    male   United States            No             No        No   \n",
       "2   32    male          Canada            No             No        No   \n",
       "3   31    male  United Kingdom            No            Yes       Yes   \n",
       "4   31    male   United States            No             No        No   \n",
       "\n",
       "     no_employees remote_work tech_company    benefits  ...   anonymity  \\\n",
       "0            6-25          No          Yes         Yes  ...         Yes   \n",
       "1  More than 1000          No           No  Don't know  ...  Don't know   \n",
       "2            6-25          No          Yes          No  ...  Don't know   \n",
       "3          26-100          No          Yes          No  ...          No   \n",
       "4         100-500         Yes          Yes         Yes  ...  Don't know   \n",
       "\n",
       "                leave mental_health_consequence phys_health_consequence  \\\n",
       "0       Somewhat easy                        No                      No   \n",
       "1          Don't know                     Maybe                      No   \n",
       "2  Somewhat difficult                        No                      No   \n",
       "3  Somewhat difficult                       Yes                     Yes   \n",
       "4          Don't know                        No                      No   \n",
       "\n",
       "      coworkers supervisor mental_health_interview phys_health_interview  \\\n",
       "0  Some of them        Yes                      No                 Maybe   \n",
       "1            No         No                      No                    No   \n",
       "2           Yes        Yes                     Yes                   Yes   \n",
       "3  Some of them         No                   Maybe                 Maybe   \n",
       "4  Some of them        Yes                     Yes                   Yes   \n",
       "\n",
       "  mental_vs_physical obs_consequence  \n",
       "0                Yes              No  \n",
       "1         Don't know              No  \n",
       "2                 No              No  \n",
       "3                 No             Yes  \n",
       "4         Don't know              No  \n",
       "\n",
       "[5 rows x 23 columns]"
      ]
     },
     "execution_count": 220,
     "metadata": {},
     "output_type": "execute_result"
    }
   ],
   "source": [
    "df.head()"
   ]
  },
  {
   "cell_type": "code",
   "execution_count": 221,
   "id": "c11c71da",
   "metadata": {},
   "outputs": [
    {
     "name": "stdout",
     "output_type": "stream",
     "text": [
      "<class 'pandas.core.frame.DataFrame'>\n",
      "Int64Index: 1251 entries, 0 to 1258\n",
      "Data columns (total 23 columns):\n",
      " #   Column                     Non-Null Count  Dtype \n",
      "---  ------                     --------------  ----- \n",
      " 0   age                        1251 non-null   int64 \n",
      " 1   gender                     1251 non-null   object\n",
      " 2   country                    1251 non-null   object\n",
      " 3   self_employed              1251 non-null   object\n",
      " 4   family_history             1251 non-null   object\n",
      " 5   treatment                  1251 non-null   object\n",
      " 6   no_employees               1251 non-null   object\n",
      " 7   remote_work                1251 non-null   object\n",
      " 8   tech_company               1251 non-null   object\n",
      " 9   benefits                   1251 non-null   object\n",
      " 10  care_options               1251 non-null   object\n",
      " 11  wellness_program           1251 non-null   object\n",
      " 12  seek_help                  1251 non-null   object\n",
      " 13  anonymity                  1251 non-null   object\n",
      " 14  leave                      1251 non-null   object\n",
      " 15  mental_health_consequence  1251 non-null   object\n",
      " 16  phys_health_consequence    1251 non-null   object\n",
      " 17  coworkers                  1251 non-null   object\n",
      " 18  supervisor                 1251 non-null   object\n",
      " 19  mental_health_interview    1251 non-null   object\n",
      " 20  phys_health_interview      1251 non-null   object\n",
      " 21  mental_vs_physical         1251 non-null   object\n",
      " 22  obs_consequence            1251 non-null   object\n",
      "dtypes: int64(1), object(22)\n",
      "memory usage: 234.6+ KB\n"
     ]
    }
   ],
   "source": [
    "df.info()"
   ]
  },
  {
   "cell_type": "markdown",
   "id": "49996be5",
   "metadata": {},
   "source": [
    "# **One Hot Encoding**"
   ]
  },
  {
   "cell_type": "markdown",
   "id": "dc038151",
   "metadata": {},
   "source": [
    "## **`gender`**"
   ]
  },
  {
   "cell_type": "code",
   "execution_count": 222,
   "id": "27a484e9",
   "metadata": {},
   "outputs": [
    {
     "data": {
      "text/plain": [
       "male      987\n",
       "female    250\n",
       "others     14\n",
       "Name: gender, dtype: int64"
      ]
     },
     "execution_count": 222,
     "metadata": {},
     "output_type": "execute_result"
    }
   ],
   "source": [
    "df['gender'].value_counts()"
   ]
  },
  {
   "cell_type": "code",
   "execution_count": 223,
   "id": "1a731848",
   "metadata": {},
   "outputs": [],
   "source": [
    "gender_encoded = pd.get_dummies(df['gender'], prefix='gender')\n",
    "df = pd.concat([df, gender_encoded], axis=1)"
   ]
  },
  {
   "cell_type": "markdown",
   "id": "a3334c3d",
   "metadata": {},
   "source": [
    "## **`benefits`**"
   ]
  },
  {
   "cell_type": "code",
   "execution_count": 224,
   "id": "348752a5",
   "metadata": {},
   "outputs": [
    {
     "data": {
      "text/plain": [
       "Yes           473\n",
       "Don't know    407\n",
       "No            371\n",
       "Name: benefits, dtype: int64"
      ]
     },
     "execution_count": 224,
     "metadata": {},
     "output_type": "execute_result"
    }
   ],
   "source": [
    "df['benefits'].value_counts()"
   ]
  },
  {
   "cell_type": "code",
   "execution_count": 225,
   "id": "68bb7ca2",
   "metadata": {},
   "outputs": [],
   "source": [
    "benefits_encoded = pd.get_dummies(df['benefits'], prefix='benefits')\n",
    "df = pd.concat([df, benefits_encoded], axis=1)"
   ]
  },
  {
   "cell_type": "markdown",
   "id": "9798779f",
   "metadata": {},
   "source": [
    "## **`care_options`**"
   ]
  },
  {
   "cell_type": "code",
   "execution_count": 226,
   "id": "c2136c2f",
   "metadata": {},
   "outputs": [
    {
     "data": {
      "text/plain": [
       "No          499\n",
       "Yes         439\n",
       "Not sure    313\n",
       "Name: care_options, dtype: int64"
      ]
     },
     "execution_count": 226,
     "metadata": {},
     "output_type": "execute_result"
    }
   ],
   "source": [
    "df['care_options'].value_counts()"
   ]
  },
  {
   "cell_type": "code",
   "execution_count": 227,
   "id": "cc1e74a8",
   "metadata": {},
   "outputs": [],
   "source": [
    "care_options_encoded = pd.get_dummies(df['care_options'], prefix='care_options')\n",
    "df = pd.concat([df, care_options_encoded], axis=1)"
   ]
  },
  {
   "cell_type": "markdown",
   "id": "43e4b20d",
   "metadata": {},
   "source": [
    "## **`wellness_program`**"
   ]
  },
  {
   "cell_type": "code",
   "execution_count": 228,
   "id": "36dcd0f3",
   "metadata": {},
   "outputs": [
    {
     "data": {
      "text/plain": [
       "No            837\n",
       "Yes           227\n",
       "Don't know    187\n",
       "Name: wellness_program, dtype: int64"
      ]
     },
     "execution_count": 228,
     "metadata": {},
     "output_type": "execute_result"
    }
   ],
   "source": [
    "df['wellness_program'].value_counts()"
   ]
  },
  {
   "cell_type": "code",
   "execution_count": 229,
   "id": "069118c3",
   "metadata": {},
   "outputs": [],
   "source": [
    "wellness_program_encoded = pd.get_dummies(df['wellness_program'], prefix='wellness_program')\n",
    "df = pd.concat([df, wellness_program_encoded], axis=1)"
   ]
  },
  {
   "cell_type": "markdown",
   "id": "73750698",
   "metadata": {},
   "source": [
    "## **`seek_help`**"
   ]
  },
  {
   "cell_type": "code",
   "execution_count": 230,
   "id": "717cec74",
   "metadata": {},
   "outputs": [
    {
     "data": {
      "text/plain": [
       "No            641\n",
       "Don't know    363\n",
       "Yes           247\n",
       "Name: seek_help, dtype: int64"
      ]
     },
     "execution_count": 230,
     "metadata": {},
     "output_type": "execute_result"
    }
   ],
   "source": [
    "df['seek_help'].value_counts()"
   ]
  },
  {
   "cell_type": "code",
   "execution_count": 231,
   "id": "bc4b21d9",
   "metadata": {},
   "outputs": [],
   "source": [
    "seek_help_encoded = pd.get_dummies(df['seek_help'], prefix='seek_help')\n",
    "df = pd.concat([df, seek_help_encoded], axis=1)"
   ]
  },
  {
   "cell_type": "markdown",
   "id": "8a74ee7b",
   "metadata": {},
   "source": [
    "## **`anonymity`**"
   ]
  },
  {
   "cell_type": "code",
   "execution_count": 232,
   "id": "21acdd75",
   "metadata": {},
   "outputs": [
    {
     "data": {
      "text/plain": [
       "Don't know    815\n",
       "Yes           372\n",
       "No             64\n",
       "Name: anonymity, dtype: int64"
      ]
     },
     "execution_count": 232,
     "metadata": {},
     "output_type": "execute_result"
    }
   ],
   "source": [
    "df['anonymity'].value_counts()"
   ]
  },
  {
   "cell_type": "code",
   "execution_count": 233,
   "id": "e0c95cfc",
   "metadata": {},
   "outputs": [],
   "source": [
    "anonymity_encoded = pd.get_dummies(df['anonymity'], prefix='anonymity')\n",
    "df = pd.concat([df, anonymity_encoded], axis=1)"
   ]
  },
  {
   "cell_type": "markdown",
   "id": "a9e301c9",
   "metadata": {},
   "source": [
    "## **`mental_health_consequence`**"
   ]
  },
  {
   "cell_type": "code",
   "execution_count": 234,
   "id": "701ed7e2",
   "metadata": {},
   "outputs": [
    {
     "data": {
      "text/plain": [
       "No       487\n",
       "Maybe    476\n",
       "Yes      288\n",
       "Name: mental_health_consequence, dtype: int64"
      ]
     },
     "execution_count": 234,
     "metadata": {},
     "output_type": "execute_result"
    }
   ],
   "source": [
    "df['mental_health_consequence'].value_counts()"
   ]
  },
  {
   "cell_type": "code",
   "execution_count": 235,
   "id": "9ec293c3",
   "metadata": {},
   "outputs": [],
   "source": [
    "mental_health_consequence_encoded = pd.get_dummies(df['mental_health_consequence'], prefix='mental_health_consequence')\n",
    "df = pd.concat([df, mental_health_consequence_encoded], axis=1)"
   ]
  },
  {
   "cell_type": "markdown",
   "id": "df76b33d",
   "metadata": {},
   "source": [
    "## **`phys_health_consequence`**"
   ]
  },
  {
   "cell_type": "code",
   "execution_count": 236,
   "id": "b819efe3",
   "metadata": {},
   "outputs": [
    {
     "data": {
      "text/plain": [
       "No       920\n",
       "Maybe    273\n",
       "Yes       58\n",
       "Name: phys_health_consequence, dtype: int64"
      ]
     },
     "execution_count": 236,
     "metadata": {},
     "output_type": "execute_result"
    }
   ],
   "source": [
    "df['phys_health_consequence'].value_counts()"
   ]
  },
  {
   "cell_type": "code",
   "execution_count": 237,
   "id": "0ed147c5",
   "metadata": {},
   "outputs": [],
   "source": [
    "phys_health_consequence_encoded = pd.get_dummies(df['phys_health_consequence'], prefix='phys_health_consequence')\n",
    "df = pd.concat([df, phys_health_consequence_encoded], axis=1)"
   ]
  },
  {
   "cell_type": "markdown",
   "id": "b1710202",
   "metadata": {},
   "source": [
    "## **`coworkers`**"
   ]
  },
  {
   "cell_type": "code",
   "execution_count": 238,
   "id": "1d0580b3",
   "metadata": {
    "scrolled": true
   },
   "outputs": [
    {
     "data": {
      "text/plain": [
       "Some of them    771\n",
       "No              258\n",
       "Yes             222\n",
       "Name: coworkers, dtype: int64"
      ]
     },
     "execution_count": 238,
     "metadata": {},
     "output_type": "execute_result"
    }
   ],
   "source": [
    "df['coworkers'].value_counts()"
   ]
  },
  {
   "cell_type": "code",
   "execution_count": 239,
   "id": "eac41e25",
   "metadata": {},
   "outputs": [],
   "source": [
    "coworkers_encoded = pd.get_dummies(df['coworkers'], prefix='coworkers')\n",
    "df = pd.concat([df, coworkers_encoded], axis=1)"
   ]
  },
  {
   "cell_type": "markdown",
   "id": "5f98a37a",
   "metadata": {},
   "source": [
    "## **`supervisor`**"
   ]
  },
  {
   "cell_type": "code",
   "execution_count": 240,
   "id": "548d438d",
   "metadata": {},
   "outputs": [
    {
     "data": {
      "text/plain": [
       "Yes             512\n",
       "No              390\n",
       "Some of them    349\n",
       "Name: supervisor, dtype: int64"
      ]
     },
     "execution_count": 240,
     "metadata": {},
     "output_type": "execute_result"
    }
   ],
   "source": [
    "df['supervisor'].value_counts()"
   ]
  },
  {
   "cell_type": "code",
   "execution_count": 241,
   "id": "24fe767b",
   "metadata": {},
   "outputs": [],
   "source": [
    "supervisor_encoded = pd.get_dummies(df['supervisor'], prefix='supervisor')\n",
    "df = pd.concat([df, supervisor_encoded], axis=1)"
   ]
  },
  {
   "cell_type": "markdown",
   "id": "d00e1da2",
   "metadata": {},
   "source": [
    "## **`mental_health_interview`**"
   ]
  },
  {
   "cell_type": "code",
   "execution_count": 242,
   "id": "da0fbd7f",
   "metadata": {},
   "outputs": [
    {
     "data": {
      "text/plain": [
       "No       1003\n",
       "Maybe     207\n",
       "Yes        41\n",
       "Name: mental_health_interview, dtype: int64"
      ]
     },
     "execution_count": 242,
     "metadata": {},
     "output_type": "execute_result"
    }
   ],
   "source": [
    "df['mental_health_interview'].value_counts()"
   ]
  },
  {
   "cell_type": "code",
   "execution_count": 243,
   "id": "7a956544",
   "metadata": {},
   "outputs": [],
   "source": [
    "mental_health_interview_encoded = pd.get_dummies(df['mental_health_interview'], prefix='mental_health_interview')\n",
    "df = pd.concat([df, mental_health_interview_encoded], axis=1)"
   ]
  },
  {
   "cell_type": "markdown",
   "id": "d19e9585",
   "metadata": {},
   "source": [
    "## **`phys_health_interview`**"
   ]
  },
  {
   "cell_type": "code",
   "execution_count": 244,
   "id": "a26136e6",
   "metadata": {},
   "outputs": [
    {
     "data": {
      "text/plain": [
       "Maybe    555\n",
       "No       496\n",
       "Yes      200\n",
       "Name: phys_health_interview, dtype: int64"
      ]
     },
     "execution_count": 244,
     "metadata": {},
     "output_type": "execute_result"
    }
   ],
   "source": [
    "df['phys_health_interview'].value_counts()"
   ]
  },
  {
   "cell_type": "code",
   "execution_count": 245,
   "id": "75309b51",
   "metadata": {},
   "outputs": [],
   "source": [
    "phys_health_interview_encoded = pd.get_dummies(df['phys_health_interview'], prefix='phys_health_interview')\n",
    "df = pd.concat([df, phys_health_interview_encoded], axis=1)"
   ]
  },
  {
   "cell_type": "markdown",
   "id": "fc790f49",
   "metadata": {},
   "source": [
    "## **`mental_vs_physical`**"
   ]
  },
  {
   "cell_type": "code",
   "execution_count": 246,
   "id": "6b63f16b",
   "metadata": {},
   "outputs": [
    {
     "data": {
      "text/plain": [
       "Don't know    574\n",
       "Yes           339\n",
       "No            338\n",
       "Name: mental_vs_physical, dtype: int64"
      ]
     },
     "execution_count": 246,
     "metadata": {},
     "output_type": "execute_result"
    }
   ],
   "source": [
    "df['mental_vs_physical'].value_counts()"
   ]
  },
  {
   "cell_type": "code",
   "execution_count": 247,
   "id": "5ab14139",
   "metadata": {},
   "outputs": [],
   "source": [
    "mental_vs_physical_encoded = pd.get_dummies(df['mental_vs_physical'], prefix='mental_vs_physical')\n",
    "df = pd.concat([df, mental_vs_physical_encoded], axis=1)"
   ]
  },
  {
   "cell_type": "markdown",
   "id": "f559e201",
   "metadata": {},
   "source": [
    "# **Label Encoding**"
   ]
  },
  {
   "cell_type": "markdown",
   "id": "4a50ee77",
   "metadata": {},
   "source": [
    "## **`leave`**"
   ]
  },
  {
   "cell_type": "code",
   "execution_count": 248,
   "id": "cd284b0b",
   "metadata": {},
   "outputs": [
    {
     "data": {
      "text/plain": [
       "Don't know            561\n",
       "Somewhat easy         265\n",
       "Very easy             203\n",
       "Somewhat difficult    125\n",
       "Very difficult         97\n",
       "Name: leave, dtype: int64"
      ]
     },
     "execution_count": 248,
     "metadata": {},
     "output_type": "execute_result"
    }
   ],
   "source": [
    "df['leave'].value_counts()"
   ]
  },
  {
   "cell_type": "code",
   "execution_count": 249,
   "id": "8fadb0a2",
   "metadata": {},
   "outputs": [],
   "source": [
    "encoding_map = {\n",
    "    'Very easy': 0,\n",
    "    'Somewhat easy': 1,\n",
    "    'Don\\'t know': 2,\n",
    "    'Somewhat difficult': 3,\n",
    "    'Very difficult': 4\n",
    "}\n",
    "\n",
    "df['leave_encoded'] = df['leave'].map(encoding_map)"
   ]
  },
  {
   "cell_type": "markdown",
   "id": "68bee032",
   "metadata": {},
   "source": [
    "# **Frequency Encoding**"
   ]
  },
  {
   "cell_type": "markdown",
   "id": "7ae1e9d6",
   "metadata": {},
   "source": [
    "## **`country`**"
   ]
  },
  {
   "cell_type": "code",
   "execution_count": 250,
   "id": "9e325190",
   "metadata": {},
   "outputs": [
    {
     "data": {
      "text/plain": [
       "United States     746\n",
       "Other             204\n",
       "United Kingdom    184\n",
       "Canada             72\n",
       "Germany            45\n",
       "Name: country, dtype: int64"
      ]
     },
     "execution_count": 250,
     "metadata": {},
     "output_type": "execute_result"
    }
   ],
   "source": [
    "df['country'].value_counts()"
   ]
  },
  {
   "cell_type": "code",
   "execution_count": 251,
   "id": "0467e80a",
   "metadata": {},
   "outputs": [],
   "source": [
    "frequency_map = df['country'].value_counts(normalize=True)\n",
    "df['country_freq_encoded'] = df['country'].map(frequency_map)"
   ]
  },
  {
   "cell_type": "markdown",
   "id": "df703016",
   "metadata": {},
   "source": [
    "## **`no_employees`**"
   ]
  },
  {
   "cell_type": "code",
   "execution_count": 252,
   "id": "3fadf551",
   "metadata": {
    "scrolled": false
   },
   "outputs": [
    {
     "data": {
      "text/plain": [
       "6-25              289\n",
       "26-100            288\n",
       "More than 1000    281\n",
       "100-500           175\n",
       "1-5               158\n",
       "500-1000           60\n",
       "Name: no_employees, dtype: int64"
      ]
     },
     "execution_count": 252,
     "metadata": {},
     "output_type": "execute_result"
    }
   ],
   "source": [
    "df['no_employees'].value_counts()"
   ]
  },
  {
   "cell_type": "code",
   "execution_count": 253,
   "id": "bf6d9c9b",
   "metadata": {},
   "outputs": [],
   "source": [
    "frequency_map = df['no_employees'].value_counts(normalize=True)\n",
    "df['no_employees_freq_encoded'] = df['no_employees'].map(frequency_map)"
   ]
  },
  {
   "cell_type": "markdown",
   "id": "cdf493b4",
   "metadata": {},
   "source": [
    "# **Binary Encoding**"
   ]
  },
  {
   "cell_type": "markdown",
   "id": "ba1b9d30",
   "metadata": {},
   "source": [
    "## **`self_employed`**"
   ]
  },
  {
   "cell_type": "code",
   "execution_count": 254,
   "id": "a0deba6d",
   "metadata": {},
   "outputs": [
    {
     "data": {
      "text/plain": [
       "No     1109\n",
       "Yes     142\n",
       "Name: self_employed, dtype: int64"
      ]
     },
     "execution_count": 254,
     "metadata": {},
     "output_type": "execute_result"
    }
   ],
   "source": [
    "df['self_employed'].value_counts()"
   ]
  },
  {
   "cell_type": "code",
   "execution_count": 255,
   "id": "65ce0c76",
   "metadata": {},
   "outputs": [],
   "source": [
    "encoding_map = {\"No\": 0, \"Yes\": 1}\n",
    "df['self_employed_encoded'] = df['self_employed'].map(encoding_map)"
   ]
  },
  {
   "cell_type": "markdown",
   "id": "da2cc541",
   "metadata": {},
   "source": [
    "## **`family_history`**"
   ]
  },
  {
   "cell_type": "code",
   "execution_count": 256,
   "id": "48eeed0d",
   "metadata": {},
   "outputs": [
    {
     "data": {
      "text/plain": [
       "No     762\n",
       "Yes    489\n",
       "Name: family_history, dtype: int64"
      ]
     },
     "execution_count": 256,
     "metadata": {},
     "output_type": "execute_result"
    }
   ],
   "source": [
    "df['family_history'].value_counts()"
   ]
  },
  {
   "cell_type": "code",
   "execution_count": 257,
   "id": "09f210bc",
   "metadata": {},
   "outputs": [],
   "source": [
    "encoding_map = {\"No\": 0, \"Yes\": 1}\n",
    "df['family_history_encoded'] = df['family_history'].map(encoding_map)"
   ]
  },
  {
   "cell_type": "markdown",
   "id": "ff67520b",
   "metadata": {},
   "source": [
    "## **`treatment`**"
   ]
  },
  {
   "cell_type": "code",
   "execution_count": 258,
   "id": "6406bfb1",
   "metadata": {},
   "outputs": [
    {
     "data": {
      "text/plain": [
       "Yes    632\n",
       "No     619\n",
       "Name: treatment, dtype: int64"
      ]
     },
     "execution_count": 258,
     "metadata": {},
     "output_type": "execute_result"
    }
   ],
   "source": [
    "df['treatment'].value_counts()"
   ]
  },
  {
   "cell_type": "code",
   "execution_count": 259,
   "id": "09aa3af4",
   "metadata": {},
   "outputs": [],
   "source": [
    "encoding_map = {\"No\": 0, \"Yes\": 1}\n",
    "df['treatment_encoded'] = df['treatment'].map(encoding_map)"
   ]
  },
  {
   "cell_type": "markdown",
   "id": "f2523131",
   "metadata": {},
   "source": [
    "## **`remote_work`**"
   ]
  },
  {
   "cell_type": "code",
   "execution_count": 260,
   "id": "05f98e19",
   "metadata": {},
   "outputs": [
    {
     "data": {
      "text/plain": [
       "No     880\n",
       "Yes    371\n",
       "Name: remote_work, dtype: int64"
      ]
     },
     "execution_count": 260,
     "metadata": {},
     "output_type": "execute_result"
    }
   ],
   "source": [
    "df['remote_work'].value_counts()"
   ]
  },
  {
   "cell_type": "code",
   "execution_count": 261,
   "id": "7f7ff727",
   "metadata": {},
   "outputs": [],
   "source": [
    "encoding_map = {\"No\": 0, \"Yes\": 1}\n",
    "df['remote_work_encoded'] = df['remote_work'].map(encoding_map)"
   ]
  },
  {
   "cell_type": "markdown",
   "id": "6adf3ce7",
   "metadata": {},
   "source": [
    "## **`tech_company`**"
   ]
  },
  {
   "cell_type": "code",
   "execution_count": 262,
   "id": "f476cc55",
   "metadata": {},
   "outputs": [
    {
     "data": {
      "text/plain": [
       "Yes    1025\n",
       "No      226\n",
       "Name: tech_company, dtype: int64"
      ]
     },
     "execution_count": 262,
     "metadata": {},
     "output_type": "execute_result"
    }
   ],
   "source": [
    "df['tech_company'].value_counts()"
   ]
  },
  {
   "cell_type": "code",
   "execution_count": 263,
   "id": "122dfb9c",
   "metadata": {},
   "outputs": [],
   "source": [
    "encoding_map = {\"No\": 0, \"Yes\": 1}\n",
    "df['tech_company_encoded'] = df['tech_company'].map(encoding_map)"
   ]
  },
  {
   "cell_type": "markdown",
   "id": "e9a77bfa",
   "metadata": {},
   "source": [
    "## **`obs_consequence`**"
   ]
  },
  {
   "cell_type": "code",
   "execution_count": 264,
   "id": "130a7458",
   "metadata": {},
   "outputs": [
    {
     "data": {
      "text/plain": [
       "No     1070\n",
       "Yes     181\n",
       "Name: obs_consequence, dtype: int64"
      ]
     },
     "execution_count": 264,
     "metadata": {},
     "output_type": "execute_result"
    }
   ],
   "source": [
    "df['obs_consequence'].value_counts()"
   ]
  },
  {
   "cell_type": "code",
   "execution_count": 265,
   "id": "53d83257",
   "metadata": {},
   "outputs": [],
   "source": [
    "encoding_map = {\"No\": 0, \"Yes\": 1}\n",
    "df['obs_consequence_encoded'] = df['obs_consequence'].map(encoding_map)"
   ]
  },
  {
   "cell_type": "code",
   "execution_count": 266,
   "id": "8d17b8bb",
   "metadata": {},
   "outputs": [
    {
     "name": "stdout",
     "output_type": "stream",
     "text": [
      "<class 'pandas.core.frame.DataFrame'>\n",
      "Int64Index: 1251 entries, 0 to 1258\n",
      "Data columns (total 71 columns):\n",
      " #   Column                           Non-Null Count  Dtype  \n",
      "---  ------                           --------------  -----  \n",
      " 0   age                              1251 non-null   int64  \n",
      " 1   gender                           1251 non-null   object \n",
      " 2   country                          1251 non-null   object \n",
      " 3   self_employed                    1251 non-null   object \n",
      " 4   family_history                   1251 non-null   object \n",
      " 5   treatment                        1251 non-null   object \n",
      " 6   no_employees                     1251 non-null   object \n",
      " 7   remote_work                      1251 non-null   object \n",
      " 8   tech_company                     1251 non-null   object \n",
      " 9   benefits                         1251 non-null   object \n",
      " 10  care_options                     1251 non-null   object \n",
      " 11  wellness_program                 1251 non-null   object \n",
      " 12  seek_help                        1251 non-null   object \n",
      " 13  anonymity                        1251 non-null   object \n",
      " 14  leave                            1251 non-null   object \n",
      " 15  mental_health_consequence        1251 non-null   object \n",
      " 16  phys_health_consequence          1251 non-null   object \n",
      " 17  coworkers                        1251 non-null   object \n",
      " 18  supervisor                       1251 non-null   object \n",
      " 19  mental_health_interview          1251 non-null   object \n",
      " 20  phys_health_interview            1251 non-null   object \n",
      " 21  mental_vs_physical               1251 non-null   object \n",
      " 22  obs_consequence                  1251 non-null   object \n",
      " 23  gender_female                    1251 non-null   uint8  \n",
      " 24  gender_male                      1251 non-null   uint8  \n",
      " 25  gender_others                    1251 non-null   uint8  \n",
      " 26  benefits_Don't know              1251 non-null   uint8  \n",
      " 27  benefits_No                      1251 non-null   uint8  \n",
      " 28  benefits_Yes                     1251 non-null   uint8  \n",
      " 29  care_options_No                  1251 non-null   uint8  \n",
      " 30  care_options_Not sure            1251 non-null   uint8  \n",
      " 31  care_options_Yes                 1251 non-null   uint8  \n",
      " 32  wellness_program_Don't know      1251 non-null   uint8  \n",
      " 33  wellness_program_No              1251 non-null   uint8  \n",
      " 34  wellness_program_Yes             1251 non-null   uint8  \n",
      " 35  seek_help_Don't know             1251 non-null   uint8  \n",
      " 36  seek_help_No                     1251 non-null   uint8  \n",
      " 37  seek_help_Yes                    1251 non-null   uint8  \n",
      " 38  anonymity_Don't know             1251 non-null   uint8  \n",
      " 39  anonymity_No                     1251 non-null   uint8  \n",
      " 40  anonymity_Yes                    1251 non-null   uint8  \n",
      " 41  mental_health_consequence_Maybe  1251 non-null   uint8  \n",
      " 42  mental_health_consequence_No     1251 non-null   uint8  \n",
      " 43  mental_health_consequence_Yes    1251 non-null   uint8  \n",
      " 44  phys_health_consequence_Maybe    1251 non-null   uint8  \n",
      " 45  phys_health_consequence_No       1251 non-null   uint8  \n",
      " 46  phys_health_consequence_Yes      1251 non-null   uint8  \n",
      " 47  coworkers_No                     1251 non-null   uint8  \n",
      " 48  coworkers_Some of them           1251 non-null   uint8  \n",
      " 49  coworkers_Yes                    1251 non-null   uint8  \n",
      " 50  supervisor_No                    1251 non-null   uint8  \n",
      " 51  supervisor_Some of them          1251 non-null   uint8  \n",
      " 52  supervisor_Yes                   1251 non-null   uint8  \n",
      " 53  mental_health_interview_Maybe    1251 non-null   uint8  \n",
      " 54  mental_health_interview_No       1251 non-null   uint8  \n",
      " 55  mental_health_interview_Yes      1251 non-null   uint8  \n",
      " 56  phys_health_interview_Maybe      1251 non-null   uint8  \n",
      " 57  phys_health_interview_No         1251 non-null   uint8  \n",
      " 58  phys_health_interview_Yes        1251 non-null   uint8  \n",
      " 59  mental_vs_physical_Don't know    1251 non-null   uint8  \n",
      " 60  mental_vs_physical_No            1251 non-null   uint8  \n",
      " 61  mental_vs_physical_Yes           1251 non-null   uint8  \n",
      " 62  leave_encoded                    1251 non-null   int64  \n",
      " 63  country_freq_encoded             1251 non-null   float64\n",
      " 64  no_employees_freq_encoded        1251 non-null   float64\n",
      " 65  self_employed_encoded            1251 non-null   int64  \n",
      " 66  family_history_encoded           1251 non-null   int64  \n",
      " 67  treatment_encoded                1251 non-null   int64  \n",
      " 68  remote_work_encoded              1251 non-null   int64  \n",
      " 69  tech_company_encoded             1251 non-null   int64  \n",
      " 70  obs_consequence_encoded          1251 non-null   int64  \n",
      "dtypes: float64(2), int64(8), object(22), uint8(39)\n",
      "memory usage: 370.2+ KB\n"
     ]
    }
   ],
   "source": [
    "df.info()"
   ]
  },
  {
   "cell_type": "markdown",
   "id": "37b5bb6c",
   "metadata": {},
   "source": [
    "## **Slicing DataFrame**"
   ]
  },
  {
   "cell_type": "code",
   "execution_count": 267,
   "id": "a289bce3",
   "metadata": {},
   "outputs": [],
   "source": [
    "selected_columns = df.iloc[:, list(range(0, 1)) + list(range(23, 71))]\n",
    "df_encoded = selected_columns.copy()"
   ]
  },
  {
   "cell_type": "code",
   "execution_count": 268,
   "id": "5752751c",
   "metadata": {},
   "outputs": [
    {
     "name": "stdout",
     "output_type": "stream",
     "text": [
      "<class 'pandas.core.frame.DataFrame'>\n",
      "Int64Index: 1251 entries, 0 to 1258\n",
      "Data columns (total 49 columns):\n",
      " #   Column                           Non-Null Count  Dtype  \n",
      "---  ------                           --------------  -----  \n",
      " 0   age                              1251 non-null   int64  \n",
      " 1   gender_female                    1251 non-null   uint8  \n",
      " 2   gender_male                      1251 non-null   uint8  \n",
      " 3   gender_others                    1251 non-null   uint8  \n",
      " 4   benefits_Don't know              1251 non-null   uint8  \n",
      " 5   benefits_No                      1251 non-null   uint8  \n",
      " 6   benefits_Yes                     1251 non-null   uint8  \n",
      " 7   care_options_No                  1251 non-null   uint8  \n",
      " 8   care_options_Not sure            1251 non-null   uint8  \n",
      " 9   care_options_Yes                 1251 non-null   uint8  \n",
      " 10  wellness_program_Don't know      1251 non-null   uint8  \n",
      " 11  wellness_program_No              1251 non-null   uint8  \n",
      " 12  wellness_program_Yes             1251 non-null   uint8  \n",
      " 13  seek_help_Don't know             1251 non-null   uint8  \n",
      " 14  seek_help_No                     1251 non-null   uint8  \n",
      " 15  seek_help_Yes                    1251 non-null   uint8  \n",
      " 16  anonymity_Don't know             1251 non-null   uint8  \n",
      " 17  anonymity_No                     1251 non-null   uint8  \n",
      " 18  anonymity_Yes                    1251 non-null   uint8  \n",
      " 19  mental_health_consequence_Maybe  1251 non-null   uint8  \n",
      " 20  mental_health_consequence_No     1251 non-null   uint8  \n",
      " 21  mental_health_consequence_Yes    1251 non-null   uint8  \n",
      " 22  phys_health_consequence_Maybe    1251 non-null   uint8  \n",
      " 23  phys_health_consequence_No       1251 non-null   uint8  \n",
      " 24  phys_health_consequence_Yes      1251 non-null   uint8  \n",
      " 25  coworkers_No                     1251 non-null   uint8  \n",
      " 26  coworkers_Some of them           1251 non-null   uint8  \n",
      " 27  coworkers_Yes                    1251 non-null   uint8  \n",
      " 28  supervisor_No                    1251 non-null   uint8  \n",
      " 29  supervisor_Some of them          1251 non-null   uint8  \n",
      " 30  supervisor_Yes                   1251 non-null   uint8  \n",
      " 31  mental_health_interview_Maybe    1251 non-null   uint8  \n",
      " 32  mental_health_interview_No       1251 non-null   uint8  \n",
      " 33  mental_health_interview_Yes      1251 non-null   uint8  \n",
      " 34  phys_health_interview_Maybe      1251 non-null   uint8  \n",
      " 35  phys_health_interview_No         1251 non-null   uint8  \n",
      " 36  phys_health_interview_Yes        1251 non-null   uint8  \n",
      " 37  mental_vs_physical_Don't know    1251 non-null   uint8  \n",
      " 38  mental_vs_physical_No            1251 non-null   uint8  \n",
      " 39  mental_vs_physical_Yes           1251 non-null   uint8  \n",
      " 40  leave_encoded                    1251 non-null   int64  \n",
      " 41  country_freq_encoded             1251 non-null   float64\n",
      " 42  no_employees_freq_encoded        1251 non-null   float64\n",
      " 43  self_employed_encoded            1251 non-null   int64  \n",
      " 44  family_history_encoded           1251 non-null   int64  \n",
      " 45  treatment_encoded                1251 non-null   int64  \n",
      " 46  remote_work_encoded              1251 non-null   int64  \n",
      " 47  tech_company_encoded             1251 non-null   int64  \n",
      " 48  obs_consequence_encoded          1251 non-null   int64  \n",
      "dtypes: float64(2), int64(8), uint8(39)\n",
      "memory usage: 155.2 KB\n"
     ]
    }
   ],
   "source": [
    "df_encoded.info()"
   ]
  },
  {
   "cell_type": "code",
   "execution_count": 269,
   "id": "828df1c9",
   "metadata": {},
   "outputs": [],
   "source": [
    "selected_columns = df.iloc[:, 0:23]\n",
    "df_no_encoded = selected_columns.copy()"
   ]
  },
  {
   "cell_type": "code",
   "execution_count": 270,
   "id": "48535945",
   "metadata": {
    "scrolled": true
   },
   "outputs": [
    {
     "name": "stdout",
     "output_type": "stream",
     "text": [
      "<class 'pandas.core.frame.DataFrame'>\n",
      "Int64Index: 1251 entries, 0 to 1258\n",
      "Data columns (total 23 columns):\n",
      " #   Column                     Non-Null Count  Dtype \n",
      "---  ------                     --------------  ----- \n",
      " 0   age                        1251 non-null   int64 \n",
      " 1   gender                     1251 non-null   object\n",
      " 2   country                    1251 non-null   object\n",
      " 3   self_employed              1251 non-null   object\n",
      " 4   family_history             1251 non-null   object\n",
      " 5   treatment                  1251 non-null   object\n",
      " 6   no_employees               1251 non-null   object\n",
      " 7   remote_work                1251 non-null   object\n",
      " 8   tech_company               1251 non-null   object\n",
      " 9   benefits                   1251 non-null   object\n",
      " 10  care_options               1251 non-null   object\n",
      " 11  wellness_program           1251 non-null   object\n",
      " 12  seek_help                  1251 non-null   object\n",
      " 13  anonymity                  1251 non-null   object\n",
      " 14  leave                      1251 non-null   object\n",
      " 15  mental_health_consequence  1251 non-null   object\n",
      " 16  phys_health_consequence    1251 non-null   object\n",
      " 17  coworkers                  1251 non-null   object\n",
      " 18  supervisor                 1251 non-null   object\n",
      " 19  mental_health_interview    1251 non-null   object\n",
      " 20  phys_health_interview      1251 non-null   object\n",
      " 21  mental_vs_physical         1251 non-null   object\n",
      " 22  obs_consequence            1251 non-null   object\n",
      "dtypes: int64(1), object(22)\n",
      "memory usage: 234.6+ KB\n"
     ]
    }
   ],
   "source": [
    "df_no_encoded.info()"
   ]
  },
  {
   "cell_type": "code",
   "execution_count": 271,
   "id": "5ce87f33",
   "metadata": {},
   "outputs": [],
   "source": [
    "df_encoded_kmeans = df_encoded.copy()\n",
    "df_encoded_kmeans_age_standardized = df_encoded.copy()\n",
    "df_no_encoded_kmeans = df_no_encoded.copy()\n",
    "\n",
    "df_encoded_agl = df_encoded.copy()\n",
    "df_encoded_agl_age_standardized = df_encoded.copy()\n",
    "df_no_encoded_agl = df_no_encoded.copy()"
   ]
  },
  {
   "cell_type": "markdown",
   "id": "fc2a0937",
   "metadata": {},
   "source": [
    "# **Clustering: K-Means**"
   ]
  },
  {
   "cell_type": "markdown",
   "id": "014d8fde",
   "metadata": {},
   "source": [
    "The decision to employ k-means clustering as the **initial model** for this dataset stems from several key considerations. Firstly, k-means is a widely used and efficient clustering algorithm known for its simplicity and scalability, making it suitable for handling relatively large datasets. Secondly, it assumes clusters based on centroids, aiming to minimize intra-cluster variability, which aligns with the objective of identifying distinct groups or patterns within the data related to mental health perceptions in the workplace. Additionally, k-means does not require a large number of parameters to be tuned, making it relatively straightforward to implement and interpret. Given the exploratory nature of this analysis and the desire to uncover inherent structures or groupings within the dataset, k-means serves as an appropriate starting point, providing insights into potential clusters or associations among the features that could further inform subsequent analyses or interventions related to workplace mental health."
   ]
  },
  {
   "cell_type": "code",
   "execution_count": 272,
   "id": "0029ccd6",
   "metadata": {},
   "outputs": [],
   "source": [
    "import matplotlib.pyplot as plt \n",
    "from sklearn.cluster import KMeans\n",
    "from sklearn.metrics import silhouette_score"
   ]
  },
  {
   "cell_type": "code",
   "execution_count": 273,
   "id": "649878db",
   "metadata": {
    "scrolled": true
   },
   "outputs": [
    {
     "name": "stdout",
     "output_type": "stream",
     "text": [
      "For n_clusters = 2 The average silhouette_score is : 0.45024380682442955\n",
      "For n_clusters = 3 The average silhouette_score is : 0.3596543910834068\n",
      "For n_clusters = 4 The average silhouette_score is : 0.32180578354613865\n",
      "For n_clusters = 5 The average silhouette_score is : 0.24115215371793203\n",
      "For n_clusters = 6 The average silhouette_score is : 0.20103642029472016\n",
      "For n_clusters = 7 The average silhouette_score is : 0.16931876490550324\n",
      "For n_clusters = 8 The average silhouette_score is : 0.15312405049866548\n",
      "For n_clusters = 9 The average silhouette_score is : 0.13130384768529108\n"
     ]
    }
   ],
   "source": [
    "distortions = []\n",
    "K = range(2,10)\n",
    "for k in K:\n",
    "    kmeanModel = KMeans(n_clusters=k)\n",
    "    cluster_label=kmeanModel.fit_predict(df_encoded_kmeans)\n",
    "\n",
    "    silhouette_avg = silhouette_score(df_encoded_kmeans, cluster_label)\n",
    "    print(\n",
    "        \"For n_clusters =\",k,\n",
    "        \"The average silhouette_score is :\",silhouette_avg,\n",
    "        )\n",
    "    \n",
    "    distortions.append(kmeanModel.inertia_)"
   ]
  },
  {
   "cell_type": "code",
   "execution_count": 274,
   "id": "e8d75baf",
   "metadata": {},
   "outputs": [
    {
     "data": {
      "image/png": "[encoded data removed]",
      "text/plain": [
       "<Figure size 1152x576 with 1 Axes>"
      ]
     },
     "metadata": {
      "needs_background": "light"
     },
     "output_type": "display_data"
    }
   ],
   "source": [
    "plt.figure(figsize=(16,8))\n",
    "plt.plot(K, distortions, 'bx-')\n",
    "plt.xlabel('k')\n",
    "plt.ylabel('Distortion')\n",
    "plt.title('The Elbow Method showing the optimal k')\n",
    "plt.show()"
   ]
  },
  {
   "cell_type": "code",
   "execution_count": 275,
   "id": "3eb2b0db",
   "metadata": {},
   "outputs": [
    {
     "data": {
      "text/plain": [
       "KMeans(n_clusters=2)"
      ]
     },
     "execution_count": 275,
     "metadata": {},
     "output_type": "execute_result"
    }
   ],
   "source": [
    "#Based on silhouette score and elbow method cluster 2 is the best one\n",
    "kmeanModel = KMeans(n_clusters=2)\n",
    "kmeanModel.fit(df_encoded_kmeans)"
   ]
  },
  {
   "cell_type": "code",
   "execution_count": 276,
   "id": "f45bb2cb",
   "metadata": {},
   "outputs": [],
   "source": [
    "df_no_encoded_kmeans['k_means']=kmeanModel.predict(df_encoded_kmeans)"
   ]
  },
  {
   "cell_type": "code",
   "execution_count": 277,
   "id": "f37eeddd",
   "metadata": {},
   "outputs": [
    {
     "data": {
      "text/plain": [
       "1    798\n",
       "0    453\n",
       "Name: k_means, dtype: int64"
      ]
     },
     "execution_count": 277,
     "metadata": {},
     "output_type": "execute_result"
    }
   ],
   "source": [
    "df_no_encoded_kmeans['k_means'].value_counts()"
   ]
  },
  {
   "cell_type": "code",
   "execution_count": 278,
   "id": "208dc99a",
   "metadata": {},
   "outputs": [
    {
     "data": {
      "text/html": [
       "<div>\n",
       "<style scoped>\n",
       "    .dataframe tbody tr th:only-of-type {\n",
       "        vertical-align: middle;\n",
       "    }\n",
       "\n",
       "    .dataframe tbody tr th {\n",
       "        vertical-align: top;\n",
       "    }\n",
       "\n",
       "    .dataframe thead th {\n",
       "        text-align: right;\n",
       "    }\n",
       "</style>\n",
       "<table border=\"1\" class=\"dataframe\">\n",
       "  <thead>\n",
       "    <tr style=\"text-align: right;\">\n",
       "      <th></th>\n",
       "      <th>age</th>\n",
       "      <th>gender_female</th>\n",
       "      <th>gender_male</th>\n",
       "      <th>gender_others</th>\n",
       "      <th>benefits_Don't know</th>\n",
       "      <th>benefits_No</th>\n",
       "      <th>benefits_Yes</th>\n",
       "      <th>care_options_No</th>\n",
       "      <th>care_options_Not sure</th>\n",
       "      <th>care_options_Yes</th>\n",
       "      <th>...</th>\n",
       "      <th>mental_vs_physical_Yes</th>\n",
       "      <th>leave_encoded</th>\n",
       "      <th>country_freq_encoded</th>\n",
       "      <th>no_employees_freq_encoded</th>\n",
       "      <th>self_employed_encoded</th>\n",
       "      <th>family_history_encoded</th>\n",
       "      <th>treatment_encoded</th>\n",
       "      <th>remote_work_encoded</th>\n",
       "      <th>tech_company_encoded</th>\n",
       "      <th>obs_consequence_encoded</th>\n",
       "    </tr>\n",
       "  </thead>\n",
       "  <tbody>\n",
       "    <tr>\n",
       "      <th>0</th>\n",
       "      <td>37</td>\n",
       "      <td>1</td>\n",
       "      <td>0</td>\n",
       "      <td>0</td>\n",
       "      <td>0</td>\n",
       "      <td>0</td>\n",
       "      <td>1</td>\n",
       "      <td>0</td>\n",
       "      <td>1</td>\n",
       "      <td>0</td>\n",
       "      <td>...</td>\n",
       "      <td>1</td>\n",
       "      <td>1</td>\n",
       "      <td>0.596323</td>\n",
       "      <td>0.231015</td>\n",
       "      <td>0</td>\n",
       "      <td>0</td>\n",
       "      <td>1</td>\n",
       "      <td>0</td>\n",
       "      <td>1</td>\n",
       "      <td>0</td>\n",
       "    </tr>\n",
       "    <tr>\n",
       "      <th>1</th>\n",
       "      <td>44</td>\n",
       "      <td>0</td>\n",
       "      <td>1</td>\n",
       "      <td>0</td>\n",
       "      <td>1</td>\n",
       "      <td>0</td>\n",
       "      <td>0</td>\n",
       "      <td>1</td>\n",
       "      <td>0</td>\n",
       "      <td>0</td>\n",
       "      <td>...</td>\n",
       "      <td>0</td>\n",
       "      <td>2</td>\n",
       "      <td>0.596323</td>\n",
       "      <td>0.224620</td>\n",
       "      <td>0</td>\n",
       "      <td>0</td>\n",
       "      <td>0</td>\n",
       "      <td>0</td>\n",
       "      <td>0</td>\n",
       "      <td>0</td>\n",
       "    </tr>\n",
       "    <tr>\n",
       "      <th>2</th>\n",
       "      <td>32</td>\n",
       "      <td>0</td>\n",
       "      <td>1</td>\n",
       "      <td>0</td>\n",
       "      <td>0</td>\n",
       "      <td>1</td>\n",
       "      <td>0</td>\n",
       "      <td>1</td>\n",
       "      <td>0</td>\n",
       "      <td>0</td>\n",
       "      <td>...</td>\n",
       "      <td>0</td>\n",
       "      <td>3</td>\n",
       "      <td>0.057554</td>\n",
       "      <td>0.231015</td>\n",
       "      <td>0</td>\n",
       "      <td>0</td>\n",
       "      <td>0</td>\n",
       "      <td>0</td>\n",
       "      <td>1</td>\n",
       "      <td>0</td>\n",
       "    </tr>\n",
       "    <tr>\n",
       "      <th>3</th>\n",
       "      <td>31</td>\n",
       "      <td>0</td>\n",
       "      <td>1</td>\n",
       "      <td>0</td>\n",
       "      <td>0</td>\n",
       "      <td>1</td>\n",
       "      <td>0</td>\n",
       "      <td>0</td>\n",
       "      <td>0</td>\n",
       "      <td>1</td>\n",
       "      <td>...</td>\n",
       "      <td>0</td>\n",
       "      <td>3</td>\n",
       "      <td>0.147082</td>\n",
       "      <td>0.230216</td>\n",
       "      <td>0</td>\n",
       "      <td>1</td>\n",
       "      <td>1</td>\n",
       "      <td>0</td>\n",
       "      <td>1</td>\n",
       "      <td>1</td>\n",
       "    </tr>\n",
       "    <tr>\n",
       "      <th>4</th>\n",
       "      <td>31</td>\n",
       "      <td>0</td>\n",
       "      <td>1</td>\n",
       "      <td>0</td>\n",
       "      <td>0</td>\n",
       "      <td>0</td>\n",
       "      <td>1</td>\n",
       "      <td>1</td>\n",
       "      <td>0</td>\n",
       "      <td>0</td>\n",
       "      <td>...</td>\n",
       "      <td>0</td>\n",
       "      <td>2</td>\n",
       "      <td>0.596323</td>\n",
       "      <td>0.139888</td>\n",
       "      <td>0</td>\n",
       "      <td>0</td>\n",
       "      <td>0</td>\n",
       "      <td>1</td>\n",
       "      <td>1</td>\n",
       "      <td>0</td>\n",
       "    </tr>\n",
       "  </tbody>\n",
       "</table>\n",
       "<p>5 rows × 49 columns</p>\n",
       "</div>"
      ],
      "text/plain": [
       "   age  gender_female  gender_male  gender_others  benefits_Don't know  \\\n",
       "0   37              1            0              0                    0   \n",
       "1   44              0            1              0                    1   \n",
       "2   32              0            1              0                    0   \n",
       "3   31              0            1              0                    0   \n",
       "4   31              0            1              0                    0   \n",
       "\n",
       "   benefits_No  benefits_Yes  care_options_No  care_options_Not sure  \\\n",
       "0            0             1                0                      1   \n",
       "1            0             0                1                      0   \n",
       "2            1             0                1                      0   \n",
       "3            1             0                0                      0   \n",
       "4            0             1                1                      0   \n",
       "\n",
       "   care_options_Yes  ...  mental_vs_physical_Yes  leave_encoded  \\\n",
       "0                 0  ...                       1              1   \n",
       "1                 0  ...                       0              2   \n",
       "2                 0  ...                       0              3   \n",
       "3                 1  ...                       0              3   \n",
       "4                 0  ...                       0              2   \n",
       "\n",
       "   country_freq_encoded  no_employees_freq_encoded  self_employed_encoded  \\\n",
       "0              0.596323                   0.231015                      0   \n",
       "1              0.596323                   0.224620                      0   \n",
       "2              0.057554                   0.231015                      0   \n",
       "3              0.147082                   0.230216                      0   \n",
       "4              0.596323                   0.139888                      0   \n",
       "\n",
       "   family_history_encoded  treatment_encoded  remote_work_encoded  \\\n",
       "0                       0                  1                    0   \n",
       "1                       0                  0                    0   \n",
       "2                       0                  0                    0   \n",
       "3                       1                  1                    0   \n",
       "4                       0                  0                    1   \n",
       "\n",
       "   tech_company_encoded  obs_consequence_encoded  \n",
       "0                     1                        0  \n",
       "1                     0                        0  \n",
       "2                     1                        0  \n",
       "3                     1                        1  \n",
       "4                     1                        0  \n",
       "\n",
       "[5 rows x 49 columns]"
      ]
     },
     "execution_count": 278,
     "metadata": {},
     "output_type": "execute_result"
    }
   ],
   "source": [
    "df_encoded_kmeans.head()"
   ]
  },
  {
   "cell_type": "code",
   "execution_count": 279,
   "id": "c64bee18",
   "metadata": {},
   "outputs": [],
   "source": [
    "cluster_0=df_no_encoded_kmeans[df_no_encoded_kmeans['k_means']==0]"
   ]
  },
  {
   "cell_type": "code",
   "execution_count": 280,
   "id": "4237fc70",
   "metadata": {},
   "outputs": [],
   "source": [
    "cluster_1=df_no_encoded_kmeans[df_no_encoded_kmeans['k_means']==1]"
   ]
  },
  {
   "cell_type": "markdown",
   "id": "514a1ce5",
   "metadata": {},
   "source": [
    "# **Persona Analysis**"
   ]
  },
  {
   "cell_type": "markdown",
   "id": "c618bde9",
   "metadata": {},
   "source": [
    "## **Cluster 0**"
   ]
  },
  {
   "cell_type": "code",
   "execution_count": 281,
   "id": "1ac3753c",
   "metadata": {
    "scrolled": true
   },
   "outputs": [
    {
     "data": {
      "text/plain": [
       "Index(['age', 'gender', 'country', 'self_employed', 'family_history',\n",
       "       'treatment', 'no_employees', 'remote_work', 'tech_company', 'benefits',\n",
       "       'care_options', 'wellness_program', 'seek_help', 'anonymity', 'leave',\n",
       "       'mental_health_consequence', 'phys_health_consequence', 'coworkers',\n",
       "       'supervisor', 'mental_health_interview', 'phys_health_interview',\n",
       "       'mental_vs_physical', 'obs_consequence', 'k_means'],\n",
       "      dtype='object')"
      ]
     },
     "execution_count": 281,
     "metadata": {},
     "output_type": "execute_result"
    }
   ],
   "source": [
    "cluster_0.columns"
   ]
  },
  {
   "cell_type": "code",
   "execution_count": 282,
   "id": "29b47f26",
   "metadata": {
    "scrolled": true
   },
   "outputs": [
    {
     "data": {
      "text/html": [
       "<div>\n",
       "<style scoped>\n",
       "    .dataframe tbody tr th:only-of-type {\n",
       "        vertical-align: middle;\n",
       "    }\n",
       "\n",
       "    .dataframe tbody tr th {\n",
       "        vertical-align: top;\n",
       "    }\n",
       "\n",
       "    .dataframe thead th {\n",
       "        text-align: right;\n",
       "    }\n",
       "</style>\n",
       "<table border=\"1\" class=\"dataframe\">\n",
       "  <thead>\n",
       "    <tr style=\"text-align: right;\">\n",
       "      <th></th>\n",
       "      <th>age</th>\n",
       "      <th>gender</th>\n",
       "      <th>country</th>\n",
       "      <th>self_employed</th>\n",
       "      <th>family_history</th>\n",
       "      <th>treatment</th>\n",
       "      <th>no_employees</th>\n",
       "      <th>remote_work</th>\n",
       "      <th>tech_company</th>\n",
       "      <th>benefits</th>\n",
       "      <th>...</th>\n",
       "      <th>leave</th>\n",
       "      <th>mental_health_consequence</th>\n",
       "      <th>phys_health_consequence</th>\n",
       "      <th>coworkers</th>\n",
       "      <th>supervisor</th>\n",
       "      <th>mental_health_interview</th>\n",
       "      <th>phys_health_interview</th>\n",
       "      <th>mental_vs_physical</th>\n",
       "      <th>obs_consequence</th>\n",
       "      <th>k_means</th>\n",
       "    </tr>\n",
       "  </thead>\n",
       "  <tbody>\n",
       "    <tr>\n",
       "      <th>0</th>\n",
       "      <td>37</td>\n",
       "      <td>female</td>\n",
       "      <td>United States</td>\n",
       "      <td>No</td>\n",
       "      <td>No</td>\n",
       "      <td>Yes</td>\n",
       "      <td>6-25</td>\n",
       "      <td>No</td>\n",
       "      <td>Yes</td>\n",
       "      <td>Yes</td>\n",
       "      <td>...</td>\n",
       "      <td>Somewhat easy</td>\n",
       "      <td>No</td>\n",
       "      <td>No</td>\n",
       "      <td>Some of them</td>\n",
       "      <td>Yes</td>\n",
       "      <td>No</td>\n",
       "      <td>Maybe</td>\n",
       "      <td>Yes</td>\n",
       "      <td>No</td>\n",
       "      <td>0</td>\n",
       "    </tr>\n",
       "    <tr>\n",
       "      <th>1</th>\n",
       "      <td>44</td>\n",
       "      <td>male</td>\n",
       "      <td>United States</td>\n",
       "      <td>No</td>\n",
       "      <td>No</td>\n",
       "      <td>No</td>\n",
       "      <td>More than 1000</td>\n",
       "      <td>No</td>\n",
       "      <td>No</td>\n",
       "      <td>Don't know</td>\n",
       "      <td>...</td>\n",
       "      <td>Don't know</td>\n",
       "      <td>Maybe</td>\n",
       "      <td>No</td>\n",
       "      <td>No</td>\n",
       "      <td>No</td>\n",
       "      <td>No</td>\n",
       "      <td>No</td>\n",
       "      <td>Don't know</td>\n",
       "      <td>No</td>\n",
       "      <td>0</td>\n",
       "    </tr>\n",
       "    <tr>\n",
       "      <th>6</th>\n",
       "      <td>35</td>\n",
       "      <td>female</td>\n",
       "      <td>United States</td>\n",
       "      <td>No</td>\n",
       "      <td>Yes</td>\n",
       "      <td>Yes</td>\n",
       "      <td>1-5</td>\n",
       "      <td>Yes</td>\n",
       "      <td>Yes</td>\n",
       "      <td>No</td>\n",
       "      <td>...</td>\n",
       "      <td>Somewhat difficult</td>\n",
       "      <td>Maybe</td>\n",
       "      <td>Maybe</td>\n",
       "      <td>Some of them</td>\n",
       "      <td>No</td>\n",
       "      <td>No</td>\n",
       "      <td>No</td>\n",
       "      <td>Don't know</td>\n",
       "      <td>No</td>\n",
       "      <td>0</td>\n",
       "    </tr>\n",
       "    <tr>\n",
       "      <th>7</th>\n",
       "      <td>39</td>\n",
       "      <td>male</td>\n",
       "      <td>Canada</td>\n",
       "      <td>No</td>\n",
       "      <td>No</td>\n",
       "      <td>No</td>\n",
       "      <td>1-5</td>\n",
       "      <td>Yes</td>\n",
       "      <td>Yes</td>\n",
       "      <td>No</td>\n",
       "      <td>...</td>\n",
       "      <td>Don't know</td>\n",
       "      <td>No</td>\n",
       "      <td>No</td>\n",
       "      <td>No</td>\n",
       "      <td>No</td>\n",
       "      <td>No</td>\n",
       "      <td>No</td>\n",
       "      <td>No</td>\n",
       "      <td>No</td>\n",
       "      <td>0</td>\n",
       "    </tr>\n",
       "    <tr>\n",
       "      <th>8</th>\n",
       "      <td>42</td>\n",
       "      <td>female</td>\n",
       "      <td>United States</td>\n",
       "      <td>No</td>\n",
       "      <td>Yes</td>\n",
       "      <td>Yes</td>\n",
       "      <td>100-500</td>\n",
       "      <td>No</td>\n",
       "      <td>Yes</td>\n",
       "      <td>Yes</td>\n",
       "      <td>...</td>\n",
       "      <td>Very difficult</td>\n",
       "      <td>Maybe</td>\n",
       "      <td>No</td>\n",
       "      <td>Yes</td>\n",
       "      <td>Yes</td>\n",
       "      <td>No</td>\n",
       "      <td>Maybe</td>\n",
       "      <td>No</td>\n",
       "      <td>No</td>\n",
       "      <td>0</td>\n",
       "    </tr>\n",
       "  </tbody>\n",
       "</table>\n",
       "<p>5 rows × 24 columns</p>\n",
       "</div>"
      ],
      "text/plain": [
       "   age  gender        country self_employed family_history treatment  \\\n",
       "0   37  female  United States            No             No       Yes   \n",
       "1   44    male  United States            No             No        No   \n",
       "6   35  female  United States            No            Yes       Yes   \n",
       "7   39    male         Canada            No             No        No   \n",
       "8   42  female  United States            No            Yes       Yes   \n",
       "\n",
       "     no_employees remote_work tech_company    benefits  ...  \\\n",
       "0            6-25          No          Yes         Yes  ...   \n",
       "1  More than 1000          No           No  Don't know  ...   \n",
       "6             1-5         Yes          Yes          No  ...   \n",
       "7             1-5         Yes          Yes          No  ...   \n",
       "8         100-500          No          Yes         Yes  ...   \n",
       "\n",
       "                leave mental_health_consequence phys_health_consequence  \\\n",
       "0       Somewhat easy                        No                      No   \n",
       "1          Don't know                     Maybe                      No   \n",
       "6  Somewhat difficult                     Maybe                   Maybe   \n",
       "7          Don't know                        No                      No   \n",
       "8      Very difficult                     Maybe                      No   \n",
       "\n",
       "      coworkers supervisor mental_health_interview phys_health_interview  \\\n",
       "0  Some of them        Yes                      No                 Maybe   \n",
       "1            No         No                      No                    No   \n",
       "6  Some of them         No                      No                    No   \n",
       "7            No         No                      No                    No   \n",
       "8           Yes        Yes                      No                 Maybe   \n",
       "\n",
       "  mental_vs_physical obs_consequence k_means  \n",
       "0                Yes              No       0  \n",
       "1         Don't know              No       0  \n",
       "6         Don't know              No       0  \n",
       "7                 No              No       0  \n",
       "8                 No              No       0  \n",
       "\n",
       "[5 rows x 24 columns]"
      ]
     },
     "execution_count": 282,
     "metadata": {},
     "output_type": "execute_result"
    }
   ],
   "source": [
    "cluster_0.head()"
   ]
  },
  {
   "cell_type": "code",
   "execution_count": 283,
   "id": "9a536ae8",
   "metadata": {
    "scrolled": true
   },
   "outputs": [
    {
     "name": "stdout",
     "output_type": "stream",
     "text": [
      "<class 'pandas.core.frame.DataFrame'>\n",
      "Int64Index: 453 entries, 0 to 1257\n",
      "Data columns (total 24 columns):\n",
      " #   Column                     Non-Null Count  Dtype \n",
      "---  ------                     --------------  ----- \n",
      " 0   age                        453 non-null    int64 \n",
      " 1   gender                     453 non-null    object\n",
      " 2   country                    453 non-null    object\n",
      " 3   self_employed              453 non-null    object\n",
      " 4   family_history             453 non-null    object\n",
      " 5   treatment                  453 non-null    object\n",
      " 6   no_employees               453 non-null    object\n",
      " 7   remote_work                453 non-null    object\n",
      " 8   tech_company               453 non-null    object\n",
      " 9   benefits                   453 non-null    object\n",
      " 10  care_options               453 non-null    object\n",
      " 11  wellness_program           453 non-null    object\n",
      " 12  seek_help                  453 non-null    object\n",
      " 13  anonymity                  453 non-null    object\n",
      " 14  leave                      453 non-null    object\n",
      " 15  mental_health_consequence  453 non-null    object\n",
      " 16  phys_health_consequence    453 non-null    object\n",
      " 17  coworkers                  453 non-null    object\n",
      " 18  supervisor                 453 non-null    object\n",
      " 19  mental_health_interview    453 non-null    object\n",
      " 20  phys_health_interview      453 non-null    object\n",
      " 21  mental_vs_physical         453 non-null    object\n",
      " 22  obs_consequence            453 non-null    object\n",
      " 23  k_means                    453 non-null    int32 \n",
      "dtypes: int32(1), int64(1), object(22)\n",
      "memory usage: 86.7+ KB\n"
     ]
    }
   ],
   "source": [
    "cluster_0.info()"
   ]
  },
  {
   "cell_type": "code",
   "execution_count": 284,
   "id": "c9bfb8aa",
   "metadata": {
    "scrolled": true
   },
   "outputs": [
    {
     "data": {
      "text/html": [
       "<div>\n",
       "<style scoped>\n",
       "    .dataframe tbody tr th:only-of-type {\n",
       "        vertical-align: middle;\n",
       "    }\n",
       "\n",
       "    .dataframe tbody tr th {\n",
       "        vertical-align: top;\n",
       "    }\n",
       "\n",
       "    .dataframe thead th {\n",
       "        text-align: right;\n",
       "    }\n",
       "</style>\n",
       "<table border=\"1\" class=\"dataframe\">\n",
       "  <thead>\n",
       "    <tr style=\"text-align: right;\">\n",
       "      <th></th>\n",
       "      <th>age</th>\n",
       "      <th>k_means</th>\n",
       "    </tr>\n",
       "  </thead>\n",
       "  <tbody>\n",
       "    <tr>\n",
       "      <th>count</th>\n",
       "      <td>453.000000</td>\n",
       "      <td>453.0</td>\n",
       "    </tr>\n",
       "    <tr>\n",
       "      <th>mean</th>\n",
       "      <td>39.677704</td>\n",
       "      <td>0.0</td>\n",
       "    </tr>\n",
       "    <tr>\n",
       "      <th>std</th>\n",
       "      <td>5.785423</td>\n",
       "      <td>0.0</td>\n",
       "    </tr>\n",
       "    <tr>\n",
       "      <th>min</th>\n",
       "      <td>34.000000</td>\n",
       "      <td>0.0</td>\n",
       "    </tr>\n",
       "    <tr>\n",
       "      <th>25%</th>\n",
       "      <td>35.000000</td>\n",
       "      <td>0.0</td>\n",
       "    </tr>\n",
       "    <tr>\n",
       "      <th>50%</th>\n",
       "      <td>38.000000</td>\n",
       "      <td>0.0</td>\n",
       "    </tr>\n",
       "    <tr>\n",
       "      <th>75%</th>\n",
       "      <td>42.000000</td>\n",
       "      <td>0.0</td>\n",
       "    </tr>\n",
       "    <tr>\n",
       "      <th>max</th>\n",
       "      <td>72.000000</td>\n",
       "      <td>0.0</td>\n",
       "    </tr>\n",
       "  </tbody>\n",
       "</table>\n",
       "</div>"
      ],
      "text/plain": [
       "              age  k_means\n",
       "count  453.000000    453.0\n",
       "mean    39.677704      0.0\n",
       "std      5.785423      0.0\n",
       "min     34.000000      0.0\n",
       "25%     35.000000      0.0\n",
       "50%     38.000000      0.0\n",
       "75%     42.000000      0.0\n",
       "max     72.000000      0.0"
      ]
     },
     "execution_count": 284,
     "metadata": {},
     "output_type": "execute_result"
    }
   ],
   "source": [
    "cluster_0.describe()"
   ]
  },
  {
   "cell_type": "code",
   "execution_count": 285,
   "id": "61ac2359",
   "metadata": {},
   "outputs": [
    {
     "name": "stdout",
     "output_type": "stream",
     "text": [
      "age\n",
      "Skew : 1.8\n"
     ]
    },
    {
     "data": {
      "image/png": "[encoded data removed]",
      "text/plain": [
       "<Figure size 1080x288 with 2 Axes>"
      ]
     },
     "metadata": {
      "needs_background": "light"
     },
     "output_type": "display_data"
    }
   ],
   "source": [
    "num_cols = ['age']\n",
    "num_cols\n",
    "for col in num_cols:\n",
    "    print(col)\n",
    "    print('Skew :', round(cluster_0[col].skew(), 2))\n",
    "    plt.figure(figsize = (15, 4))\n",
    "    plt.subplot(1, 2, 1)\n",
    "    cluster_0[col].hist(grid=False)\n",
    "    plt.ylabel('count')\n",
    "    plt.subplot(1, 2, 2)\n",
    "    sns.boxplot(x=cluster_0[col])\n",
    "    plt.show()"
   ]
  },
  {
   "cell_type": "code",
   "execution_count": 286,
   "id": "cfd18480",
   "metadata": {},
   "outputs": [
    {
     "data": {
      "text/plain": [
       "male      374\n",
       "female     76\n",
       "others      3\n",
       "Name: gender, dtype: int64"
      ]
     },
     "execution_count": 286,
     "metadata": {},
     "output_type": "execute_result"
    }
   ],
   "source": [
    "cluster_0['gender'].value_counts()"
   ]
  },
  {
   "cell_type": "code",
   "execution_count": 287,
   "id": "2367f90b",
   "metadata": {},
   "outputs": [
    {
     "data": {
      "text/plain": [
       "United States     310\n",
       "Other              61\n",
       "United Kingdom     53\n",
       "Canada             17\n",
       "Germany            12\n",
       "Name: country, dtype: int64"
      ]
     },
     "execution_count": 287,
     "metadata": {},
     "output_type": "execute_result"
    }
   ],
   "source": [
    "cluster_0['country'].value_counts()"
   ]
  },
  {
   "cell_type": "code",
   "execution_count": 288,
   "id": "d502c0dd",
   "metadata": {},
   "outputs": [
    {
     "data": {
      "text/plain": [
       "No     394\n",
       "Yes     59\n",
       "Name: self_employed, dtype: int64"
      ]
     },
     "execution_count": 288,
     "metadata": {},
     "output_type": "execute_result"
    }
   ],
   "source": [
    "cluster_0['self_employed'].value_counts()"
   ]
  },
  {
   "cell_type": "code",
   "execution_count": 289,
   "id": "50f409c5",
   "metadata": {},
   "outputs": [
    {
     "data": {
      "text/plain": [
       "No     266\n",
       "Yes    187\n",
       "Name: family_history, dtype: int64"
      ]
     },
     "execution_count": 289,
     "metadata": {},
     "output_type": "execute_result"
    }
   ],
   "source": [
    "cluster_0['family_history'].value_counts()"
   ]
  },
  {
   "cell_type": "code",
   "execution_count": 290,
   "id": "fe361c13",
   "metadata": {},
   "outputs": [
    {
     "data": {
      "text/plain": [
       "Yes    246\n",
       "No     207\n",
       "Name: treatment, dtype: int64"
      ]
     },
     "execution_count": 290,
     "metadata": {},
     "output_type": "execute_result"
    }
   ],
   "source": [
    "cluster_0['treatment'].value_counts()"
   ]
  },
  {
   "cell_type": "code",
   "execution_count": 291,
   "id": "bd454631",
   "metadata": {},
   "outputs": [
    {
     "data": {
      "text/plain": [
       "More than 1000    126\n",
       "26-100             91\n",
       "6-25               81\n",
       "1-5                65\n",
       "100-500            60\n",
       "500-1000           30\n",
       "Name: no_employees, dtype: int64"
      ]
     },
     "execution_count": 291,
     "metadata": {},
     "output_type": "execute_result"
    }
   ],
   "source": [
    "cluster_0['no_employees'].value_counts()"
   ]
  },
  {
   "cell_type": "code",
   "execution_count": 292,
   "id": "8c106680",
   "metadata": {},
   "outputs": [
    {
     "data": {
      "text/plain": [
       "No     284\n",
       "Yes    169\n",
       "Name: remote_work, dtype: int64"
      ]
     },
     "execution_count": 292,
     "metadata": {},
     "output_type": "execute_result"
    }
   ],
   "source": [
    "cluster_0['remote_work'].value_counts()"
   ]
  },
  {
   "cell_type": "code",
   "execution_count": 293,
   "id": "d7c6f45d",
   "metadata": {},
   "outputs": [
    {
     "data": {
      "text/plain": [
       "Yes    349\n",
       "No     104\n",
       "Name: tech_company, dtype: int64"
      ]
     },
     "execution_count": 293,
     "metadata": {},
     "output_type": "execute_result"
    }
   ],
   "source": [
    "cluster_0['tech_company'].value_counts()"
   ]
  },
  {
   "cell_type": "code",
   "execution_count": 294,
   "id": "70d6a1a5",
   "metadata": {},
   "outputs": [
    {
     "data": {
      "text/plain": [
       "Yes           206\n",
       "No            125\n",
       "Don't know    122\n",
       "Name: benefits, dtype: int64"
      ]
     },
     "execution_count": 294,
     "metadata": {},
     "output_type": "execute_result"
    }
   ],
   "source": [
    "cluster_0['benefits'].value_counts()"
   ]
  },
  {
   "cell_type": "code",
   "execution_count": 295,
   "id": "9a61f190",
   "metadata": {},
   "outputs": [
    {
     "data": {
      "text/plain": [
       "Yes         184\n",
       "No          165\n",
       "Not sure    104\n",
       "Name: care_options, dtype: int64"
      ]
     },
     "execution_count": 295,
     "metadata": {},
     "output_type": "execute_result"
    }
   ],
   "source": [
    "cluster_0['care_options'].value_counts()"
   ]
  },
  {
   "cell_type": "code",
   "execution_count": 296,
   "id": "88e0787e",
   "metadata": {},
   "outputs": [
    {
     "data": {
      "text/plain": [
       "No            285\n",
       "Yes           107\n",
       "Don't know     61\n",
       "Name: wellness_program, dtype: int64"
      ]
     },
     "execution_count": 296,
     "metadata": {},
     "output_type": "execute_result"
    }
   ],
   "source": [
    "cluster_0['wellness_program'].value_counts()"
   ]
  },
  {
   "cell_type": "code",
   "execution_count": 297,
   "id": "6d839049",
   "metadata": {},
   "outputs": [
    {
     "data": {
      "text/plain": [
       "No            211\n",
       "Yes           122\n",
       "Don't know    120\n",
       "Name: seek_help, dtype: int64"
      ]
     },
     "execution_count": 297,
     "metadata": {},
     "output_type": "execute_result"
    }
   ],
   "source": [
    "cluster_0['seek_help'].value_counts()"
   ]
  },
  {
   "cell_type": "code",
   "execution_count": 298,
   "id": "7151096a",
   "metadata": {},
   "outputs": [
    {
     "data": {
      "text/plain": [
       "Don't know    289\n",
       "Yes           148\n",
       "No             16\n",
       "Name: anonymity, dtype: int64"
      ]
     },
     "execution_count": 298,
     "metadata": {},
     "output_type": "execute_result"
    }
   ],
   "source": [
    "cluster_0['anonymity'].value_counts()"
   ]
  },
  {
   "cell_type": "code",
   "execution_count": 299,
   "id": "dab602c3",
   "metadata": {},
   "outputs": [
    {
     "data": {
      "text/plain": [
       "Don't know            201\n",
       "Somewhat easy          96\n",
       "Very easy              68\n",
       "Somewhat difficult     47\n",
       "Very difficult         41\n",
       "Name: leave, dtype: int64"
      ]
     },
     "execution_count": 299,
     "metadata": {},
     "output_type": "execute_result"
    }
   ],
   "source": [
    "cluster_0['leave'].value_counts()"
   ]
  },
  {
   "cell_type": "code",
   "execution_count": 300,
   "id": "3fb234c6",
   "metadata": {},
   "outputs": [
    {
     "data": {
      "text/plain": [
       "Maybe    176\n",
       "No       157\n",
       "Yes      120\n",
       "Name: mental_health_consequence, dtype: int64"
      ]
     },
     "execution_count": 300,
     "metadata": {},
     "output_type": "execute_result"
    }
   ],
   "source": [
    "cluster_0['mental_health_consequence'].value_counts()"
   ]
  },
  {
   "cell_type": "code",
   "execution_count": 301,
   "id": "1edc7dc2",
   "metadata": {},
   "outputs": [
    {
     "data": {
      "text/plain": [
       "No       304\n",
       "Maybe    122\n",
       "Yes       27\n",
       "Name: phys_health_consequence, dtype: int64"
      ]
     },
     "execution_count": 301,
     "metadata": {},
     "output_type": "execute_result"
    }
   ],
   "source": [
    "cluster_0['phys_health_consequence'].value_counts()"
   ]
  },
  {
   "cell_type": "code",
   "execution_count": 302,
   "id": "2fd1e05f",
   "metadata": {},
   "outputs": [
    {
     "data": {
      "text/plain": [
       "Some of them    282\n",
       "No               96\n",
       "Yes              75\n",
       "Name: coworkers, dtype: int64"
      ]
     },
     "execution_count": 302,
     "metadata": {},
     "output_type": "execute_result"
    }
   ],
   "source": [
    "cluster_0['coworkers'].value_counts()"
   ]
  },
  {
   "cell_type": "code",
   "execution_count": 303,
   "id": "6e5bf564",
   "metadata": {},
   "outputs": [
    {
     "data": {
      "text/plain": [
       "Yes             181\n",
       "No              140\n",
       "Some of them    132\n",
       "Name: supervisor, dtype: int64"
      ]
     },
     "execution_count": 303,
     "metadata": {},
     "output_type": "execute_result"
    }
   ],
   "source": [
    "cluster_0['supervisor'].value_counts()"
   ]
  },
  {
   "cell_type": "code",
   "execution_count": 304,
   "id": "9b4ceb51",
   "metadata": {},
   "outputs": [
    {
     "data": {
      "text/plain": [
       "No       377\n",
       "Maybe     64\n",
       "Yes       12\n",
       "Name: mental_health_interview, dtype: int64"
      ]
     },
     "execution_count": 304,
     "metadata": {},
     "output_type": "execute_result"
    }
   ],
   "source": [
    "cluster_0['mental_health_interview'].value_counts()"
   ]
  },
  {
   "cell_type": "code",
   "execution_count": 305,
   "id": "36ffd45e",
   "metadata": {},
   "outputs": [
    {
     "data": {
      "text/plain": [
       "Maybe    205\n",
       "No       189\n",
       "Yes       59\n",
       "Name: phys_health_interview, dtype: int64"
      ]
     },
     "execution_count": 305,
     "metadata": {},
     "output_type": "execute_result"
    }
   ],
   "source": [
    "cluster_0['phys_health_interview'].value_counts()"
   ]
  },
  {
   "cell_type": "code",
   "execution_count": 306,
   "id": "894a5f73",
   "metadata": {},
   "outputs": [
    {
     "data": {
      "text/plain": [
       "Don't know    209\n",
       "No            126\n",
       "Yes           118\n",
       "Name: mental_vs_physical, dtype: int64"
      ]
     },
     "execution_count": 306,
     "metadata": {},
     "output_type": "execute_result"
    }
   ],
   "source": [
    "cluster_0['mental_vs_physical'].value_counts()"
   ]
  },
  {
   "cell_type": "code",
   "execution_count": 307,
   "id": "03105f74",
   "metadata": {},
   "outputs": [
    {
     "data": {
      "text/plain": [
       "No     375\n",
       "Yes     78\n",
       "Name: obs_consequence, dtype: int64"
      ]
     },
     "execution_count": 307,
     "metadata": {},
     "output_type": "execute_result"
    }
   ],
   "source": [
    "cluster_0['obs_consequence'].value_counts()"
   ]
  },
  {
   "cell_type": "markdown",
   "id": "66e97f20",
   "metadata": {},
   "source": [
    "## **Cluster 1**"
   ]
  },
  {
   "cell_type": "code",
   "execution_count": 308,
   "id": "97183eee",
   "metadata": {},
   "outputs": [
    {
     "data": {
      "text/plain": [
       "Index(['age', 'gender', 'country', 'self_employed', 'family_history',\n",
       "       'treatment', 'no_employees', 'remote_work', 'tech_company', 'benefits',\n",
       "       'care_options', 'wellness_program', 'seek_help', 'anonymity', 'leave',\n",
       "       'mental_health_consequence', 'phys_health_consequence', 'coworkers',\n",
       "       'supervisor', 'mental_health_interview', 'phys_health_interview',\n",
       "       'mental_vs_physical', 'obs_consequence', 'k_means'],\n",
       "      dtype='object')"
      ]
     },
     "execution_count": 308,
     "metadata": {},
     "output_type": "execute_result"
    }
   ],
   "source": [
    "cluster_1.columns"
   ]
  },
  {
   "cell_type": "code",
   "execution_count": 309,
   "id": "2110fabc",
   "metadata": {},
   "outputs": [
    {
     "data": {
      "text/html": [
       "<div>\n",
       "<style scoped>\n",
       "    .dataframe tbody tr th:only-of-type {\n",
       "        vertical-align: middle;\n",
       "    }\n",
       "\n",
       "    .dataframe tbody tr th {\n",
       "        vertical-align: top;\n",
       "    }\n",
       "\n",
       "    .dataframe thead th {\n",
       "        text-align: right;\n",
       "    }\n",
       "</style>\n",
       "<table border=\"1\" class=\"dataframe\">\n",
       "  <thead>\n",
       "    <tr style=\"text-align: right;\">\n",
       "      <th></th>\n",
       "      <th>age</th>\n",
       "      <th>gender</th>\n",
       "      <th>country</th>\n",
       "      <th>self_employed</th>\n",
       "      <th>family_history</th>\n",
       "      <th>treatment</th>\n",
       "      <th>no_employees</th>\n",
       "      <th>remote_work</th>\n",
       "      <th>tech_company</th>\n",
       "      <th>benefits</th>\n",
       "      <th>...</th>\n",
       "      <th>leave</th>\n",
       "      <th>mental_health_consequence</th>\n",
       "      <th>phys_health_consequence</th>\n",
       "      <th>coworkers</th>\n",
       "      <th>supervisor</th>\n",
       "      <th>mental_health_interview</th>\n",
       "      <th>phys_health_interview</th>\n",
       "      <th>mental_vs_physical</th>\n",
       "      <th>obs_consequence</th>\n",
       "      <th>k_means</th>\n",
       "    </tr>\n",
       "  </thead>\n",
       "  <tbody>\n",
       "    <tr>\n",
       "      <th>2</th>\n",
       "      <td>32</td>\n",
       "      <td>male</td>\n",
       "      <td>Canada</td>\n",
       "      <td>No</td>\n",
       "      <td>No</td>\n",
       "      <td>No</td>\n",
       "      <td>6-25</td>\n",
       "      <td>No</td>\n",
       "      <td>Yes</td>\n",
       "      <td>No</td>\n",
       "      <td>...</td>\n",
       "      <td>Somewhat difficult</td>\n",
       "      <td>No</td>\n",
       "      <td>No</td>\n",
       "      <td>Yes</td>\n",
       "      <td>Yes</td>\n",
       "      <td>Yes</td>\n",
       "      <td>Yes</td>\n",
       "      <td>No</td>\n",
       "      <td>No</td>\n",
       "      <td>1</td>\n",
       "    </tr>\n",
       "    <tr>\n",
       "      <th>3</th>\n",
       "      <td>31</td>\n",
       "      <td>male</td>\n",
       "      <td>United Kingdom</td>\n",
       "      <td>No</td>\n",
       "      <td>Yes</td>\n",
       "      <td>Yes</td>\n",
       "      <td>26-100</td>\n",
       "      <td>No</td>\n",
       "      <td>Yes</td>\n",
       "      <td>No</td>\n",
       "      <td>...</td>\n",
       "      <td>Somewhat difficult</td>\n",
       "      <td>Yes</td>\n",
       "      <td>Yes</td>\n",
       "      <td>Some of them</td>\n",
       "      <td>No</td>\n",
       "      <td>Maybe</td>\n",
       "      <td>Maybe</td>\n",
       "      <td>No</td>\n",
       "      <td>Yes</td>\n",
       "      <td>1</td>\n",
       "    </tr>\n",
       "    <tr>\n",
       "      <th>4</th>\n",
       "      <td>31</td>\n",
       "      <td>male</td>\n",
       "      <td>United States</td>\n",
       "      <td>No</td>\n",
       "      <td>No</td>\n",
       "      <td>No</td>\n",
       "      <td>100-500</td>\n",
       "      <td>Yes</td>\n",
       "      <td>Yes</td>\n",
       "      <td>Yes</td>\n",
       "      <td>...</td>\n",
       "      <td>Don't know</td>\n",
       "      <td>No</td>\n",
       "      <td>No</td>\n",
       "      <td>Some of them</td>\n",
       "      <td>Yes</td>\n",
       "      <td>Yes</td>\n",
       "      <td>Yes</td>\n",
       "      <td>Don't know</td>\n",
       "      <td>No</td>\n",
       "      <td>1</td>\n",
       "    </tr>\n",
       "    <tr>\n",
       "      <th>5</th>\n",
       "      <td>33</td>\n",
       "      <td>male</td>\n",
       "      <td>United States</td>\n",
       "      <td>No</td>\n",
       "      <td>Yes</td>\n",
       "      <td>No</td>\n",
       "      <td>6-25</td>\n",
       "      <td>No</td>\n",
       "      <td>Yes</td>\n",
       "      <td>Yes</td>\n",
       "      <td>...</td>\n",
       "      <td>Don't know</td>\n",
       "      <td>No</td>\n",
       "      <td>No</td>\n",
       "      <td>Yes</td>\n",
       "      <td>Yes</td>\n",
       "      <td>No</td>\n",
       "      <td>Maybe</td>\n",
       "      <td>Don't know</td>\n",
       "      <td>No</td>\n",
       "      <td>1</td>\n",
       "    </tr>\n",
       "    <tr>\n",
       "      <th>9</th>\n",
       "      <td>23</td>\n",
       "      <td>male</td>\n",
       "      <td>Canada</td>\n",
       "      <td>No</td>\n",
       "      <td>No</td>\n",
       "      <td>No</td>\n",
       "      <td>26-100</td>\n",
       "      <td>No</td>\n",
       "      <td>Yes</td>\n",
       "      <td>Don't know</td>\n",
       "      <td>...</td>\n",
       "      <td>Don't know</td>\n",
       "      <td>No</td>\n",
       "      <td>No</td>\n",
       "      <td>Yes</td>\n",
       "      <td>Yes</td>\n",
       "      <td>Maybe</td>\n",
       "      <td>Maybe</td>\n",
       "      <td>Yes</td>\n",
       "      <td>No</td>\n",
       "      <td>1</td>\n",
       "    </tr>\n",
       "  </tbody>\n",
       "</table>\n",
       "<p>5 rows × 24 columns</p>\n",
       "</div>"
      ],
      "text/plain": [
       "   age gender         country self_employed family_history treatment  \\\n",
       "2   32   male          Canada            No             No        No   \n",
       "3   31   male  United Kingdom            No            Yes       Yes   \n",
       "4   31   male   United States            No             No        No   \n",
       "5   33   male   United States            No            Yes        No   \n",
       "9   23   male          Canada            No             No        No   \n",
       "\n",
       "  no_employees remote_work tech_company    benefits  ...               leave  \\\n",
       "2         6-25          No          Yes          No  ...  Somewhat difficult   \n",
       "3       26-100          No          Yes          No  ...  Somewhat difficult   \n",
       "4      100-500         Yes          Yes         Yes  ...          Don't know   \n",
       "5         6-25          No          Yes         Yes  ...          Don't know   \n",
       "9       26-100          No          Yes  Don't know  ...          Don't know   \n",
       "\n",
       "  mental_health_consequence phys_health_consequence     coworkers supervisor  \\\n",
       "2                        No                      No           Yes        Yes   \n",
       "3                       Yes                     Yes  Some of them         No   \n",
       "4                        No                      No  Some of them        Yes   \n",
       "5                        No                      No           Yes        Yes   \n",
       "9                        No                      No           Yes        Yes   \n",
       "\n",
       "  mental_health_interview phys_health_interview mental_vs_physical  \\\n",
       "2                     Yes                   Yes                 No   \n",
       "3                   Maybe                 Maybe                 No   \n",
       "4                     Yes                   Yes         Don't know   \n",
       "5                      No                 Maybe         Don't know   \n",
       "9                   Maybe                 Maybe                Yes   \n",
       "\n",
       "  obs_consequence k_means  \n",
       "2              No       1  \n",
       "3             Yes       1  \n",
       "4              No       1  \n",
       "5              No       1  \n",
       "9              No       1  \n",
       "\n",
       "[5 rows x 24 columns]"
      ]
     },
     "execution_count": 309,
     "metadata": {},
     "output_type": "execute_result"
    }
   ],
   "source": [
    "cluster_1.head()"
   ]
  },
  {
   "cell_type": "code",
   "execution_count": 310,
   "id": "1ca0980c",
   "metadata": {},
   "outputs": [
    {
     "name": "stdout",
     "output_type": "stream",
     "text": [
      "<class 'pandas.core.frame.DataFrame'>\n",
      "Int64Index: 798 entries, 2 to 1258\n",
      "Data columns (total 24 columns):\n",
      " #   Column                     Non-Null Count  Dtype \n",
      "---  ------                     --------------  ----- \n",
      " 0   age                        798 non-null    int64 \n",
      " 1   gender                     798 non-null    object\n",
      " 2   country                    798 non-null    object\n",
      " 3   self_employed              798 non-null    object\n",
      " 4   family_history             798 non-null    object\n",
      " 5   treatment                  798 non-null    object\n",
      " 6   no_employees               798 non-null    object\n",
      " 7   remote_work                798 non-null    object\n",
      " 8   tech_company               798 non-null    object\n",
      " 9   benefits                   798 non-null    object\n",
      " 10  care_options               798 non-null    object\n",
      " 11  wellness_program           798 non-null    object\n",
      " 12  seek_help                  798 non-null    object\n",
      " 13  anonymity                  798 non-null    object\n",
      " 14  leave                      798 non-null    object\n",
      " 15  mental_health_consequence  798 non-null    object\n",
      " 16  phys_health_consequence    798 non-null    object\n",
      " 17  coworkers                  798 non-null    object\n",
      " 18  supervisor                 798 non-null    object\n",
      " 19  mental_health_interview    798 non-null    object\n",
      " 20  phys_health_interview      798 non-null    object\n",
      " 21  mental_vs_physical         798 non-null    object\n",
      " 22  obs_consequence            798 non-null    object\n",
      " 23  k_means                    798 non-null    int32 \n",
      "dtypes: int32(1), int64(1), object(22)\n",
      "memory usage: 152.7+ KB\n"
     ]
    }
   ],
   "source": [
    "cluster_1.info()"
   ]
  },
  {
   "cell_type": "code",
   "execution_count": 311,
   "id": "5d905aa6",
   "metadata": {},
   "outputs": [
    {
     "data": {
      "text/html": [
       "<div>\n",
       "<style scoped>\n",
       "    .dataframe tbody tr th:only-of-type {\n",
       "        vertical-align: middle;\n",
       "    }\n",
       "\n",
       "    .dataframe tbody tr th {\n",
       "        vertical-align: top;\n",
       "    }\n",
       "\n",
       "    .dataframe thead th {\n",
       "        text-align: right;\n",
       "    }\n",
       "</style>\n",
       "<table border=\"1\" class=\"dataframe\">\n",
       "  <thead>\n",
       "    <tr style=\"text-align: right;\">\n",
       "      <th></th>\n",
       "      <th>age</th>\n",
       "      <th>k_means</th>\n",
       "    </tr>\n",
       "  </thead>\n",
       "  <tbody>\n",
       "    <tr>\n",
       "      <th>count</th>\n",
       "      <td>798.000000</td>\n",
       "      <td>798.0</td>\n",
       "    </tr>\n",
       "    <tr>\n",
       "      <th>mean</th>\n",
       "      <td>27.761905</td>\n",
       "      <td>1.0</td>\n",
       "    </tr>\n",
       "    <tr>\n",
       "      <th>std</th>\n",
       "      <td>3.584569</td>\n",
       "      <td>0.0</td>\n",
       "    </tr>\n",
       "    <tr>\n",
       "      <th>min</th>\n",
       "      <td>18.000000</td>\n",
       "      <td>1.0</td>\n",
       "    </tr>\n",
       "    <tr>\n",
       "      <th>25%</th>\n",
       "      <td>25.000000</td>\n",
       "      <td>1.0</td>\n",
       "    </tr>\n",
       "    <tr>\n",
       "      <th>50%</th>\n",
       "      <td>28.000000</td>\n",
       "      <td>1.0</td>\n",
       "    </tr>\n",
       "    <tr>\n",
       "      <th>75%</th>\n",
       "      <td>31.000000</td>\n",
       "      <td>1.0</td>\n",
       "    </tr>\n",
       "    <tr>\n",
       "      <th>max</th>\n",
       "      <td>33.000000</td>\n",
       "      <td>1.0</td>\n",
       "    </tr>\n",
       "  </tbody>\n",
       "</table>\n",
       "</div>"
      ],
      "text/plain": [
       "              age  k_means\n",
       "count  798.000000    798.0\n",
       "mean    27.761905      1.0\n",
       "std      3.584569      0.0\n",
       "min     18.000000      1.0\n",
       "25%     25.000000      1.0\n",
       "50%     28.000000      1.0\n",
       "75%     31.000000      1.0\n",
       "max     33.000000      1.0"
      ]
     },
     "execution_count": 311,
     "metadata": {},
     "output_type": "execute_result"
    }
   ],
   "source": [
    "cluster_1.describe()"
   ]
  },
  {
   "cell_type": "code",
   "execution_count": 312,
   "id": "fead2791",
   "metadata": {},
   "outputs": [
    {
     "name": "stdout",
     "output_type": "stream",
     "text": [
      "age\n",
      "Skew : -0.4\n"
     ]
    },
    {
     "data": {
      "image/png": "[encoded data removed]",
      "text/plain": [
       "<Figure size 1080x288 with 2 Axes>"
      ]
     },
     "metadata": {
      "needs_background": "light"
     },
     "output_type": "display_data"
    }
   ],
   "source": [
    "num_cols = ['age']\n",
    "num_cols\n",
    "for col in num_cols:\n",
    "    print(col)\n",
    "    print('Skew :', round(cluster_1[col].skew(), 2))\n",
    "    plt.figure(figsize = (15, 4))\n",
    "    plt.subplot(1, 2, 1)\n",
    "    cluster_1[col].hist(grid=False)\n",
    "    plt.ylabel('count')\n",
    "    plt.subplot(1, 2, 2)\n",
    "    sns.boxplot(x=cluster_1[col])\n",
    "    plt.show()"
   ]
  },
  {
   "cell_type": "code",
   "execution_count": 313,
   "id": "e07d7d89",
   "metadata": {},
   "outputs": [
    {
     "data": {
      "text/plain": [
       "male      613\n",
       "female    174\n",
       "others     11\n",
       "Name: gender, dtype: int64"
      ]
     },
     "execution_count": 313,
     "metadata": {},
     "output_type": "execute_result"
    }
   ],
   "source": [
    "cluster_1['gender'].value_counts()"
   ]
  },
  {
   "cell_type": "code",
   "execution_count": 314,
   "id": "11bcc70b",
   "metadata": {},
   "outputs": [
    {
     "data": {
      "text/plain": [
       "United States     436\n",
       "Other             143\n",
       "United Kingdom    131\n",
       "Canada             55\n",
       "Germany            33\n",
       "Name: country, dtype: int64"
      ]
     },
     "execution_count": 314,
     "metadata": {},
     "output_type": "execute_result"
    }
   ],
   "source": [
    "cluster_1['country'].value_counts()"
   ]
  },
  {
   "cell_type": "code",
   "execution_count": 315,
   "id": "0b436926",
   "metadata": {},
   "outputs": [
    {
     "data": {
      "text/plain": [
       "No     715\n",
       "Yes     83\n",
       "Name: self_employed, dtype: int64"
      ]
     },
     "execution_count": 315,
     "metadata": {},
     "output_type": "execute_result"
    }
   ],
   "source": [
    "cluster_1['self_employed'].value_counts()"
   ]
  },
  {
   "cell_type": "code",
   "execution_count": 316,
   "id": "79516d89",
   "metadata": {},
   "outputs": [
    {
     "data": {
      "text/plain": [
       "No     496\n",
       "Yes    302\n",
       "Name: family_history, dtype: int64"
      ]
     },
     "execution_count": 316,
     "metadata": {},
     "output_type": "execute_result"
    }
   ],
   "source": [
    "cluster_1['family_history'].value_counts()"
   ]
  },
  {
   "cell_type": "code",
   "execution_count": 317,
   "id": "ac7f162f",
   "metadata": {},
   "outputs": [
    {
     "data": {
      "text/plain": [
       "No     412\n",
       "Yes    386\n",
       "Name: treatment, dtype: int64"
      ]
     },
     "execution_count": 317,
     "metadata": {},
     "output_type": "execute_result"
    }
   ],
   "source": [
    "cluster_1['treatment'].value_counts()"
   ]
  },
  {
   "cell_type": "code",
   "execution_count": 318,
   "id": "ec564ed2",
   "metadata": {},
   "outputs": [
    {
     "data": {
      "text/plain": [
       "6-25              208\n",
       "26-100            197\n",
       "More than 1000    155\n",
       "100-500           115\n",
       "1-5                93\n",
       "500-1000           30\n",
       "Name: no_employees, dtype: int64"
      ]
     },
     "execution_count": 318,
     "metadata": {},
     "output_type": "execute_result"
    }
   ],
   "source": [
    "cluster_1['no_employees'].value_counts()"
   ]
  },
  {
   "cell_type": "code",
   "execution_count": 319,
   "id": "adb8500e",
   "metadata": {},
   "outputs": [
    {
     "data": {
      "text/plain": [
       "No     596\n",
       "Yes    202\n",
       "Name: remote_work, dtype: int64"
      ]
     },
     "execution_count": 319,
     "metadata": {},
     "output_type": "execute_result"
    }
   ],
   "source": [
    "cluster_1['remote_work'].value_counts()"
   ]
  },
  {
   "cell_type": "code",
   "execution_count": 320,
   "id": "97d6f4c2",
   "metadata": {},
   "outputs": [
    {
     "data": {
      "text/plain": [
       "Yes    676\n",
       "No     122\n",
       "Name: tech_company, dtype: int64"
      ]
     },
     "execution_count": 320,
     "metadata": {},
     "output_type": "execute_result"
    }
   ],
   "source": [
    "cluster_1['tech_company'].value_counts()"
   ]
  },
  {
   "cell_type": "code",
   "execution_count": 321,
   "id": "23c490ef",
   "metadata": {},
   "outputs": [
    {
     "data": {
      "text/plain": [
       "Don't know    285\n",
       "Yes           267\n",
       "No            246\n",
       "Name: benefits, dtype: int64"
      ]
     },
     "execution_count": 321,
     "metadata": {},
     "output_type": "execute_result"
    }
   ],
   "source": [
    "cluster_1['benefits'].value_counts()"
   ]
  },
  {
   "cell_type": "code",
   "execution_count": 322,
   "id": "a1aab4c5",
   "metadata": {},
   "outputs": [
    {
     "data": {
      "text/plain": [
       "No          334\n",
       "Yes         255\n",
       "Not sure    209\n",
       "Name: care_options, dtype: int64"
      ]
     },
     "execution_count": 322,
     "metadata": {},
     "output_type": "execute_result"
    }
   ],
   "source": [
    "cluster_1['care_options'].value_counts()"
   ]
  },
  {
   "cell_type": "code",
   "execution_count": 323,
   "id": "63d02e04",
   "metadata": {},
   "outputs": [
    {
     "data": {
      "text/plain": [
       "No            552\n",
       "Don't know    126\n",
       "Yes           120\n",
       "Name: wellness_program, dtype: int64"
      ]
     },
     "execution_count": 323,
     "metadata": {},
     "output_type": "execute_result"
    }
   ],
   "source": [
    "cluster_1['wellness_program'].value_counts()"
   ]
  },
  {
   "cell_type": "code",
   "execution_count": 324,
   "id": "31b26076",
   "metadata": {},
   "outputs": [
    {
     "data": {
      "text/plain": [
       "No            430\n",
       "Don't know    243\n",
       "Yes           125\n",
       "Name: seek_help, dtype: int64"
      ]
     },
     "execution_count": 324,
     "metadata": {},
     "output_type": "execute_result"
    }
   ],
   "source": [
    "cluster_1['seek_help'].value_counts()"
   ]
  },
  {
   "cell_type": "code",
   "execution_count": 325,
   "id": "618a0347",
   "metadata": {},
   "outputs": [
    {
     "data": {
      "text/plain": [
       "Don't know    526\n",
       "Yes           224\n",
       "No             48\n",
       "Name: anonymity, dtype: int64"
      ]
     },
     "execution_count": 325,
     "metadata": {},
     "output_type": "execute_result"
    }
   ],
   "source": [
    "cluster_1['anonymity'].value_counts()"
   ]
  },
  {
   "cell_type": "code",
   "execution_count": 326,
   "id": "27eb2989",
   "metadata": {},
   "outputs": [
    {
     "data": {
      "text/plain": [
       "Don't know            360\n",
       "Somewhat easy         169\n",
       "Very easy             135\n",
       "Somewhat difficult     78\n",
       "Very difficult         56\n",
       "Name: leave, dtype: int64"
      ]
     },
     "execution_count": 326,
     "metadata": {},
     "output_type": "execute_result"
    }
   ],
   "source": [
    "cluster_1['leave'].value_counts()"
   ]
  },
  {
   "cell_type": "code",
   "execution_count": 327,
   "id": "fe5fe218",
   "metadata": {},
   "outputs": [
    {
     "data": {
      "text/plain": [
       "No       330\n",
       "Maybe    300\n",
       "Yes      168\n",
       "Name: mental_health_consequence, dtype: int64"
      ]
     },
     "execution_count": 327,
     "metadata": {},
     "output_type": "execute_result"
    }
   ],
   "source": [
    "cluster_1['mental_health_consequence'].value_counts()"
   ]
  },
  {
   "cell_type": "code",
   "execution_count": 328,
   "id": "fbc0ba52",
   "metadata": {},
   "outputs": [
    {
     "data": {
      "text/plain": [
       "No       616\n",
       "Maybe    151\n",
       "Yes       31\n",
       "Name: phys_health_consequence, dtype: int64"
      ]
     },
     "execution_count": 328,
     "metadata": {},
     "output_type": "execute_result"
    }
   ],
   "source": [
    "cluster_1['phys_health_consequence'].value_counts()"
   ]
  },
  {
   "cell_type": "code",
   "execution_count": 329,
   "id": "99fb292c",
   "metadata": {},
   "outputs": [
    {
     "data": {
      "text/plain": [
       "Some of them    489\n",
       "No              162\n",
       "Yes             147\n",
       "Name: coworkers, dtype: int64"
      ]
     },
     "execution_count": 329,
     "metadata": {},
     "output_type": "execute_result"
    }
   ],
   "source": [
    "cluster_1['coworkers'].value_counts()"
   ]
  },
  {
   "cell_type": "code",
   "execution_count": 330,
   "id": "b0dc4bd2",
   "metadata": {},
   "outputs": [
    {
     "data": {
      "text/plain": [
       "Yes             331\n",
       "No              250\n",
       "Some of them    217\n",
       "Name: supervisor, dtype: int64"
      ]
     },
     "execution_count": 330,
     "metadata": {},
     "output_type": "execute_result"
    }
   ],
   "source": [
    "cluster_1['supervisor'].value_counts()"
   ]
  },
  {
   "cell_type": "code",
   "execution_count": 331,
   "id": "17a502a3",
   "metadata": {},
   "outputs": [
    {
     "data": {
      "text/plain": [
       "No       626\n",
       "Maybe    143\n",
       "Yes       29\n",
       "Name: mental_health_interview, dtype: int64"
      ]
     },
     "execution_count": 331,
     "metadata": {},
     "output_type": "execute_result"
    }
   ],
   "source": [
    "cluster_1['mental_health_interview'].value_counts()"
   ]
  },
  {
   "cell_type": "code",
   "execution_count": 332,
   "id": "a23164f0",
   "metadata": {},
   "outputs": [
    {
     "data": {
      "text/plain": [
       "Maybe    350\n",
       "No       307\n",
       "Yes      141\n",
       "Name: phys_health_interview, dtype: int64"
      ]
     },
     "execution_count": 332,
     "metadata": {},
     "output_type": "execute_result"
    }
   ],
   "source": [
    "cluster_1['phys_health_interview'].value_counts()"
   ]
  },
  {
   "cell_type": "code",
   "execution_count": 333,
   "id": "6747eaf3",
   "metadata": {},
   "outputs": [
    {
     "data": {
      "text/plain": [
       "Don't know    365\n",
       "Yes           221\n",
       "No            212\n",
       "Name: mental_vs_physical, dtype: int64"
      ]
     },
     "execution_count": 333,
     "metadata": {},
     "output_type": "execute_result"
    }
   ],
   "source": [
    "cluster_1['mental_vs_physical'].value_counts()"
   ]
  },
  {
   "cell_type": "code",
   "execution_count": 334,
   "id": "915d2544",
   "metadata": {},
   "outputs": [
    {
     "data": {
      "text/plain": [
       "No     695\n",
       "Yes    103\n",
       "Name: obs_consequence, dtype: int64"
      ]
     },
     "execution_count": 334,
     "metadata": {},
     "output_type": "execute_result"
    }
   ],
   "source": [
    "cluster_1['obs_consequence'].value_counts()"
   ]
  },
  {
   "cell_type": "markdown",
   "id": "b0edc3d0",
   "metadata": {},
   "source": [
    "## Feature Scaling: Standardization"
   ]
  },
  {
   "cell_type": "code",
   "execution_count": 335,
   "id": "2e155717",
   "metadata": {},
   "outputs": [
    {
     "data": {
      "text/html": [
       "<div>\n",
       "<style scoped>\n",
       "    .dataframe tbody tr th:only-of-type {\n",
       "        vertical-align: middle;\n",
       "    }\n",
       "\n",
       "    .dataframe tbody tr th {\n",
       "        vertical-align: top;\n",
       "    }\n",
       "\n",
       "    .dataframe thead th {\n",
       "        text-align: right;\n",
       "    }\n",
       "</style>\n",
       "<table border=\"1\" class=\"dataframe\">\n",
       "  <thead>\n",
       "    <tr style=\"text-align: right;\">\n",
       "      <th></th>\n",
       "      <th>age</th>\n",
       "      <th>gender_female</th>\n",
       "      <th>gender_male</th>\n",
       "      <th>gender_others</th>\n",
       "      <th>benefits_Don't know</th>\n",
       "      <th>benefits_No</th>\n",
       "      <th>benefits_Yes</th>\n",
       "      <th>care_options_No</th>\n",
       "      <th>care_options_Not sure</th>\n",
       "      <th>care_options_Yes</th>\n",
       "      <th>...</th>\n",
       "      <th>mental_vs_physical_Yes</th>\n",
       "      <th>leave_encoded</th>\n",
       "      <th>country_freq_encoded</th>\n",
       "      <th>no_employees_freq_encoded</th>\n",
       "      <th>self_employed_encoded</th>\n",
       "      <th>family_history_encoded</th>\n",
       "      <th>treatment_encoded</th>\n",
       "      <th>remote_work_encoded</th>\n",
       "      <th>tech_company_encoded</th>\n",
       "      <th>obs_consequence_encoded</th>\n",
       "    </tr>\n",
       "  </thead>\n",
       "  <tbody>\n",
       "    <tr>\n",
       "      <th>0</th>\n",
       "      <td>37</td>\n",
       "      <td>1</td>\n",
       "      <td>0</td>\n",
       "      <td>0</td>\n",
       "      <td>0</td>\n",
       "      <td>0</td>\n",
       "      <td>1</td>\n",
       "      <td>0</td>\n",
       "      <td>1</td>\n",
       "      <td>0</td>\n",
       "      <td>...</td>\n",
       "      <td>1</td>\n",
       "      <td>1</td>\n",
       "      <td>0.596323</td>\n",
       "      <td>0.231015</td>\n",
       "      <td>0</td>\n",
       "      <td>0</td>\n",
       "      <td>1</td>\n",
       "      <td>0</td>\n",
       "      <td>1</td>\n",
       "      <td>0</td>\n",
       "    </tr>\n",
       "    <tr>\n",
       "      <th>1</th>\n",
       "      <td>44</td>\n",
       "      <td>0</td>\n",
       "      <td>1</td>\n",
       "      <td>0</td>\n",
       "      <td>1</td>\n",
       "      <td>0</td>\n",
       "      <td>0</td>\n",
       "      <td>1</td>\n",
       "      <td>0</td>\n",
       "      <td>0</td>\n",
       "      <td>...</td>\n",
       "      <td>0</td>\n",
       "      <td>2</td>\n",
       "      <td>0.596323</td>\n",
       "      <td>0.224620</td>\n",
       "      <td>0</td>\n",
       "      <td>0</td>\n",
       "      <td>0</td>\n",
       "      <td>0</td>\n",
       "      <td>0</td>\n",
       "      <td>0</td>\n",
       "    </tr>\n",
       "    <tr>\n",
       "      <th>2</th>\n",
       "      <td>32</td>\n",
       "      <td>0</td>\n",
       "      <td>1</td>\n",
       "      <td>0</td>\n",
       "      <td>0</td>\n",
       "      <td>1</td>\n",
       "      <td>0</td>\n",
       "      <td>1</td>\n",
       "      <td>0</td>\n",
       "      <td>0</td>\n",
       "      <td>...</td>\n",
       "      <td>0</td>\n",
       "      <td>3</td>\n",
       "      <td>0.057554</td>\n",
       "      <td>0.231015</td>\n",
       "      <td>0</td>\n",
       "      <td>0</td>\n",
       "      <td>0</td>\n",
       "      <td>0</td>\n",
       "      <td>1</td>\n",
       "      <td>0</td>\n",
       "    </tr>\n",
       "    <tr>\n",
       "      <th>3</th>\n",
       "      <td>31</td>\n",
       "      <td>0</td>\n",
       "      <td>1</td>\n",
       "      <td>0</td>\n",
       "      <td>0</td>\n",
       "      <td>1</td>\n",
       "      <td>0</td>\n",
       "      <td>0</td>\n",
       "      <td>0</td>\n",
       "      <td>1</td>\n",
       "      <td>...</td>\n",
       "      <td>0</td>\n",
       "      <td>3</td>\n",
       "      <td>0.147082</td>\n",
       "      <td>0.230216</td>\n",
       "      <td>0</td>\n",
       "      <td>1</td>\n",
       "      <td>1</td>\n",
       "      <td>0</td>\n",
       "      <td>1</td>\n",
       "      <td>1</td>\n",
       "    </tr>\n",
       "    <tr>\n",
       "      <th>4</th>\n",
       "      <td>31</td>\n",
       "      <td>0</td>\n",
       "      <td>1</td>\n",
       "      <td>0</td>\n",
       "      <td>0</td>\n",
       "      <td>0</td>\n",
       "      <td>1</td>\n",
       "      <td>1</td>\n",
       "      <td>0</td>\n",
       "      <td>0</td>\n",
       "      <td>...</td>\n",
       "      <td>0</td>\n",
       "      <td>2</td>\n",
       "      <td>0.596323</td>\n",
       "      <td>0.139888</td>\n",
       "      <td>0</td>\n",
       "      <td>0</td>\n",
       "      <td>0</td>\n",
       "      <td>1</td>\n",
       "      <td>1</td>\n",
       "      <td>0</td>\n",
       "    </tr>\n",
       "  </tbody>\n",
       "</table>\n",
       "<p>5 rows × 49 columns</p>\n",
       "</div>"
      ],
      "text/plain": [
       "   age  gender_female  gender_male  gender_others  benefits_Don't know  \\\n",
       "0   37              1            0              0                    0   \n",
       "1   44              0            1              0                    1   \n",
       "2   32              0            1              0                    0   \n",
       "3   31              0            1              0                    0   \n",
       "4   31              0            1              0                    0   \n",
       "\n",
       "   benefits_No  benefits_Yes  care_options_No  care_options_Not sure  \\\n",
       "0            0             1                0                      1   \n",
       "1            0             0                1                      0   \n",
       "2            1             0                1                      0   \n",
       "3            1             0                0                      0   \n",
       "4            0             1                1                      0   \n",
       "\n",
       "   care_options_Yes  ...  mental_vs_physical_Yes  leave_encoded  \\\n",
       "0                 0  ...                       1              1   \n",
       "1                 0  ...                       0              2   \n",
       "2                 0  ...                       0              3   \n",
       "3                 1  ...                       0              3   \n",
       "4                 0  ...                       0              2   \n",
       "\n",
       "   country_freq_encoded  no_employees_freq_encoded  self_employed_encoded  \\\n",
       "0              0.596323                   0.231015                      0   \n",
       "1              0.596323                   0.224620                      0   \n",
       "2              0.057554                   0.231015                      0   \n",
       "3              0.147082                   0.230216                      0   \n",
       "4              0.596323                   0.139888                      0   \n",
       "\n",
       "   family_history_encoded  treatment_encoded  remote_work_encoded  \\\n",
       "0                       0                  1                    0   \n",
       "1                       0                  0                    0   \n",
       "2                       0                  0                    0   \n",
       "3                       1                  1                    0   \n",
       "4                       0                  0                    1   \n",
       "\n",
       "   tech_company_encoded  obs_consequence_encoded  \n",
       "0                     1                        0  \n",
       "1                     0                        0  \n",
       "2                     1                        0  \n",
       "3                     1                        1  \n",
       "4                     1                        0  \n",
       "\n",
       "[5 rows x 49 columns]"
      ]
     },
     "execution_count": 335,
     "metadata": {},
     "output_type": "execute_result"
    }
   ],
   "source": [
    "df_encoded_kmeans.head()"
   ]
  },
  {
   "cell_type": "code",
   "execution_count": 336,
   "id": "c6d66d84",
   "metadata": {},
   "outputs": [],
   "source": [
    "from sklearn.preprocessing import StandardScaler\n",
    "\n",
    "scaler = StandardScaler()\n",
    "scaled_age = scaler.fit_transform(df_encoded_kmeans_age_standardized[['age']])\n",
    "df_encoded_kmeans_age_standardized['age'] = scaled_age"
   ]
  },
  {
   "cell_type": "code",
   "execution_count": 337,
   "id": "0f2acf13",
   "metadata": {},
   "outputs": [],
   "source": [
    "df_encoded_kmeans_age_standardized.head()\n",
    "df_encoded_agl_age_standardized = df_encoded_kmeans_age_standardized.copy()"
   ]
  },
  {
   "cell_type": "code",
   "execution_count": 338,
   "id": "9ba2b1fd",
   "metadata": {},
   "outputs": [
    {
     "data": {
      "text/html": [
       "<div>\n",
       "<style scoped>\n",
       "    .dataframe tbody tr th:only-of-type {\n",
       "        vertical-align: middle;\n",
       "    }\n",
       "\n",
       "    .dataframe tbody tr th {\n",
       "        vertical-align: top;\n",
       "    }\n",
       "\n",
       "    .dataframe thead th {\n",
       "        text-align: right;\n",
       "    }\n",
       "</style>\n",
       "<table border=\"1\" class=\"dataframe\">\n",
       "  <thead>\n",
       "    <tr style=\"text-align: right;\">\n",
       "      <th></th>\n",
       "      <th>age</th>\n",
       "      <th>gender</th>\n",
       "      <th>country</th>\n",
       "      <th>self_employed</th>\n",
       "      <th>family_history</th>\n",
       "      <th>treatment</th>\n",
       "      <th>no_employees</th>\n",
       "      <th>remote_work</th>\n",
       "      <th>tech_company</th>\n",
       "      <th>benefits</th>\n",
       "      <th>...</th>\n",
       "      <th>anonymity</th>\n",
       "      <th>leave</th>\n",
       "      <th>mental_health_consequence</th>\n",
       "      <th>phys_health_consequence</th>\n",
       "      <th>coworkers</th>\n",
       "      <th>supervisor</th>\n",
       "      <th>mental_health_interview</th>\n",
       "      <th>phys_health_interview</th>\n",
       "      <th>mental_vs_physical</th>\n",
       "      <th>obs_consequence</th>\n",
       "    </tr>\n",
       "  </thead>\n",
       "  <tbody>\n",
       "    <tr>\n",
       "      <th>0</th>\n",
       "      <td>37</td>\n",
       "      <td>female</td>\n",
       "      <td>United States</td>\n",
       "      <td>No</td>\n",
       "      <td>No</td>\n",
       "      <td>Yes</td>\n",
       "      <td>6-25</td>\n",
       "      <td>No</td>\n",
       "      <td>Yes</td>\n",
       "      <td>Yes</td>\n",
       "      <td>...</td>\n",
       "      <td>Yes</td>\n",
       "      <td>Somewhat easy</td>\n",
       "      <td>No</td>\n",
       "      <td>No</td>\n",
       "      <td>Some of them</td>\n",
       "      <td>Yes</td>\n",
       "      <td>No</td>\n",
       "      <td>Maybe</td>\n",
       "      <td>Yes</td>\n",
       "      <td>No</td>\n",
       "    </tr>\n",
       "    <tr>\n",
       "      <th>1</th>\n",
       "      <td>44</td>\n",
       "      <td>male</td>\n",
       "      <td>United States</td>\n",
       "      <td>No</td>\n",
       "      <td>No</td>\n",
       "      <td>No</td>\n",
       "      <td>More than 1000</td>\n",
       "      <td>No</td>\n",
       "      <td>No</td>\n",
       "      <td>Don't know</td>\n",
       "      <td>...</td>\n",
       "      <td>Don't know</td>\n",
       "      <td>Don't know</td>\n",
       "      <td>Maybe</td>\n",
       "      <td>No</td>\n",
       "      <td>No</td>\n",
       "      <td>No</td>\n",
       "      <td>No</td>\n",
       "      <td>No</td>\n",
       "      <td>Don't know</td>\n",
       "      <td>No</td>\n",
       "    </tr>\n",
       "    <tr>\n",
       "      <th>2</th>\n",
       "      <td>32</td>\n",
       "      <td>male</td>\n",
       "      <td>Canada</td>\n",
       "      <td>No</td>\n",
       "      <td>No</td>\n",
       "      <td>No</td>\n",
       "      <td>6-25</td>\n",
       "      <td>No</td>\n",
       "      <td>Yes</td>\n",
       "      <td>No</td>\n",
       "      <td>...</td>\n",
       "      <td>Don't know</td>\n",
       "      <td>Somewhat difficult</td>\n",
       "      <td>No</td>\n",
       "      <td>No</td>\n",
       "      <td>Yes</td>\n",
       "      <td>Yes</td>\n",
       "      <td>Yes</td>\n",
       "      <td>Yes</td>\n",
       "      <td>No</td>\n",
       "      <td>No</td>\n",
       "    </tr>\n",
       "    <tr>\n",
       "      <th>3</th>\n",
       "      <td>31</td>\n",
       "      <td>male</td>\n",
       "      <td>United Kingdom</td>\n",
       "      <td>No</td>\n",
       "      <td>Yes</td>\n",
       "      <td>Yes</td>\n",
       "      <td>26-100</td>\n",
       "      <td>No</td>\n",
       "      <td>Yes</td>\n",
       "      <td>No</td>\n",
       "      <td>...</td>\n",
       "      <td>No</td>\n",
       "      <td>Somewhat difficult</td>\n",
       "      <td>Yes</td>\n",
       "      <td>Yes</td>\n",
       "      <td>Some of them</td>\n",
       "      <td>No</td>\n",
       "      <td>Maybe</td>\n",
       "      <td>Maybe</td>\n",
       "      <td>No</td>\n",
       "      <td>Yes</td>\n",
       "    </tr>\n",
       "    <tr>\n",
       "      <th>4</th>\n",
       "      <td>31</td>\n",
       "      <td>male</td>\n",
       "      <td>United States</td>\n",
       "      <td>No</td>\n",
       "      <td>No</td>\n",
       "      <td>No</td>\n",
       "      <td>100-500</td>\n",
       "      <td>Yes</td>\n",
       "      <td>Yes</td>\n",
       "      <td>Yes</td>\n",
       "      <td>...</td>\n",
       "      <td>Don't know</td>\n",
       "      <td>Don't know</td>\n",
       "      <td>No</td>\n",
       "      <td>No</td>\n",
       "      <td>Some of them</td>\n",
       "      <td>Yes</td>\n",
       "      <td>Yes</td>\n",
       "      <td>Yes</td>\n",
       "      <td>Don't know</td>\n",
       "      <td>No</td>\n",
       "    </tr>\n",
       "  </tbody>\n",
       "</table>\n",
       "<p>5 rows × 23 columns</p>\n",
       "</div>"
      ],
      "text/plain": [
       "   age  gender         country self_employed family_history treatment  \\\n",
       "0   37  female   United States            No             No       Yes   \n",
       "1   44    male   United States            No             No        No   \n",
       "2   32    male          Canada            No             No        No   \n",
       "3   31    male  United Kingdom            No            Yes       Yes   \n",
       "4   31    male   United States            No             No        No   \n",
       "\n",
       "     no_employees remote_work tech_company    benefits  ...   anonymity  \\\n",
       "0            6-25          No          Yes         Yes  ...         Yes   \n",
       "1  More than 1000          No           No  Don't know  ...  Don't know   \n",
       "2            6-25          No          Yes          No  ...  Don't know   \n",
       "3          26-100          No          Yes          No  ...          No   \n",
       "4         100-500         Yes          Yes         Yes  ...  Don't know   \n",
       "\n",
       "                leave mental_health_consequence phys_health_consequence  \\\n",
       "0       Somewhat easy                        No                      No   \n",
       "1          Don't know                     Maybe                      No   \n",
       "2  Somewhat difficult                        No                      No   \n",
       "3  Somewhat difficult                       Yes                     Yes   \n",
       "4          Don't know                        No                      No   \n",
       "\n",
       "      coworkers supervisor mental_health_interview phys_health_interview  \\\n",
       "0  Some of them        Yes                      No                 Maybe   \n",
       "1            No         No                      No                    No   \n",
       "2           Yes        Yes                     Yes                   Yes   \n",
       "3  Some of them         No                   Maybe                 Maybe   \n",
       "4  Some of them        Yes                     Yes                   Yes   \n",
       "\n",
       "  mental_vs_physical obs_consequence  \n",
       "0                Yes              No  \n",
       "1         Don't know              No  \n",
       "2                 No              No  \n",
       "3                 No             Yes  \n",
       "4         Don't know              No  \n",
       "\n",
       "[5 rows x 23 columns]"
      ]
     },
     "execution_count": 338,
     "metadata": {},
     "output_type": "execute_result"
    }
   ],
   "source": [
    "df_no_encoded_kmeans = df_no_encoded_kmeans.drop('k_means', axis=1)\n",
    "df_no_encoded_kmeans.head()"
   ]
  },
  {
   "cell_type": "code",
   "execution_count": 339,
   "id": "a436dd8b",
   "metadata": {},
   "outputs": [
    {
     "name": "stdout",
     "output_type": "stream",
     "text": [
      "For n_clusters = 2 The average silhouette_score is : 0.09127906355090182\n",
      "For n_clusters = 3 The average silhouette_score is : 0.0750243635911458\n",
      "For n_clusters = 4 The average silhouette_score is : 0.0805634619950887\n",
      "For n_clusters = 5 The average silhouette_score is : 0.06972574457336936\n",
      "For n_clusters = 6 The average silhouette_score is : 0.06871391887453761\n",
      "For n_clusters = 7 The average silhouette_score is : 0.06725032550437109\n",
      "For n_clusters = 8 The average silhouette_score is : 0.06411640870214563\n",
      "For n_clusters = 9 The average silhouette_score is : 0.06517083599620259\n"
     ]
    }
   ],
   "source": [
    "distortions = []\n",
    "K = range(2,10)\n",
    "for k in K:\n",
    "    kmeanModel = KMeans(n_clusters=k)\n",
    "    cluster_label=kmeanModel.fit_predict(df_encoded_kmeans_age_standardized)\n",
    "\n",
    "    silhouette_avg = silhouette_score(df_encoded_kmeans_age_standardized, cluster_label)\n",
    "    print(\n",
    "        \"For n_clusters =\",k,\n",
    "        \"The average silhouette_score is :\",silhouette_avg,\n",
    "        )\n",
    "    \n",
    "    distortions.append(kmeanModel.inertia_)"
   ]
  },
  {
   "cell_type": "code",
   "execution_count": 340,
   "id": "5037fb88",
   "metadata": {},
   "outputs": [
    {
     "data": {
      "image/png": "[encoded data removed]",
      "text/plain": [
       "<Figure size 1152x576 with 1 Axes>"
      ]
     },
     "metadata": {
      "needs_background": "light"
     },
     "output_type": "display_data"
    }
   ],
   "source": [
    "plt.figure(figsize=(16,8))\n",
    "plt.plot(K, distortions, 'bx-')\n",
    "plt.xlabel('k')\n",
    "plt.ylabel('Distortion')\n",
    "plt.title('The Elbow Method showing the optimal k')\n",
    "plt.show()"
   ]
  },
  {
   "cell_type": "markdown",
   "id": "7db93f75",
   "metadata": {},
   "source": [
    "# Clustering: Agglomerative"
   ]
  },
  {
   "cell_type": "markdown",
   "id": "c99ce95e",
   "metadata": {},
   "source": [
    "### without age standardization"
   ]
  },
  {
   "cell_type": "code",
   "execution_count": 341,
   "id": "2a236c9a",
   "metadata": {},
   "outputs": [],
   "source": [
    "from sklearn.cluster import AgglomerativeClustering\n",
    "from sklearn.metrics import silhouette_score\n",
    "import scipy.cluster.hierarchy as shc"
   ]
  },
  {
   "cell_type": "code",
   "execution_count": 342,
   "id": "ea57787d",
   "metadata": {},
   "outputs": [
    {
     "data": {
      "image/png": "[encoded data removed]",
      "text/plain": [
       "<Figure size 720x504 with 1 Axes>"
      ]
     },
     "metadata": {
      "needs_background": "light"
     },
     "output_type": "display_data"
    }
   ],
   "source": [
    "plt.figure(figsize=(10, 7))\n",
    "plt.title(\"Dendrograms\")\n",
    "dend = shc.dendrogram(shc.linkage(df_encoded_agl, method='ward'))\n",
    "plt.show()"
   ]
  },
  {
   "cell_type": "markdown",
   "id": "dd46d9d6",
   "metadata": {},
   "source": [
    "### n = 2"
   ]
  },
  {
   "cell_type": "code",
   "execution_count": 343,
   "id": "db5531f3",
   "metadata": {},
   "outputs": [
    {
     "data": {
      "text/plain": [
       "AgglomerativeClustering()"
      ]
     },
     "execution_count": 343,
     "metadata": {},
     "output_type": "execute_result"
    }
   ],
   "source": [
    "Aglmodel = AgglomerativeClustering(n_clusters=2, affinity='euclidean')\n",
    "Aglmodel.fit(df_encoded_agl)"
   ]
  },
  {
   "cell_type": "code",
   "execution_count": 344,
   "id": "7f04da02",
   "metadata": {},
   "outputs": [],
   "source": [
    "df_encoded_agl['agl']=Aglmodel.fit_predict(df_encoded_agl)"
   ]
  },
  {
   "cell_type": "code",
   "execution_count": 345,
   "id": "66fbcca0",
   "metadata": {},
   "outputs": [
    {
     "data": {
      "text/plain": [
       "0    907\n",
       "1    344\n",
       "Name: agl, dtype: int64"
      ]
     },
     "execution_count": 345,
     "metadata": {},
     "output_type": "execute_result"
    }
   ],
   "source": [
    "df_encoded_agl['agl'].value_counts()"
   ]
  },
  {
   "cell_type": "code",
   "execution_count": 346,
   "id": "03b146b7",
   "metadata": {},
   "outputs": [
    {
     "name": "stdout",
     "output_type": "stream",
     "text": [
      "0.45619009236815256\n"
     ]
    }
   ],
   "source": [
    "silhouette_avg = silhouette_score(df_encoded_agl, Aglmodel.labels_)\n",
    "print(silhouette_avg)"
   ]
  },
  {
   "cell_type": "markdown",
   "id": "a6cd4335",
   "metadata": {},
   "source": [
    "### n = 3"
   ]
  },
  {
   "cell_type": "code",
   "execution_count": 347,
   "id": "0c488331",
   "metadata": {},
   "outputs": [
    {
     "data": {
      "text/plain": [
       "AgglomerativeClustering(n_clusters=3)"
      ]
     },
     "execution_count": 347,
     "metadata": {},
     "output_type": "execute_result"
    }
   ],
   "source": [
    "Aglmodel = AgglomerativeClustering(n_clusters=3, affinity='euclidean')\n",
    "Aglmodel.fit(df_encoded_agl)"
   ]
  },
  {
   "cell_type": "code",
   "execution_count": 348,
   "id": "2d6dd520",
   "metadata": {},
   "outputs": [],
   "source": [
    "df_encoded_agl['agl']=Aglmodel.fit_predict(df_encoded_agl)"
   ]
  },
  {
   "cell_type": "code",
   "execution_count": 349,
   "id": "00708fad",
   "metadata": {},
   "outputs": [
    {
     "data": {
      "text/plain": [
       "1    576\n",
       "0    344\n",
       "2    331\n",
       "Name: agl, dtype: int64"
      ]
     },
     "execution_count": 349,
     "metadata": {},
     "output_type": "execute_result"
    }
   ],
   "source": [
    "df_encoded_agl['agl'].value_counts()"
   ]
  },
  {
   "cell_type": "code",
   "execution_count": 350,
   "id": "deef7e14",
   "metadata": {},
   "outputs": [
    {
     "name": "stdout",
     "output_type": "stream",
     "text": [
      "0.29788936132227994\n"
     ]
    }
   ],
   "source": [
    "silhouette_avg = silhouette_score(df_encoded_agl, Aglmodel.labels_)\n",
    "print(silhouette_avg)"
   ]
  },
  {
   "cell_type": "markdown",
   "id": "be903b2f",
   "metadata": {},
   "source": [
    "### with age standardization"
   ]
  },
  {
   "cell_type": "code",
   "execution_count": 351,
   "id": "1fb53502",
   "metadata": {},
   "outputs": [
    {
     "data": {
      "image/png": "[encoded data removed]",
      "text/plain": [
       "<Figure size 720x504 with 1 Axes>"
      ]
     },
     "metadata": {
      "needs_background": "light"
     },
     "output_type": "display_data"
    }
   ],
   "source": [
    "import scipy.cluster.hierarchy as shc\n",
    "plt.figure(figsize=(10, 7))  \n",
    "plt.title(\"Dendrograms\")  \n",
    "dend = shc.dendrogram(shc.linkage(df_encoded_agl_age_standardized, method='ward'))\n",
    "plt.show()"
   ]
  },
  {
   "cell_type": "markdown",
   "id": "90ac5a4e",
   "metadata": {},
   "source": [
    "### n = 2"
   ]
  },
  {
   "cell_type": "code",
   "execution_count": 352,
   "id": "434abb16",
   "metadata": {},
   "outputs": [
    {
     "data": {
      "text/plain": [
       "AgglomerativeClustering()"
      ]
     },
     "execution_count": 352,
     "metadata": {},
     "output_type": "execute_result"
    }
   ],
   "source": [
    "Aglmodel = AgglomerativeClustering(n_clusters=2, affinity='euclidean')\n",
    "Aglmodel.fit(df_encoded_agl_age_standardized)"
   ]
  },
  {
   "cell_type": "code",
   "execution_count": 353,
   "id": "54573763",
   "metadata": {},
   "outputs": [],
   "source": [
    "df_encoded_agl_age_standardized['agl']=Aglmodel.fit_predict(df_encoded_agl_age_standardized)"
   ]
  },
  {
   "cell_type": "code",
   "execution_count": 354,
   "id": "05e92cbc",
   "metadata": {},
   "outputs": [
    {
     "data": {
      "text/plain": [
       "0    1116\n",
       "1     135\n",
       "Name: agl, dtype: int64"
      ]
     },
     "execution_count": 354,
     "metadata": {},
     "output_type": "execute_result"
    }
   ],
   "source": [
    "df_encoded_agl_age_standardized['agl'].value_counts()"
   ]
  },
  {
   "cell_type": "code",
   "execution_count": 355,
   "id": "b8c234e2",
   "metadata": {},
   "outputs": [
    {
     "name": "stdout",
     "output_type": "stream",
     "text": [
      "0.12080850144140516\n"
     ]
    }
   ],
   "source": [
    "silhouette_avg = silhouette_score(df_encoded_agl_age_standardized, Aglmodel.labels_)\n",
    "print(silhouette_avg)"
   ]
  },
  {
   "cell_type": "markdown",
   "id": "28913567",
   "metadata": {},
   "source": [
    "### n = 3"
   ]
  },
  {
   "cell_type": "code",
   "execution_count": 356,
   "id": "c3965948",
   "metadata": {},
   "outputs": [
    {
     "data": {
      "text/plain": [
       "AgglomerativeClustering(n_clusters=3)"
      ]
     },
     "execution_count": 356,
     "metadata": {},
     "output_type": "execute_result"
    }
   ],
   "source": [
    "Aglmodel = AgglomerativeClustering(n_clusters=3, affinity='euclidean')\n",
    "Aglmodel.fit(df_encoded_agl_age_standardized)"
   ]
  },
  {
   "cell_type": "code",
   "execution_count": 357,
   "id": "1a46bc9f",
   "metadata": {},
   "outputs": [],
   "source": [
    "df_encoded_agl_age_standardized['agl']=Aglmodel.fit_predict(df_encoded_agl_age_standardized)"
   ]
  },
  {
   "cell_type": "code",
   "execution_count": 358,
   "id": "c4d32de4",
   "metadata": {},
   "outputs": [
    {
     "data": {
      "text/plain": [
       "0    744\n",
       "2    372\n",
       "1    135\n",
       "Name: agl, dtype: int64"
      ]
     },
     "execution_count": 358,
     "metadata": {},
     "output_type": "execute_result"
    }
   ],
   "source": [
    "df_encoded_agl_age_standardized['agl'].value_counts()"
   ]
  },
  {
   "cell_type": "code",
   "execution_count": 359,
   "id": "4acf5542",
   "metadata": {},
   "outputs": [
    {
     "name": "stdout",
     "output_type": "stream",
     "text": [
      "0.11896813251296909\n"
     ]
    }
   ],
   "source": [
    "silhouette_avg = silhouette_score(df_encoded_agl_age_standardized, Aglmodel.labels_)\n",
    "print(silhouette_avg)"
   ]
  },
  {
   "cell_type": "markdown",
   "id": "14e30119",
   "metadata": {},
   "source": [
    "### Why is using a dataset with an age column without standardization better?"
   ]
  },
  {
   "cell_type": "code",
   "execution_count": 360,
   "id": "06171335",
   "metadata": {},
   "outputs": [
    {
     "data": {
      "text/plain": [
       "29    85\n",
       "32    82\n",
       "26    75\n",
       "27    71\n",
       "33    70\n",
       "28    68\n",
       "31    67\n",
       "34    65\n",
       "30    63\n",
       "25    61\n",
       "35    55\n",
       "23    51\n",
       "24    46\n",
       "37    43\n",
       "38    39\n",
       "36    37\n",
       "39    33\n",
       "40    33\n",
       "43    28\n",
       "41    21\n",
       "22    21\n",
       "42    20\n",
       "21    16\n",
       "45    12\n",
       "46    12\n",
       "44    11\n",
       "19     9\n",
       "18     7\n",
       "48     6\n",
       "50     6\n",
       "20     6\n",
       "51     5\n",
       "49     4\n",
       "56     4\n",
       "55     3\n",
       "57     3\n",
       "54     3\n",
       "47     2\n",
       "60     2\n",
       "58     1\n",
       "62     1\n",
       "65     1\n",
       "53     1\n",
       "61     1\n",
       "72     1\n",
       "Name: age, dtype: int64"
      ]
     },
     "execution_count": 360,
     "metadata": {},
     "output_type": "execute_result"
    }
   ],
   "source": [
    "df_encoded['age'].value_counts()"
   ]
  },
  {
   "cell_type": "markdown",
   "id": "eaf59582",
   "metadata": {},
   "source": [
    "The **`age`** column in the provided dataset exhibits a broad and relatively evenly distributed range of ages without significant outliers or clusters, encompassing individuals across various age groups. Due to this natural distribution and the lack of extreme variations in scale compared to other features, standardization might not offer substantial benefits for clustering. Algorithms sensitive to feature scales, like k-means, may not be significantly influenced by the diverse age ranges present. Standardizing 'age' could potentially obscure inherent age-related patterns, crucial for interpreting and understanding the data accurately within the context of clustering analysis. Therefore, in this dataset, the 'age' feature's inherent distribution seemingly doesn't necessitate standardization for effective clustering analysis."
   ]
  }
 ],
 "metadata": {
  "kernelspec": {
   "display_name": "Python 3 (ipykernel)",
   "language": "python",
   "name": "python3"
  },
  "language_info": {
   "codemirror_mode": {
    "name": "ipython",
    "version": 3
   },
   "file_extension": ".py",
   "mimetype": "text/x-python",
   "name": "python",
   "nbconvert_exporter": "python",
   "pygments_lexer": "ipython3",
   "version": "3.9.12"
  }
 },
 "nbformat": 4,
 "nbformat_minor": 5
}
